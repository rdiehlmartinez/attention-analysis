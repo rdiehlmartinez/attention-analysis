{
 "cells": [
  {
   "cell_type": "markdown",
   "metadata": {},
   "source": [
    "Experiment: POS predictions on large dataset\n",
    "------"
   ]
  },
  {
   "cell_type": "code",
   "execution_count": 1,
   "metadata": {
    "scrolled": true
   },
   "outputs": [],
   "source": [
    "import sys; sys.path.append('../..')\n",
    "import torch\n",
    "from bias_classification import prepare_model \n",
    "from src.utils import *\n",
    "\n",
    "%load_ext autoreload\n",
    "%autoreload 2"
   ]
  },
  {
   "cell_type": "code",
   "execution_count": 2,
   "metadata": {},
   "outputs": [
    {
     "name": "stderr",
     "output_type": "stream",
     "text": [
      "06/04/2019 19:06:06 - INFO - pytorch_pretrained_bert.tokenization -   loading vocabulary file https://s3.amazonaws.com/models.huggingface.co/bert/bert-base-uncased-vocab.txt from cache at ../../../tasks/bias_classification/results/cache/26bc1ad6c0ac742e9b52263248f6d0f00068293b33709fae12320c0e35ccfbbb.542ce4285a40d23a559526243235df47c5f75c197f04f37d1a0c124c32c9a084\n",
      "500it [00:00, 7552.08it/s]\n"
     ]
    }
   ],
   "source": [
    "params = prepare_model.intialize_params(\"experiment_params.json\")\n",
    "dataset = prepare_model.initialize_dataset(params.intermediary_task)"
   ]
  },
  {
   "cell_type": "code",
   "execution_count": 3,
   "metadata": {},
   "outputs": [
    {
     "data": {
      "text/plain": [
       "dict_keys(['pre_ids', 'masks', 'pre_lens', 'post_in_ids', 'post_out_ids', 'pre_tok_label_ids', 'post_tok_label_ids', 'rel_ids', 'pos_ids', 'categories', 'index', 'bias_label'])"
      ]
     },
     "execution_count": 3,
     "metadata": {},
     "output_type": "execute_result"
    }
   ],
   "source": [
    "# Run to print out the current key names in the dataset\n",
    "dataset.get_key_names()"
   ]
  },
  {
   "cell_type": "markdown",
   "metadata": {},
   "source": [
    "Run the cell below to reset params \n",
    "-----"
   ]
  },
  {
   "cell_type": "code",
   "execution_count": 4,
   "metadata": {},
   "outputs": [
    {
     "name": "stderr",
     "output_type": "stream",
     "text": [
      "06/04/2019 19:06:08 - INFO - pytorch_pretrained_bert.modeling -   loading archive file https://s3.amazonaws.com/models.huggingface.co/bert/bert-base-uncased.tar.gz from cache at /sailhome/rdm/.pytorch_pretrained_bert/9c41111e2de84547a463fd39217199738d1e3deb72d4fec4399e6e241983c6f0.ae3cef932725ca7a30cdcb93fc6e09150a55e2a130ec7af63975a16c153ae2ba\n",
      "06/04/2019 19:06:08 - INFO - pytorch_pretrained_bert.modeling -   extracting archive file /sailhome/rdm/.pytorch_pretrained_bert/9c41111e2de84547a463fd39217199738d1e3deb72d4fec4399e6e241983c6f0.ae3cef932725ca7a30cdcb93fc6e09150a55e2a130ec7af63975a16c153ae2ba to temp dir /tmp/tmp6qq1blfi\n",
      "06/04/2019 19:06:11 - INFO - pytorch_pretrained_bert.modeling -   Model config {\n",
      "  \"attention_probs_dropout_prob\": 0.1,\n",
      "  \"hidden_act\": \"gelu\",\n",
      "  \"hidden_dropout_prob\": 0.1,\n",
      "  \"hidden_size\": 768,\n",
      "  \"initializer_range\": 0.02,\n",
      "  \"intermediate_size\": 3072,\n",
      "  \"max_position_embeddings\": 512,\n",
      "  \"num_attention_heads\": 12,\n",
      "  \"num_hidden_layers\": 12,\n",
      "  \"type_vocab_size\": 2,\n",
      "  \"vocab_size\": 30522\n",
      "}\n",
      "\n",
      "06/04/2019 19:06:16 - INFO - pytorch_pretrained_bert.modeling -   Weights of BertForSequenceClassification not initialized from pretrained model: ['classifier.weight', 'classifier.bias']\n",
      "06/04/2019 19:06:16 - INFO - pytorch_pretrained_bert.modeling -   Weights from pretrained model not used in BertForSequenceClassification: ['cls.predictions.bias', 'cls.predictions.transform.dense.weight', 'cls.predictions.transform.dense.bias', 'cls.predictions.transform.LayerNorm.gamma', 'cls.predictions.transform.LayerNorm.beta', 'cls.predictions.decoder.weight', 'cls.seq_relationship.weight', 'cls.seq_relationship.bias']\n"
     ]
    }
   ],
   "source": [
    "#reloading classification experiment with new experiments\n",
    "params = prepare_model.intialize_params(\"experiment_params.json\") \n",
    "classification_experiment = prepare_model.initialize_classification_experiment(params.final_task)"
   ]
  },
  {
   "cell_type": "code",
   "execution_count": 5,
   "metadata": {},
   "outputs": [
    {
     "name": "stdout",
     "output_type": "stream",
     "text": [
      "{'model': 'bert_basic_uncased_sequence', 'output_dim': 1, 'data_split': {'train_split': 0.7, 'eval_split': 0.3, 'test_split': 0}, 'training_params': {'optimizer': 'adam', 'loss': 'bce_with_logits', 'num_epochs': 100, 'batch_size': 16, 'lr': 0.001}}\n"
     ]
    }
   ],
   "source": [
    "params = prepare_model.intialize_params(\"experiment_params.json\") \n",
    "print(params.final_task)"
   ]
  },
  {
   "cell_type": "markdown",
   "metadata": {},
   "source": [
    "Boostrapping procedure "
   ]
  },
  {
   "cell_type": "code",
   "execution_count": 8,
   "metadata": {},
   "outputs": [
    {
     "data": {
      "application/vnd.jupyter.widget-view+json": {
       "model_id": "84db390e0c904c6eba8750d39bead17c",
       "version_major": 2,
       "version_minor": 0
      },
      "text/plain": [
       "HBox(children=(IntProgress(value=0, description='Bootstrapping', max=20, style=ProgressStyle(description_width…"
      ]
     },
     "metadata": {},
     "output_type": "display_data"
    },
    {
     "data": {
      "application/vnd.jupyter.widget-view+json": {
       "model_id": "",
       "version_major": 2,
       "version_minor": 0
      },
      "text/plain": [
       "HBox(children=(IntProgress(value=0, description='epoch training', style=ProgressStyle(description_width='initi…"
      ]
     },
     "metadata": {},
     "output_type": "display_data"
    },
    {
     "data": {
      "application/vnd.jupyter.widget-view+json": {
       "model_id": "",
       "version_major": 2,
       "version_minor": 0
      },
      "text/plain": [
       "HBox(children=(IntProgress(value=0, description='epoch training', style=ProgressStyle(description_width='initi…"
      ]
     },
     "metadata": {},
     "output_type": "display_data"
    },
    {
     "data": {
      "application/vnd.jupyter.widget-view+json": {
       "model_id": "",
       "version_major": 2,
       "version_minor": 0
      },
      "text/plain": [
       "HBox(children=(IntProgress(value=0, description='epoch training', style=ProgressStyle(description_width='initi…"
      ]
     },
     "metadata": {},
     "output_type": "display_data"
    },
    {
     "data": {
      "application/vnd.jupyter.widget-view+json": {
       "model_id": "",
       "version_major": 2,
       "version_minor": 0
      },
      "text/plain": [
       "HBox(children=(IntProgress(value=0, description='epoch training', style=ProgressStyle(description_width='initi…"
      ]
     },
     "metadata": {},
     "output_type": "display_data"
    },
    {
     "data": {
      "application/vnd.jupyter.widget-view+json": {
       "model_id": "",
       "version_major": 2,
       "version_minor": 0
      },
      "text/plain": [
       "HBox(children=(IntProgress(value=0, description='epoch training', style=ProgressStyle(description_width='initi…"
      ]
     },
     "metadata": {},
     "output_type": "display_data"
    },
    {
     "data": {
      "application/vnd.jupyter.widget-view+json": {
       "model_id": "",
       "version_major": 2,
       "version_minor": 0
      },
      "text/plain": [
       "HBox(children=(IntProgress(value=0, description='epoch training', style=ProgressStyle(description_width='initi…"
      ]
     },
     "metadata": {},
     "output_type": "display_data"
    },
    {
     "data": {
      "application/vnd.jupyter.widget-view+json": {
       "model_id": "",
       "version_major": 2,
       "version_minor": 0
      },
      "text/plain": [
       "HBox(children=(IntProgress(value=0, description='epoch training', style=ProgressStyle(description_width='initi…"
      ]
     },
     "metadata": {},
     "output_type": "display_data"
    },
    {
     "data": {
      "application/vnd.jupyter.widget-view+json": {
       "model_id": "",
       "version_major": 2,
       "version_minor": 0
      },
      "text/plain": [
       "HBox(children=(IntProgress(value=0, description='epoch training', style=ProgressStyle(description_width='initi…"
      ]
     },
     "metadata": {},
     "output_type": "display_data"
    },
    {
     "data": {
      "application/vnd.jupyter.widget-view+json": {
       "model_id": "",
       "version_major": 2,
       "version_minor": 0
      },
      "text/plain": [
       "HBox(children=(IntProgress(value=0, description='epoch training', style=ProgressStyle(description_width='initi…"
      ]
     },
     "metadata": {},
     "output_type": "display_data"
    },
    {
     "data": {
      "application/vnd.jupyter.widget-view+json": {
       "model_id": "",
       "version_major": 2,
       "version_minor": 0
      },
      "text/plain": [
       "HBox(children=(IntProgress(value=0, description='epoch training', style=ProgressStyle(description_width='initi…"
      ]
     },
     "metadata": {},
     "output_type": "display_data"
    },
    {
     "data": {
      "application/vnd.jupyter.widget-view+json": {
       "model_id": "",
       "version_major": 2,
       "version_minor": 0
      },
      "text/plain": [
       "HBox(children=(IntProgress(value=0, description='epoch training', style=ProgressStyle(description_width='initi…"
      ]
     },
     "metadata": {},
     "output_type": "display_data"
    },
    {
     "data": {
      "application/vnd.jupyter.widget-view+json": {
       "model_id": "",
       "version_major": 2,
       "version_minor": 0
      },
      "text/plain": [
       "HBox(children=(IntProgress(value=0, description='epoch training', style=ProgressStyle(description_width='initi…"
      ]
     },
     "metadata": {},
     "output_type": "display_data"
    },
    {
     "data": {
      "application/vnd.jupyter.widget-view+json": {
       "model_id": "",
       "version_major": 2,
       "version_minor": 0
      },
      "text/plain": [
       "HBox(children=(IntProgress(value=0, description='epoch training', style=ProgressStyle(description_width='initi…"
      ]
     },
     "metadata": {},
     "output_type": "display_data"
    },
    {
     "data": {
      "application/vnd.jupyter.widget-view+json": {
       "model_id": "",
       "version_major": 2,
       "version_minor": 0
      },
      "text/plain": [
       "HBox(children=(IntProgress(value=0, description='epoch training', style=ProgressStyle(description_width='initi…"
      ]
     },
     "metadata": {},
     "output_type": "display_data"
    },
    {
     "data": {
      "application/vnd.jupyter.widget-view+json": {
       "model_id": "",
       "version_major": 2,
       "version_minor": 0
      },
      "text/plain": [
       "HBox(children=(IntProgress(value=0, description='epoch training', style=ProgressStyle(description_width='initi…"
      ]
     },
     "metadata": {},
     "output_type": "display_data"
    },
    {
     "data": {
      "application/vnd.jupyter.widget-view+json": {
       "model_id": "",
       "version_major": 2,
       "version_minor": 0
      },
      "text/plain": [
       "HBox(children=(IntProgress(value=0, description='epoch training', style=ProgressStyle(description_width='initi…"
      ]
     },
     "metadata": {},
     "output_type": "display_data"
    },
    {
     "data": {
      "application/vnd.jupyter.widget-view+json": {
       "model_id": "",
       "version_major": 2,
       "version_minor": 0
      },
      "text/plain": [
       "HBox(children=(IntProgress(value=0, description='epoch training', style=ProgressStyle(description_width='initi…"
      ]
     },
     "metadata": {},
     "output_type": "display_data"
    },
    {
     "data": {
      "application/vnd.jupyter.widget-view+json": {
       "model_id": "",
       "version_major": 2,
       "version_minor": 0
      },
      "text/plain": [
       "HBox(children=(IntProgress(value=0, description='epoch training', style=ProgressStyle(description_width='initi…"
      ]
     },
     "metadata": {},
     "output_type": "display_data"
    },
    {
     "data": {
      "application/vnd.jupyter.widget-view+json": {
       "model_id": "",
       "version_major": 2,
       "version_minor": 0
      },
      "text/plain": [
       "HBox(children=(IntProgress(value=0, description='epoch training', style=ProgressStyle(description_width='initi…"
      ]
     },
     "metadata": {},
     "output_type": "display_data"
    },
    {
     "data": {
      "application/vnd.jupyter.widget-view+json": {
       "model_id": "",
       "version_major": 2,
       "version_minor": 0
      },
      "text/plain": [
       "HBox(children=(IntProgress(value=0, description='epoch training', style=ProgressStyle(description_width='initi…"
      ]
     },
     "metadata": {},
     "output_type": "display_data"
    },
    {
     "name": "stdout",
     "output_type": "stream",
     "text": [
      "\n"
     ]
    }
   ],
   "source": [
    "bert_args = {'attention_mask_key': 'masks', 'num_bootstrap_iters':20}\n",
    "statistics = run_boostrapping(classification_experiment, dataset, params, input_key='pre_ids', label_key='bias_label', threshold=0.42, **bert_args)"
   ]
  },
  {
   "cell_type": "code",
   "execution_count": 7,
   "metadata": {},
   "outputs": [
    {
     "data": {
      "text/plain": [
       "{'auc': [(0.5300391671820243, 0.5533948591091449), 0.5417170131455846],\n",
       " 'accuracy': [(0.58125, 0.6151785714285715), 0.5982142857142858]}"
      ]
     },
     "execution_count": 7,
     "metadata": {},
     "output_type": "execute_result"
    }
   ],
   "source": [
    "statistics"
   ]
  },
  {
   "cell_type": "markdown",
   "metadata": {},
   "source": [
    "New run "
   ]
  },
  {
   "cell_type": "code",
   "execution_count": 35,
   "metadata": {},
   "outputs": [],
   "source": [
    "#reloading classification experiment with new experiments\n",
    "params = prepare_model.intialize_params(\"experiment_params.json\") \n",
    "classification_experiment = prepare_model.initialize_classification_experiment(params.final_task)"
   ]
  },
  {
   "cell_type": "code",
   "execution_count": 36,
   "metadata": {
    "scrolled": true
   },
   "outputs": [
    {
     "name": "stdout",
     "output_type": "stream",
     "text": [
      "{'model': 'shallow_nn', 'window_size': 5, 'input_dim': 11, 'hidden_dim': 3, 'output_dim': 1, 'data_split': {'train_split': 0.7, 'eval_split': 0.3, 'test_split': 0}, 'training_params': {'optimizer': 'adam', 'loss': 'bce_with_logits', 'num_epochs': 200, 'batch_size': 32, 'lr': 0.01}}\n"
     ]
    }
   ],
   "source": [
    "print(params.final_task)"
   ]
  },
  {
   "cell_type": "markdown",
   "metadata": {},
   "source": [
    "Boostrapping procedure "
   ]
  },
  {
   "cell_type": "code",
   "execution_count": 37,
   "metadata": {},
   "outputs": [
    {
     "data": {
      "application/vnd.jupyter.widget-view+json": {
       "model_id": "795c745c8f3e45f69f1120e2910becc4",
       "version_major": 2,
       "version_minor": 0
      },
      "text/plain": [
       "HBox(children=(IntProgress(value=0, description='Bootstrapping', style=ProgressStyle(description_width='initia…"
      ]
     },
     "metadata": {},
     "output_type": "display_data"
    },
    {
     "data": {
      "application/vnd.jupyter.widget-view+json": {
       "model_id": "",
       "version_major": 2,
       "version_minor": 0
      },
      "text/plain": [
       "HBox(children=(IntProgress(value=0, description='epoch training', max=200, style=ProgressStyle(description_wid…"
      ]
     },
     "metadata": {},
     "output_type": "display_data"
    },
    {
     "data": {
      "application/vnd.jupyter.widget-view+json": {
       "model_id": "",
       "version_major": 2,
       "version_minor": 0
      },
      "text/plain": [
       "HBox(children=(IntProgress(value=0, description='epoch training', max=200, style=ProgressStyle(description_wid…"
      ]
     },
     "metadata": {},
     "output_type": "display_data"
    },
    {
     "data": {
      "application/vnd.jupyter.widget-view+json": {
       "model_id": "",
       "version_major": 2,
       "version_minor": 0
      },
      "text/plain": [
       "HBox(children=(IntProgress(value=0, description='epoch training', max=200, style=ProgressStyle(description_wid…"
      ]
     },
     "metadata": {},
     "output_type": "display_data"
    },
    {
     "data": {
      "application/vnd.jupyter.widget-view+json": {
       "model_id": "",
       "version_major": 2,
       "version_minor": 0
      },
      "text/plain": [
       "HBox(children=(IntProgress(value=0, description='epoch training', max=200, style=ProgressStyle(description_wid…"
      ]
     },
     "metadata": {},
     "output_type": "display_data"
    },
    {
     "data": {
      "application/vnd.jupyter.widget-view+json": {
       "model_id": "",
       "version_major": 2,
       "version_minor": 0
      },
      "text/plain": [
       "HBox(children=(IntProgress(value=0, description='epoch training', max=200, style=ProgressStyle(description_wid…"
      ]
     },
     "metadata": {},
     "output_type": "display_data"
    },
    {
     "data": {
      "application/vnd.jupyter.widget-view+json": {
       "model_id": "",
       "version_major": 2,
       "version_minor": 0
      },
      "text/plain": [
       "HBox(children=(IntProgress(value=0, description='epoch training', max=200, style=ProgressStyle(description_wid…"
      ]
     },
     "metadata": {},
     "output_type": "display_data"
    },
    {
     "data": {
      "application/vnd.jupyter.widget-view+json": {
       "model_id": "",
       "version_major": 2,
       "version_minor": 0
      },
      "text/plain": [
       "HBox(children=(IntProgress(value=0, description='epoch training', max=200, style=ProgressStyle(description_wid…"
      ]
     },
     "metadata": {},
     "output_type": "display_data"
    },
    {
     "data": {
      "application/vnd.jupyter.widget-view+json": {
       "model_id": "",
       "version_major": 2,
       "version_minor": 0
      },
      "text/plain": [
       "HBox(children=(IntProgress(value=0, description='epoch training', max=200, style=ProgressStyle(description_wid…"
      ]
     },
     "metadata": {},
     "output_type": "display_data"
    },
    {
     "data": {
      "application/vnd.jupyter.widget-view+json": {
       "model_id": "",
       "version_major": 2,
       "version_minor": 0
      },
      "text/plain": [
       "HBox(children=(IntProgress(value=0, description='epoch training', max=200, style=ProgressStyle(description_wid…"
      ]
     },
     "metadata": {},
     "output_type": "display_data"
    },
    {
     "data": {
      "application/vnd.jupyter.widget-view+json": {
       "model_id": "",
       "version_major": 2,
       "version_minor": 0
      },
      "text/plain": [
       "HBox(children=(IntProgress(value=0, description='epoch training', max=200, style=ProgressStyle(description_wid…"
      ]
     },
     "metadata": {},
     "output_type": "display_data"
    },
    {
     "data": {
      "application/vnd.jupyter.widget-view+json": {
       "model_id": "",
       "version_major": 2,
       "version_minor": 0
      },
      "text/plain": [
       "HBox(children=(IntProgress(value=0, description='epoch training', max=200, style=ProgressStyle(description_wid…"
      ]
     },
     "metadata": {},
     "output_type": "display_data"
    },
    {
     "data": {
      "application/vnd.jupyter.widget-view+json": {
       "model_id": "",
       "version_major": 2,
       "version_minor": 0
      },
      "text/plain": [
       "HBox(children=(IntProgress(value=0, description='epoch training', max=200, style=ProgressStyle(description_wid…"
      ]
     },
     "metadata": {},
     "output_type": "display_data"
    },
    {
     "data": {
      "application/vnd.jupyter.widget-view+json": {
       "model_id": "",
       "version_major": 2,
       "version_minor": 0
      },
      "text/plain": [
       "HBox(children=(IntProgress(value=0, description='epoch training', max=200, style=ProgressStyle(description_wid…"
      ]
     },
     "metadata": {},
     "output_type": "display_data"
    },
    {
     "data": {
      "application/vnd.jupyter.widget-view+json": {
       "model_id": "",
       "version_major": 2,
       "version_minor": 0
      },
      "text/plain": [
       "HBox(children=(IntProgress(value=0, description='epoch training', max=200, style=ProgressStyle(description_wid…"
      ]
     },
     "metadata": {},
     "output_type": "display_data"
    },
    {
     "data": {
      "application/vnd.jupyter.widget-view+json": {
       "model_id": "",
       "version_major": 2,
       "version_minor": 0
      },
      "text/plain": [
       "HBox(children=(IntProgress(value=0, description='epoch training', max=200, style=ProgressStyle(description_wid…"
      ]
     },
     "metadata": {},
     "output_type": "display_data"
    },
    {
     "data": {
      "application/vnd.jupyter.widget-view+json": {
       "model_id": "",
       "version_major": 2,
       "version_minor": 0
      },
      "text/plain": [
       "HBox(children=(IntProgress(value=0, description='epoch training', max=200, style=ProgressStyle(description_wid…"
      ]
     },
     "metadata": {},
     "output_type": "display_data"
    },
    {
     "data": {
      "application/vnd.jupyter.widget-view+json": {
       "model_id": "",
       "version_major": 2,
       "version_minor": 0
      },
      "text/plain": [
       "HBox(children=(IntProgress(value=0, description='epoch training', max=200, style=ProgressStyle(description_wid…"
      ]
     },
     "metadata": {},
     "output_type": "display_data"
    },
    {
     "data": {
      "application/vnd.jupyter.widget-view+json": {
       "model_id": "",
       "version_major": 2,
       "version_minor": 0
      },
      "text/plain": [
       "HBox(children=(IntProgress(value=0, description='epoch training', max=200, style=ProgressStyle(description_wid…"
      ]
     },
     "metadata": {},
     "output_type": "display_data"
    },
    {
     "data": {
      "application/vnd.jupyter.widget-view+json": {
       "model_id": "",
       "version_major": 2,
       "version_minor": 0
      },
      "text/plain": [
       "HBox(children=(IntProgress(value=0, description='epoch training', max=200, style=ProgressStyle(description_wid…"
      ]
     },
     "metadata": {},
     "output_type": "display_data"
    },
    {
     "data": {
      "application/vnd.jupyter.widget-view+json": {
       "model_id": "",
       "version_major": 2,
       "version_minor": 0
      },
      "text/plain": [
       "HBox(children=(IntProgress(value=0, description='epoch training', max=200, style=ProgressStyle(description_wid…"
      ]
     },
     "metadata": {},
     "output_type": "display_data"
    },
    {
     "data": {
      "application/vnd.jupyter.widget-view+json": {
       "model_id": "",
       "version_major": 2,
       "version_minor": 0
      },
      "text/plain": [
       "HBox(children=(IntProgress(value=0, description='epoch training', max=200, style=ProgressStyle(description_wid…"
      ]
     },
     "metadata": {},
     "output_type": "display_data"
    },
    {
     "data": {
      "application/vnd.jupyter.widget-view+json": {
       "model_id": "",
       "version_major": 2,
       "version_minor": 0
      },
      "text/plain": [
       "HBox(children=(IntProgress(value=0, description='epoch training', max=200, style=ProgressStyle(description_wid…"
      ]
     },
     "metadata": {},
     "output_type": "display_data"
    },
    {
     "data": {
      "application/vnd.jupyter.widget-view+json": {
       "model_id": "",
       "version_major": 2,
       "version_minor": 0
      },
      "text/plain": [
       "HBox(children=(IntProgress(value=0, description='epoch training', max=200, style=ProgressStyle(description_wid…"
      ]
     },
     "metadata": {},
     "output_type": "display_data"
    },
    {
     "data": {
      "application/vnd.jupyter.widget-view+json": {
       "model_id": "",
       "version_major": 2,
       "version_minor": 0
      },
      "text/plain": [
       "HBox(children=(IntProgress(value=0, description='epoch training', max=200, style=ProgressStyle(description_wid…"
      ]
     },
     "metadata": {},
     "output_type": "display_data"
    },
    {
     "data": {
      "application/vnd.jupyter.widget-view+json": {
       "model_id": "",
       "version_major": 2,
       "version_minor": 0
      },
      "text/plain": [
       "HBox(children=(IntProgress(value=0, description='epoch training', max=200, style=ProgressStyle(description_wid…"
      ]
     },
     "metadata": {},
     "output_type": "display_data"
    },
    {
     "data": {
      "application/vnd.jupyter.widget-view+json": {
       "model_id": "",
       "version_major": 2,
       "version_minor": 0
      },
      "text/plain": [
       "HBox(children=(IntProgress(value=0, description='epoch training', max=200, style=ProgressStyle(description_wid…"
      ]
     },
     "metadata": {},
     "output_type": "display_data"
    },
    {
     "data": {
      "application/vnd.jupyter.widget-view+json": {
       "model_id": "",
       "version_major": 2,
       "version_minor": 0
      },
      "text/plain": [
       "HBox(children=(IntProgress(value=0, description='epoch training', max=200, style=ProgressStyle(description_wid…"
      ]
     },
     "metadata": {},
     "output_type": "display_data"
    },
    {
     "data": {
      "application/vnd.jupyter.widget-view+json": {
       "model_id": "",
       "version_major": 2,
       "version_minor": 0
      },
      "text/plain": [
       "HBox(children=(IntProgress(value=0, description='epoch training', max=200, style=ProgressStyle(description_wid…"
      ]
     },
     "metadata": {},
     "output_type": "display_data"
    },
    {
     "data": {
      "application/vnd.jupyter.widget-view+json": {
       "model_id": "",
       "version_major": 2,
       "version_minor": 0
      },
      "text/plain": [
       "HBox(children=(IntProgress(value=0, description='epoch training', max=200, style=ProgressStyle(description_wid…"
      ]
     },
     "metadata": {},
     "output_type": "display_data"
    },
    {
     "data": {
      "application/vnd.jupyter.widget-view+json": {
       "model_id": "",
       "version_major": 2,
       "version_minor": 0
      },
      "text/plain": [
       "HBox(children=(IntProgress(value=0, description='epoch training', max=200, style=ProgressStyle(description_wid…"
      ]
     },
     "metadata": {},
     "output_type": "display_data"
    },
    {
     "data": {
      "application/vnd.jupyter.widget-view+json": {
       "model_id": "",
       "version_major": 2,
       "version_minor": 0
      },
      "text/plain": [
       "HBox(children=(IntProgress(value=0, description='epoch training', max=200, style=ProgressStyle(description_wid…"
      ]
     },
     "metadata": {},
     "output_type": "display_data"
    },
    {
     "data": {
      "application/vnd.jupyter.widget-view+json": {
       "model_id": "",
       "version_major": 2,
       "version_minor": 0
      },
      "text/plain": [
       "HBox(children=(IntProgress(value=0, description='epoch training', max=200, style=ProgressStyle(description_wid…"
      ]
     },
     "metadata": {},
     "output_type": "display_data"
    },
    {
     "data": {
      "application/vnd.jupyter.widget-view+json": {
       "model_id": "",
       "version_major": 2,
       "version_minor": 0
      },
      "text/plain": [
       "HBox(children=(IntProgress(value=0, description='epoch training', max=200, style=ProgressStyle(description_wid…"
      ]
     },
     "metadata": {},
     "output_type": "display_data"
    },
    {
     "data": {
      "application/vnd.jupyter.widget-view+json": {
       "model_id": "",
       "version_major": 2,
       "version_minor": 0
      },
      "text/plain": [
       "HBox(children=(IntProgress(value=0, description='epoch training', max=200, style=ProgressStyle(description_wid…"
      ]
     },
     "metadata": {},
     "output_type": "display_data"
    },
    {
     "data": {
      "application/vnd.jupyter.widget-view+json": {
       "model_id": "",
       "version_major": 2,
       "version_minor": 0
      },
      "text/plain": [
       "HBox(children=(IntProgress(value=0, description='epoch training', max=200, style=ProgressStyle(description_wid…"
      ]
     },
     "metadata": {},
     "output_type": "display_data"
    },
    {
     "data": {
      "application/vnd.jupyter.widget-view+json": {
       "model_id": "",
       "version_major": 2,
       "version_minor": 0
      },
      "text/plain": [
       "HBox(children=(IntProgress(value=0, description='epoch training', max=200, style=ProgressStyle(description_wid…"
      ]
     },
     "metadata": {},
     "output_type": "display_data"
    },
    {
     "data": {
      "application/vnd.jupyter.widget-view+json": {
       "model_id": "",
       "version_major": 2,
       "version_minor": 0
      },
      "text/plain": [
       "HBox(children=(IntProgress(value=0, description='epoch training', max=200, style=ProgressStyle(description_wid…"
      ]
     },
     "metadata": {},
     "output_type": "display_data"
    },
    {
     "data": {
      "application/vnd.jupyter.widget-view+json": {
       "model_id": "",
       "version_major": 2,
       "version_minor": 0
      },
      "text/plain": [
       "HBox(children=(IntProgress(value=0, description='epoch training', max=200, style=ProgressStyle(description_wid…"
      ]
     },
     "metadata": {},
     "output_type": "display_data"
    },
    {
     "data": {
      "application/vnd.jupyter.widget-view+json": {
       "model_id": "",
       "version_major": 2,
       "version_minor": 0
      },
      "text/plain": [
       "HBox(children=(IntProgress(value=0, description='epoch training', max=200, style=ProgressStyle(description_wid…"
      ]
     },
     "metadata": {},
     "output_type": "display_data"
    },
    {
     "data": {
      "application/vnd.jupyter.widget-view+json": {
       "model_id": "",
       "version_major": 2,
       "version_minor": 0
      },
      "text/plain": [
       "HBox(children=(IntProgress(value=0, description='epoch training', max=200, style=ProgressStyle(description_wid…"
      ]
     },
     "metadata": {},
     "output_type": "display_data"
    },
    {
     "data": {
      "application/vnd.jupyter.widget-view+json": {
       "model_id": "",
       "version_major": 2,
       "version_minor": 0
      },
      "text/plain": [
       "HBox(children=(IntProgress(value=0, description='epoch training', max=200, style=ProgressStyle(description_wid…"
      ]
     },
     "metadata": {},
     "output_type": "display_data"
    },
    {
     "data": {
      "application/vnd.jupyter.widget-view+json": {
       "model_id": "",
       "version_major": 2,
       "version_minor": 0
      },
      "text/plain": [
       "HBox(children=(IntProgress(value=0, description='epoch training', max=200, style=ProgressStyle(description_wid…"
      ]
     },
     "metadata": {},
     "output_type": "display_data"
    },
    {
     "data": {
      "application/vnd.jupyter.widget-view+json": {
       "model_id": "",
       "version_major": 2,
       "version_minor": 0
      },
      "text/plain": [
       "HBox(children=(IntProgress(value=0, description='epoch training', max=200, style=ProgressStyle(description_wid…"
      ]
     },
     "metadata": {},
     "output_type": "display_data"
    },
    {
     "data": {
      "application/vnd.jupyter.widget-view+json": {
       "model_id": "",
       "version_major": 2,
       "version_minor": 0
      },
      "text/plain": [
       "HBox(children=(IntProgress(value=0, description='epoch training', max=200, style=ProgressStyle(description_wid…"
      ]
     },
     "metadata": {},
     "output_type": "display_data"
    },
    {
     "data": {
      "application/vnd.jupyter.widget-view+json": {
       "model_id": "",
       "version_major": 2,
       "version_minor": 0
      },
      "text/plain": [
       "HBox(children=(IntProgress(value=0, description='epoch training', max=200, style=ProgressStyle(description_wid…"
      ]
     },
     "metadata": {},
     "output_type": "display_data"
    },
    {
     "data": {
      "application/vnd.jupyter.widget-view+json": {
       "model_id": "",
       "version_major": 2,
       "version_minor": 0
      },
      "text/plain": [
       "HBox(children=(IntProgress(value=0, description='epoch training', max=200, style=ProgressStyle(description_wid…"
      ]
     },
     "metadata": {},
     "output_type": "display_data"
    },
    {
     "data": {
      "application/vnd.jupyter.widget-view+json": {
       "model_id": "",
       "version_major": 2,
       "version_minor": 0
      },
      "text/plain": [
       "HBox(children=(IntProgress(value=0, description='epoch training', max=200, style=ProgressStyle(description_wid…"
      ]
     },
     "metadata": {},
     "output_type": "display_data"
    },
    {
     "data": {
      "application/vnd.jupyter.widget-view+json": {
       "model_id": "",
       "version_major": 2,
       "version_minor": 0
      },
      "text/plain": [
       "HBox(children=(IntProgress(value=0, description='epoch training', max=200, style=ProgressStyle(description_wid…"
      ]
     },
     "metadata": {},
     "output_type": "display_data"
    },
    {
     "data": {
      "application/vnd.jupyter.widget-view+json": {
       "model_id": "",
       "version_major": 2,
       "version_minor": 0
      },
      "text/plain": [
       "HBox(children=(IntProgress(value=0, description='epoch training', max=200, style=ProgressStyle(description_wid…"
      ]
     },
     "metadata": {},
     "output_type": "display_data"
    },
    {
     "data": {
      "application/vnd.jupyter.widget-view+json": {
       "model_id": "",
       "version_major": 2,
       "version_minor": 0
      },
      "text/plain": [
       "HBox(children=(IntProgress(value=0, description='epoch training', max=200, style=ProgressStyle(description_wid…"
      ]
     },
     "metadata": {},
     "output_type": "display_data"
    },
    {
     "data": {
      "application/vnd.jupyter.widget-view+json": {
       "model_id": "",
       "version_major": 2,
       "version_minor": 0
      },
      "text/plain": [
       "HBox(children=(IntProgress(value=0, description='epoch training', max=200, style=ProgressStyle(description_wid…"
      ]
     },
     "metadata": {},
     "output_type": "display_data"
    },
    {
     "data": {
      "application/vnd.jupyter.widget-view+json": {
       "model_id": "",
       "version_major": 2,
       "version_minor": 0
      },
      "text/plain": [
       "HBox(children=(IntProgress(value=0, description='epoch training', max=200, style=ProgressStyle(description_wid…"
      ]
     },
     "metadata": {},
     "output_type": "display_data"
    },
    {
     "data": {
      "application/vnd.jupyter.widget-view+json": {
       "model_id": "",
       "version_major": 2,
       "version_minor": 0
      },
      "text/plain": [
       "HBox(children=(IntProgress(value=0, description='epoch training', max=200, style=ProgressStyle(description_wid…"
      ]
     },
     "metadata": {},
     "output_type": "display_data"
    },
    {
     "data": {
      "application/vnd.jupyter.widget-view+json": {
       "model_id": "",
       "version_major": 2,
       "version_minor": 0
      },
      "text/plain": [
       "HBox(children=(IntProgress(value=0, description='epoch training', max=200, style=ProgressStyle(description_wid…"
      ]
     },
     "metadata": {},
     "output_type": "display_data"
    },
    {
     "data": {
      "application/vnd.jupyter.widget-view+json": {
       "model_id": "",
       "version_major": 2,
       "version_minor": 0
      },
      "text/plain": [
       "HBox(children=(IntProgress(value=0, description='epoch training', max=200, style=ProgressStyle(description_wid…"
      ]
     },
     "metadata": {},
     "output_type": "display_data"
    },
    {
     "data": {
      "application/vnd.jupyter.widget-view+json": {
       "model_id": "",
       "version_major": 2,
       "version_minor": 0
      },
      "text/plain": [
       "HBox(children=(IntProgress(value=0, description='epoch training', max=200, style=ProgressStyle(description_wid…"
      ]
     },
     "metadata": {},
     "output_type": "display_data"
    },
    {
     "data": {
      "application/vnd.jupyter.widget-view+json": {
       "model_id": "",
       "version_major": 2,
       "version_minor": 0
      },
      "text/plain": [
       "HBox(children=(IntProgress(value=0, description='epoch training', max=200, style=ProgressStyle(description_wid…"
      ]
     },
     "metadata": {},
     "output_type": "display_data"
    },
    {
     "data": {
      "application/vnd.jupyter.widget-view+json": {
       "model_id": "",
       "version_major": 2,
       "version_minor": 0
      },
      "text/plain": [
       "HBox(children=(IntProgress(value=0, description='epoch training', max=200, style=ProgressStyle(description_wid…"
      ]
     },
     "metadata": {},
     "output_type": "display_data"
    },
    {
     "data": {
      "application/vnd.jupyter.widget-view+json": {
       "model_id": "",
       "version_major": 2,
       "version_minor": 0
      },
      "text/plain": [
       "HBox(children=(IntProgress(value=0, description='epoch training', max=200, style=ProgressStyle(description_wid…"
      ]
     },
     "metadata": {},
     "output_type": "display_data"
    },
    {
     "data": {
      "application/vnd.jupyter.widget-view+json": {
       "model_id": "",
       "version_major": 2,
       "version_minor": 0
      },
      "text/plain": [
       "HBox(children=(IntProgress(value=0, description='epoch training', max=200, style=ProgressStyle(description_wid…"
      ]
     },
     "metadata": {},
     "output_type": "display_data"
    },
    {
     "data": {
      "application/vnd.jupyter.widget-view+json": {
       "model_id": "",
       "version_major": 2,
       "version_minor": 0
      },
      "text/plain": [
       "HBox(children=(IntProgress(value=0, description='epoch training', max=200, style=ProgressStyle(description_wid…"
      ]
     },
     "metadata": {},
     "output_type": "display_data"
    },
    {
     "data": {
      "application/vnd.jupyter.widget-view+json": {
       "model_id": "",
       "version_major": 2,
       "version_minor": 0
      },
      "text/plain": [
       "HBox(children=(IntProgress(value=0, description='epoch training', max=200, style=ProgressStyle(description_wid…"
      ]
     },
     "metadata": {},
     "output_type": "display_data"
    },
    {
     "data": {
      "application/vnd.jupyter.widget-view+json": {
       "model_id": "",
       "version_major": 2,
       "version_minor": 0
      },
      "text/plain": [
       "HBox(children=(IntProgress(value=0, description='epoch training', max=200, style=ProgressStyle(description_wid…"
      ]
     },
     "metadata": {},
     "output_type": "display_data"
    },
    {
     "data": {
      "application/vnd.jupyter.widget-view+json": {
       "model_id": "",
       "version_major": 2,
       "version_minor": 0
      },
      "text/plain": [
       "HBox(children=(IntProgress(value=0, description='epoch training', max=200, style=ProgressStyle(description_wid…"
      ]
     },
     "metadata": {},
     "output_type": "display_data"
    },
    {
     "data": {
      "application/vnd.jupyter.widget-view+json": {
       "model_id": "",
       "version_major": 2,
       "version_minor": 0
      },
      "text/plain": [
       "HBox(children=(IntProgress(value=0, description='epoch training', max=200, style=ProgressStyle(description_wid…"
      ]
     },
     "metadata": {},
     "output_type": "display_data"
    },
    {
     "data": {
      "application/vnd.jupyter.widget-view+json": {
       "model_id": "",
       "version_major": 2,
       "version_minor": 0
      },
      "text/plain": [
       "HBox(children=(IntProgress(value=0, description='epoch training', max=200, style=ProgressStyle(description_wid…"
      ]
     },
     "metadata": {},
     "output_type": "display_data"
    },
    {
     "data": {
      "application/vnd.jupyter.widget-view+json": {
       "model_id": "",
       "version_major": 2,
       "version_minor": 0
      },
      "text/plain": [
       "HBox(children=(IntProgress(value=0, description='epoch training', max=200, style=ProgressStyle(description_wid…"
      ]
     },
     "metadata": {},
     "output_type": "display_data"
    },
    {
     "data": {
      "application/vnd.jupyter.widget-view+json": {
       "model_id": "",
       "version_major": 2,
       "version_minor": 0
      },
      "text/plain": [
       "HBox(children=(IntProgress(value=0, description='epoch training', max=200, style=ProgressStyle(description_wid…"
      ]
     },
     "metadata": {},
     "output_type": "display_data"
    },
    {
     "data": {
      "application/vnd.jupyter.widget-view+json": {
       "model_id": "",
       "version_major": 2,
       "version_minor": 0
      },
      "text/plain": [
       "HBox(children=(IntProgress(value=0, description='epoch training', max=200, style=ProgressStyle(description_wid…"
      ]
     },
     "metadata": {},
     "output_type": "display_data"
    },
    {
     "data": {
      "application/vnd.jupyter.widget-view+json": {
       "model_id": "",
       "version_major": 2,
       "version_minor": 0
      },
      "text/plain": [
       "HBox(children=(IntProgress(value=0, description='epoch training', max=200, style=ProgressStyle(description_wid…"
      ]
     },
     "metadata": {},
     "output_type": "display_data"
    },
    {
     "data": {
      "application/vnd.jupyter.widget-view+json": {
       "model_id": "",
       "version_major": 2,
       "version_minor": 0
      },
      "text/plain": [
       "HBox(children=(IntProgress(value=0, description='epoch training', max=200, style=ProgressStyle(description_wid…"
      ]
     },
     "metadata": {},
     "output_type": "display_data"
    },
    {
     "data": {
      "application/vnd.jupyter.widget-view+json": {
       "model_id": "",
       "version_major": 2,
       "version_minor": 0
      },
      "text/plain": [
       "HBox(children=(IntProgress(value=0, description='epoch training', max=200, style=ProgressStyle(description_wid…"
      ]
     },
     "metadata": {},
     "output_type": "display_data"
    },
    {
     "data": {
      "application/vnd.jupyter.widget-view+json": {
       "model_id": "",
       "version_major": 2,
       "version_minor": 0
      },
      "text/plain": [
       "HBox(children=(IntProgress(value=0, description='epoch training', max=200, style=ProgressStyle(description_wid…"
      ]
     },
     "metadata": {},
     "output_type": "display_data"
    },
    {
     "data": {
      "application/vnd.jupyter.widget-view+json": {
       "model_id": "",
       "version_major": 2,
       "version_minor": 0
      },
      "text/plain": [
       "HBox(children=(IntProgress(value=0, description='epoch training', max=200, style=ProgressStyle(description_wid…"
      ]
     },
     "metadata": {},
     "output_type": "display_data"
    },
    {
     "data": {
      "application/vnd.jupyter.widget-view+json": {
       "model_id": "",
       "version_major": 2,
       "version_minor": 0
      },
      "text/plain": [
       "HBox(children=(IntProgress(value=0, description='epoch training', max=200, style=ProgressStyle(description_wid…"
      ]
     },
     "metadata": {},
     "output_type": "display_data"
    },
    {
     "data": {
      "application/vnd.jupyter.widget-view+json": {
       "model_id": "",
       "version_major": 2,
       "version_minor": 0
      },
      "text/plain": [
       "HBox(children=(IntProgress(value=0, description='epoch training', max=200, style=ProgressStyle(description_wid…"
      ]
     },
     "metadata": {},
     "output_type": "display_data"
    },
    {
     "data": {
      "application/vnd.jupyter.widget-view+json": {
       "model_id": "",
       "version_major": 2,
       "version_minor": 0
      },
      "text/plain": [
       "HBox(children=(IntProgress(value=0, description='epoch training', max=200, style=ProgressStyle(description_wid…"
      ]
     },
     "metadata": {},
     "output_type": "display_data"
    },
    {
     "data": {
      "application/vnd.jupyter.widget-view+json": {
       "model_id": "",
       "version_major": 2,
       "version_minor": 0
      },
      "text/plain": [
       "HBox(children=(IntProgress(value=0, description='epoch training', max=200, style=ProgressStyle(description_wid…"
      ]
     },
     "metadata": {},
     "output_type": "display_data"
    },
    {
     "data": {
      "application/vnd.jupyter.widget-view+json": {
       "model_id": "",
       "version_major": 2,
       "version_minor": 0
      },
      "text/plain": [
       "HBox(children=(IntProgress(value=0, description='epoch training', max=200, style=ProgressStyle(description_wid…"
      ]
     },
     "metadata": {},
     "output_type": "display_data"
    },
    {
     "data": {
      "application/vnd.jupyter.widget-view+json": {
       "model_id": "",
       "version_major": 2,
       "version_minor": 0
      },
      "text/plain": [
       "HBox(children=(IntProgress(value=0, description='epoch training', max=200, style=ProgressStyle(description_wid…"
      ]
     },
     "metadata": {},
     "output_type": "display_data"
    },
    {
     "data": {
      "application/vnd.jupyter.widget-view+json": {
       "model_id": "",
       "version_major": 2,
       "version_minor": 0
      },
      "text/plain": [
       "HBox(children=(IntProgress(value=0, description='epoch training', max=200, style=ProgressStyle(description_wid…"
      ]
     },
     "metadata": {},
     "output_type": "display_data"
    },
    {
     "data": {
      "application/vnd.jupyter.widget-view+json": {
       "model_id": "",
       "version_major": 2,
       "version_minor": 0
      },
      "text/plain": [
       "HBox(children=(IntProgress(value=0, description='epoch training', max=200, style=ProgressStyle(description_wid…"
      ]
     },
     "metadata": {},
     "output_type": "display_data"
    },
    {
     "data": {
      "application/vnd.jupyter.widget-view+json": {
       "model_id": "",
       "version_major": 2,
       "version_minor": 0
      },
      "text/plain": [
       "HBox(children=(IntProgress(value=0, description='epoch training', max=200, style=ProgressStyle(description_wid…"
      ]
     },
     "metadata": {},
     "output_type": "display_data"
    },
    {
     "data": {
      "application/vnd.jupyter.widget-view+json": {
       "model_id": "",
       "version_major": 2,
       "version_minor": 0
      },
      "text/plain": [
       "HBox(children=(IntProgress(value=0, description='epoch training', max=200, style=ProgressStyle(description_wid…"
      ]
     },
     "metadata": {},
     "output_type": "display_data"
    },
    {
     "data": {
      "application/vnd.jupyter.widget-view+json": {
       "model_id": "",
       "version_major": 2,
       "version_minor": 0
      },
      "text/plain": [
       "HBox(children=(IntProgress(value=0, description='epoch training', max=200, style=ProgressStyle(description_wid…"
      ]
     },
     "metadata": {},
     "output_type": "display_data"
    },
    {
     "data": {
      "application/vnd.jupyter.widget-view+json": {
       "model_id": "",
       "version_major": 2,
       "version_minor": 0
      },
      "text/plain": [
       "HBox(children=(IntProgress(value=0, description='epoch training', max=200, style=ProgressStyle(description_wid…"
      ]
     },
     "metadata": {},
     "output_type": "display_data"
    },
    {
     "data": {
      "application/vnd.jupyter.widget-view+json": {
       "model_id": "",
       "version_major": 2,
       "version_minor": 0
      },
      "text/plain": [
       "HBox(children=(IntProgress(value=0, description='epoch training', max=200, style=ProgressStyle(description_wid…"
      ]
     },
     "metadata": {},
     "output_type": "display_data"
    },
    {
     "data": {
      "application/vnd.jupyter.widget-view+json": {
       "model_id": "",
       "version_major": 2,
       "version_minor": 0
      },
      "text/plain": [
       "HBox(children=(IntProgress(value=0, description='epoch training', max=200, style=ProgressStyle(description_wid…"
      ]
     },
     "metadata": {},
     "output_type": "display_data"
    },
    {
     "data": {
      "application/vnd.jupyter.widget-view+json": {
       "model_id": "",
       "version_major": 2,
       "version_minor": 0
      },
      "text/plain": [
       "HBox(children=(IntProgress(value=0, description='epoch training', max=200, style=ProgressStyle(description_wid…"
      ]
     },
     "metadata": {},
     "output_type": "display_data"
    },
    {
     "data": {
      "application/vnd.jupyter.widget-view+json": {
       "model_id": "",
       "version_major": 2,
       "version_minor": 0
      },
      "text/plain": [
       "HBox(children=(IntProgress(value=0, description='epoch training', max=200, style=ProgressStyle(description_wid…"
      ]
     },
     "metadata": {},
     "output_type": "display_data"
    },
    {
     "data": {
      "application/vnd.jupyter.widget-view+json": {
       "model_id": "",
       "version_major": 2,
       "version_minor": 0
      },
      "text/plain": [
       "HBox(children=(IntProgress(value=0, description='epoch training', max=200, style=ProgressStyle(description_wid…"
      ]
     },
     "metadata": {},
     "output_type": "display_data"
    },
    {
     "data": {
      "application/vnd.jupyter.widget-view+json": {
       "model_id": "",
       "version_major": 2,
       "version_minor": 0
      },
      "text/plain": [
       "HBox(children=(IntProgress(value=0, description='epoch training', max=200, style=ProgressStyle(description_wid…"
      ]
     },
     "metadata": {},
     "output_type": "display_data"
    },
    {
     "data": {
      "application/vnd.jupyter.widget-view+json": {
       "model_id": "",
       "version_major": 2,
       "version_minor": 0
      },
      "text/plain": [
       "HBox(children=(IntProgress(value=0, description='epoch training', max=200, style=ProgressStyle(description_wid…"
      ]
     },
     "metadata": {},
     "output_type": "display_data"
    },
    {
     "data": {
      "application/vnd.jupyter.widget-view+json": {
       "model_id": "",
       "version_major": 2,
       "version_minor": 0
      },
      "text/plain": [
       "HBox(children=(IntProgress(value=0, description='epoch training', max=200, style=ProgressStyle(description_wid…"
      ]
     },
     "metadata": {},
     "output_type": "display_data"
    },
    {
     "data": {
      "application/vnd.jupyter.widget-view+json": {
       "model_id": "",
       "version_major": 2,
       "version_minor": 0
      },
      "text/plain": [
       "HBox(children=(IntProgress(value=0, description='epoch training', max=200, style=ProgressStyle(description_wid…"
      ]
     },
     "metadata": {},
     "output_type": "display_data"
    },
    {
     "data": {
      "application/vnd.jupyter.widget-view+json": {
       "model_id": "",
       "version_major": 2,
       "version_minor": 0
      },
      "text/plain": [
       "HBox(children=(IntProgress(value=0, description='epoch training', max=200, style=ProgressStyle(description_wid…"
      ]
     },
     "metadata": {},
     "output_type": "display_data"
    },
    {
     "data": {
      "application/vnd.jupyter.widget-view+json": {
       "model_id": "",
       "version_major": 2,
       "version_minor": 0
      },
      "text/plain": [
       "HBox(children=(IntProgress(value=0, description='epoch training', max=200, style=ProgressStyle(description_wid…"
      ]
     },
     "metadata": {},
     "output_type": "display_data"
    },
    {
     "data": {
      "application/vnd.jupyter.widget-view+json": {
       "model_id": "",
       "version_major": 2,
       "version_minor": 0
      },
      "text/plain": [
       "HBox(children=(IntProgress(value=0, description='epoch training', max=200, style=ProgressStyle(description_wid…"
      ]
     },
     "metadata": {},
     "output_type": "display_data"
    },
    {
     "data": {
      "application/vnd.jupyter.widget-view+json": {
       "model_id": "",
       "version_major": 2,
       "version_minor": 0
      },
      "text/plain": [
       "HBox(children=(IntProgress(value=0, description='epoch training', max=200, style=ProgressStyle(description_wid…"
      ]
     },
     "metadata": {},
     "output_type": "display_data"
    },
    {
     "data": {
      "application/vnd.jupyter.widget-view+json": {
       "model_id": "",
       "version_major": 2,
       "version_minor": 0
      },
      "text/plain": [
       "HBox(children=(IntProgress(value=0, description='epoch training', max=200, style=ProgressStyle(description_wid…"
      ]
     },
     "metadata": {},
     "output_type": "display_data"
    }
   ],
   "source": [
    "statistics = run_boostrapping(classification_experiment, dataset, params, input_key='attention_dist', label_key='bias_label', threshold=0.42)"
   ]
  },
  {
   "cell_type": "code",
   "execution_count": 38,
   "metadata": {},
   "outputs": [
    {
     "data": {
      "text/plain": [
       "{'auc': [(0.5984800662532024, 0.8140039374100592), 0.7136919650490253],\n",
       " 'accuracy': [(0.5697674418604651, 0.7735465116279069), 0.6798837209302326]}"
      ]
     },
     "execution_count": 38,
     "metadata": {},
     "output_type": "execute_result"
    }
   ],
   "source": [
    "statistics"
   ]
  },
  {
   "cell_type": "markdown",
   "metadata": {},
   "source": [
    "## No bootstrapping -- cannot calculate 95% confidence intervals "
   ]
  },
  {
   "cell_type": "code",
   "execution_count": 25,
   "metadata": {},
   "outputs": [
    {
     "name": "stderr",
     "output_type": "stream",
     "text": [
      "06/04/2019 18:30:00 - INFO - pytorch_pretrained_bert.modeling -   loading archive file https://s3.amazonaws.com/models.huggingface.co/bert/bert-base-uncased.tar.gz from cache at /sailhome/rdm/.pytorch_pretrained_bert/9c41111e2de84547a463fd39217199738d1e3deb72d4fec4399e6e241983c6f0.ae3cef932725ca7a30cdcb93fc6e09150a55e2a130ec7af63975a16c153ae2ba\n",
      "06/04/2019 18:30:00 - INFO - pytorch_pretrained_bert.modeling -   extracting archive file /sailhome/rdm/.pytorch_pretrained_bert/9c41111e2de84547a463fd39217199738d1e3deb72d4fec4399e6e241983c6f0.ae3cef932725ca7a30cdcb93fc6e09150a55e2a130ec7af63975a16c153ae2ba to temp dir /tmp/tmp494tdy_1\n",
      "06/04/2019 18:30:03 - INFO - pytorch_pretrained_bert.modeling -   Model config {\n",
      "  \"attention_probs_dropout_prob\": 0.1,\n",
      "  \"hidden_act\": \"gelu\",\n",
      "  \"hidden_dropout_prob\": 0.1,\n",
      "  \"hidden_size\": 768,\n",
      "  \"initializer_range\": 0.02,\n",
      "  \"intermediate_size\": 3072,\n",
      "  \"max_position_embeddings\": 512,\n",
      "  \"num_attention_heads\": 12,\n",
      "  \"num_hidden_layers\": 12,\n",
      "  \"type_vocab_size\": 2,\n",
      "  \"vocab_size\": 30522\n",
      "}\n",
      "\n",
      "06/04/2019 18:30:06 - INFO - pytorch_pretrained_bert.modeling -   Weights of BertForSequenceClassification not initialized from pretrained model: ['classifier.weight', 'classifier.bias']\n",
      "06/04/2019 18:30:06 - INFO - pytorch_pretrained_bert.modeling -   Weights from pretrained model not used in BertForSequenceClassification: ['cls.predictions.bias', 'cls.predictions.transform.dense.weight', 'cls.predictions.transform.dense.bias', 'cls.predictions.transform.LayerNorm.gamma', 'cls.predictions.transform.LayerNorm.beta', 'cls.predictions.decoder.weight', 'cls.seq_relationship.weight', 'cls.seq_relationship.bias']\n"
     ]
    },
    {
     "name": "stdout",
     "output_type": "stream",
     "text": [
      "{'model': 'bert_basic_uncased_sequence', 'output_dim': 1, 'data_split': {'train_split': 0.7, 'eval_split': 0.3, 'test_split': 0}, 'training_params': {'optimizer': 'adam', 'loss': 'bce_with_logits', 'num_epochs': 100, 'batch_size': 16, 'lr': 0.001}}\n"
     ]
    }
   ],
   "source": [
    "params = prepare_model.intialize_params(\"experiment_params.json\") \n",
    "classification_experiment = prepare_model.initialize_classification_experiment(params.final_task)\n",
    "print(params.final_task)"
   ]
  },
  {
   "cell_type": "code",
   "execution_count": 26,
   "metadata": {},
   "outputs": [],
   "source": [
    "data_split = params.final_task['data_split']\n",
    "batch_size = params.final_task['training_params']['batch_size']\n",
    "train_dataloader, eval_dataloader, test_dataloader = dataset.split_train_eval_test(**data_split, batch_size=batch_size)"
   ]
  },
  {
   "cell_type": "code",
   "execution_count": 34,
   "metadata": {},
   "outputs": [
    {
     "data": {
      "application/vnd.jupyter.widget-view+json": {
       "model_id": "6b0566f585064c398af444de415a2f20",
       "version_major": 2,
       "version_minor": 0
      },
      "text/plain": [
       "HBox(children=(IntProgress(value=0, description='epoch training', style=ProgressStyle(description_width='initi…"
      ]
     },
     "metadata": {},
     "output_type": "display_data"
    },
    {
     "ename": "KeyboardInterrupt",
     "evalue": "",
     "output_type": "error",
     "traceback": [
      "\u001b[0;31m---------------------------------------------------------------------------\u001b[0m",
      "\u001b[0;31mKeyboardInterrupt\u001b[0m                         Traceback (most recent call last)",
      "\u001b[0;32m<ipython-input-34-b0a6038a6d53>\u001b[0m in \u001b[0;36m<module>\u001b[0;34m\u001b[0m\n\u001b[0;32m----> 1\u001b[0;31m \u001b[0mlosses\u001b[0m\u001b[0;34m,\u001b[0m \u001b[0mevaluations\u001b[0m \u001b[0;34m=\u001b[0m \u001b[0mclassification_experiment\u001b[0m\u001b[0;34m.\u001b[0m\u001b[0mtrain_model\u001b[0m\u001b[0;34m(\u001b[0m\u001b[0mtrain_dataloader\u001b[0m\u001b[0;34m,\u001b[0m \u001b[0meval_dataloader\u001b[0m\u001b[0;34m,\u001b[0m \u001b[0minput_key\u001b[0m\u001b[0;34m=\u001b[0m\u001b[0;34m'pre_ids'\u001b[0m\u001b[0;34m,\u001b[0m \u001b[0mlabel_key\u001b[0m\u001b[0;34m=\u001b[0m\u001b[0;34m'bias_label'\u001b[0m\u001b[0;34m,\u001b[0m \u001b[0mthreshold\u001b[0m\u001b[0;34m=\u001b[0m\u001b[0;36m0.42\u001b[0m\u001b[0;34m,\u001b[0m \u001b[0;34m**\u001b[0m\u001b[0mbert_args\u001b[0m\u001b[0;34m)\u001b[0m\u001b[0;34m\u001b[0m\u001b[0;34m\u001b[0m\u001b[0m\n\u001b[0m",
      "\u001b[0;32m/juice/scr/scr110/scr/nlp/bert_attention_analysis/src/experiment.py\u001b[0m in \u001b[0;36mtrain_model\u001b[0;34m(self, train_dataloader, eval_dataloader, input_key, label_key, threshold, **kwargs)\u001b[0m\n\u001b[1;32m    252\u001b[0m             \u001b[0mkwargs\u001b[0m \u001b[0;34m=\u001b[0m \u001b[0;34m{\u001b[0m\u001b[0;34m**\u001b[0m\u001b[0mkwargs\u001b[0m\u001b[0;34m,\u001b[0m \u001b[0;34m**\u001b[0m\u001b[0mkeys\u001b[0m\u001b[0;34m}\u001b[0m\u001b[0;34m\u001b[0m\u001b[0;34m\u001b[0m\u001b[0m\n\u001b[1;32m    253\u001b[0m \u001b[0;34m\u001b[0m\u001b[0m\n\u001b[0;32m--> 254\u001b[0;31m             \u001b[0mlosses\u001b[0m \u001b[0;34m=\u001b[0m \u001b[0mself\u001b[0m\u001b[0;34m.\u001b[0m\u001b[0m_train_for_epoch\u001b[0m\u001b[0;34m(\u001b[0m\u001b[0mdataloader\u001b[0m\u001b[0;34m=\u001b[0m\u001b[0mtrain_dataloader\u001b[0m\u001b[0;34m,\u001b[0m \u001b[0;34m**\u001b[0m\u001b[0mkwargs\u001b[0m\u001b[0;34m)\u001b[0m\u001b[0;34m\u001b[0m\u001b[0;34m\u001b[0m\u001b[0m\n\u001b[0m\u001b[1;32m    255\u001b[0m             \u001b[0mpredictions\u001b[0m\u001b[0;34m,\u001b[0m \u001b[0mevaluations\u001b[0m \u001b[0;34m=\u001b[0m \u001b[0mself\u001b[0m\u001b[0;34m.\u001b[0m\u001b[0mrun_inference\u001b[0m\u001b[0;34m(\u001b[0m\u001b[0mdataloader\u001b[0m\u001b[0;34m=\u001b[0m\u001b[0meval_dataloader\u001b[0m\u001b[0;34m,\u001b[0m \u001b[0;34m**\u001b[0m\u001b[0mkwargs\u001b[0m\u001b[0;34m)\u001b[0m\u001b[0;34m\u001b[0m\u001b[0;34m\u001b[0m\u001b[0m\n\u001b[1;32m    256\u001b[0m             \u001b[0mall_losses\u001b[0m\u001b[0;34m.\u001b[0m\u001b[0mappend\u001b[0m\u001b[0;34m(\u001b[0m\u001b[0mlosses\u001b[0m\u001b[0;34m)\u001b[0m\u001b[0;34m\u001b[0m\u001b[0;34m\u001b[0m\u001b[0m\n",
      "\u001b[0;32m/juice/scr/scr110/scr/nlp/bert_attention_analysis/src/experiment.py\u001b[0m in \u001b[0;36m__default_train_for_epoch\u001b[0;34m(self, dataloader, input_key, label_key, **kwargs)\u001b[0m\n\u001b[1;32m    167\u001b[0m                 \u001b[0;32mraise\u001b[0m \u001b[0mNotImplementedError\u001b[0m\u001b[0;34m(\u001b[0m\u001b[0;34m)\u001b[0m\u001b[0;34m\u001b[0m\u001b[0;34m\u001b[0m\u001b[0m\n\u001b[1;32m    168\u001b[0m \u001b[0;34m\u001b[0m\u001b[0m\n\u001b[0;32m--> 169\u001b[0;31m             \u001b[0mloss\u001b[0m \u001b[0;34m=\u001b[0m \u001b[0mself\u001b[0m\u001b[0;34m.\u001b[0m\u001b[0mloss_fn\u001b[0m\u001b[0;34m(\u001b[0m\u001b[0mpredict_logits\u001b[0m\u001b[0;34m,\u001b[0m \u001b[0mlabels\u001b[0m\u001b[0;34m.\u001b[0m\u001b[0mto\u001b[0m\u001b[0;34m(\u001b[0m\u001b[0mdtype\u001b[0m\u001b[0;34m=\u001b[0m\u001b[0mtorch\u001b[0m\u001b[0;34m.\u001b[0m\u001b[0mfloat\u001b[0m\u001b[0;34m)\u001b[0m\u001b[0;34m)\u001b[0m\u001b[0;34m\u001b[0m\u001b[0;34m\u001b[0m\u001b[0m\n\u001b[0m\u001b[1;32m    170\u001b[0m \u001b[0;34m\u001b[0m\u001b[0m\n\u001b[1;32m    171\u001b[0m             \u001b[0mloss\u001b[0m\u001b[0;34m.\u001b[0m\u001b[0mbackward\u001b[0m\u001b[0;34m(\u001b[0m\u001b[0;34m)\u001b[0m\u001b[0;34m\u001b[0m\u001b[0;34m\u001b[0m\u001b[0m\n",
      "\u001b[0;32m/u/nlp/anaconda/main/anaconda3/envs/bias_classification/lib/python3.6/site-packages/torch/nn/functional.py\u001b[0m in \u001b[0;36mbinary_cross_entropy_with_logits\u001b[0;34m(input, target, weight, size_average, reduce, reduction, pos_weight)\u001b[0m\n\u001b[1;32m   1660\u001b[0m         \u001b[0;32mreturn\u001b[0m \u001b[0mloss\u001b[0m\u001b[0;34m\u001b[0m\u001b[0;34m\u001b[0m\u001b[0m\n\u001b[1;32m   1661\u001b[0m     \u001b[0;32melif\u001b[0m \u001b[0mreduction\u001b[0m \u001b[0;34m==\u001b[0m \u001b[0;34m'elementwise_mean'\u001b[0m\u001b[0;34m:\u001b[0m\u001b[0;34m\u001b[0m\u001b[0;34m\u001b[0m\u001b[0m\n\u001b[0;32m-> 1662\u001b[0;31m         \u001b[0;32mreturn\u001b[0m \u001b[0mloss\u001b[0m\u001b[0;34m.\u001b[0m\u001b[0mmean\u001b[0m\u001b[0;34m(\u001b[0m\u001b[0;34m)\u001b[0m\u001b[0;34m\u001b[0m\u001b[0;34m\u001b[0m\u001b[0m\n\u001b[0m\u001b[1;32m   1663\u001b[0m     \u001b[0;32melse\u001b[0m\u001b[0;34m:\u001b[0m\u001b[0;34m\u001b[0m\u001b[0;34m\u001b[0m\u001b[0m\n\u001b[1;32m   1664\u001b[0m         \u001b[0;32mreturn\u001b[0m \u001b[0mloss\u001b[0m\u001b[0;34m.\u001b[0m\u001b[0msum\u001b[0m\u001b[0;34m(\u001b[0m\u001b[0;34m)\u001b[0m\u001b[0;34m\u001b[0m\u001b[0;34m\u001b[0m\u001b[0m\n",
      "\u001b[0;31mKeyboardInterrupt\u001b[0m: "
     ]
    }
   ],
   "source": [
    "losses, evaluations = classification_experiment.train_model(train_dataloader, eval_dataloader, input_key='pre_ids', label_key='bias_label', threshold=0.42, **bert_args)"
   ]
  },
  {
   "cell_type": "code",
   "execution_count": 36,
   "metadata": {},
   "outputs": [
    {
     "name": "stdout",
     "output_type": "stream",
     "text": [
      "[[{'num_examples': 16, 'loss': 0.6621408462524414}, {'num_examples': 16, 'loss': 0.7795537114143372}, {'num_examples': 16, 'loss': 0.724357008934021}, {'num_examples': 16, 'loss': 0.7985119223594666}, {'num_examples': 16, 'loss': 1.182936429977417}, {'num_examples': 16, 'loss': 0.7834150195121765}, {'num_examples': 16, 'loss': 0.6709544658660889}, {'num_examples': 16, 'loss': 0.7404051423072815}, {'num_examples': 16, 'loss': 0.7493577003479004}, {'num_examples': 16, 'loss': 0.5923013091087341}, {'num_examples': 16, 'loss': 0.6469168066978455}, {'num_examples': 16, 'loss': 0.6829532384872437}, {'num_examples': 16, 'loss': 1.0061522722244263}, {'num_examples': 16, 'loss': 0.8982269763946533}, {'num_examples': 16, 'loss': 0.6485635638237}, {'num_examples': 16, 'loss': 0.7200461626052856}, {'num_examples': 5, 'loss': 0.6500816941261292}], [{'num_examples': 16, 'loss': 0.7040954232215881}, {'num_examples': 16, 'loss': 0.6732244491577148}, {'num_examples': 16, 'loss': 0.6696837544441223}, {'num_examples': 16, 'loss': 0.6736207604408264}, {'num_examples': 16, 'loss': 0.5782396793365479}, {'num_examples': 16, 'loss': 0.7401953935623169}, {'num_examples': 16, 'loss': 0.6911957263946533}, {'num_examples': 16, 'loss': 0.8154191970825195}, {'num_examples': 16, 'loss': 0.5737980604171753}, {'num_examples': 16, 'loss': 0.5802523493766785}, {'num_examples': 16, 'loss': 0.6477781534194946}, {'num_examples': 16, 'loss': 0.6280921101570129}, {'num_examples': 16, 'loss': 0.8066216111183167}, {'num_examples': 16, 'loss': 0.8065185546875}, {'num_examples': 16, 'loss': 0.6562671661376953}, {'num_examples': 16, 'loss': 0.7136354446411133}, {'num_examples': 5, 'loss': 0.6547536849975586}], [{'num_examples': 16, 'loss': 0.7019028663635254}, {'num_examples': 16, 'loss': 0.635246992111206}, {'num_examples': 16, 'loss': 0.73044353723526}, {'num_examples': 16, 'loss': 0.6399569511413574}, {'num_examples': 16, 'loss': 0.5616293549537659}, {'num_examples': 16, 'loss': 0.7249577045440674}, {'num_examples': 16, 'loss': 0.6605399250984192}, {'num_examples': 16, 'loss': 0.7693855166435242}, {'num_examples': 16, 'loss': 0.5768125653266907}, {'num_examples': 16, 'loss': 0.5937032103538513}, {'num_examples': 16, 'loss': 0.6445218324661255}, {'num_examples': 16, 'loss': 0.6093209981918335}, {'num_examples': 16, 'loss': 0.7963648438453674}, {'num_examples': 16, 'loss': 0.8127205967903137}, {'num_examples': 16, 'loss': 0.6218677759170532}, {'num_examples': 16, 'loss': 0.6344553828239441}, {'num_examples': 5, 'loss': 0.6585283875465393}], [{'num_examples': 16, 'loss': 0.6692577004432678}, {'num_examples': 16, 'loss': 0.6695613265037537}, {'num_examples': 16, 'loss': 0.7246472239494324}, {'num_examples': 16, 'loss': 0.6555958986282349}, {'num_examples': 16, 'loss': 0.6046358942985535}, {'num_examples': 16, 'loss': 0.7114010453224182}, {'num_examples': 16, 'loss': 0.6641715168952942}, {'num_examples': 16, 'loss': 0.7458444833755493}, {'num_examples': 16, 'loss': 0.5794336199760437}, {'num_examples': 16, 'loss': 0.5932741761207581}, {'num_examples': 16, 'loss': 0.6165778636932373}, {'num_examples': 16, 'loss': 0.643530011177063}, {'num_examples': 16, 'loss': 0.8542819619178772}, {'num_examples': 16, 'loss': 0.8866959810256958}, {'num_examples': 16, 'loss': 0.6079658269882202}, {'num_examples': 16, 'loss': 0.6387937664985657}, {'num_examples': 5, 'loss': 0.6875253319740295}], [{'num_examples': 16, 'loss': 0.7124661207199097}, {'num_examples': 16, 'loss': 0.6700270771980286}, {'num_examples': 16, 'loss': 0.6941347122192383}, {'num_examples': 16, 'loss': 0.6511892676353455}, {'num_examples': 16, 'loss': 0.6130062341690063}, {'num_examples': 16, 'loss': 0.7039074897766113}, {'num_examples': 16, 'loss': 0.6735168695449829}, {'num_examples': 16, 'loss': 0.7320519685745239}, {'num_examples': 16, 'loss': 0.5736488103866577}, {'num_examples': 16, 'loss': 0.5741952061653137}, {'num_examples': 16, 'loss': 0.6167458295822144}, {'num_examples': 16, 'loss': 0.6400406360626221}, {'num_examples': 16, 'loss': 0.8445319533348083}, {'num_examples': 16, 'loss': 0.9185569882392883}, {'num_examples': 16, 'loss': 0.5753224492073059}, {'num_examples': 16, 'loss': 0.6578713655471802}, {'num_examples': 5, 'loss': 0.6858410239219666}], [{'num_examples': 16, 'loss': 0.6921179294586182}, {'num_examples': 16, 'loss': 0.6574046015739441}, {'num_examples': 16, 'loss': 0.6859960556030273}, {'num_examples': 16, 'loss': 0.6835365891456604}, {'num_examples': 16, 'loss': 0.6517514586448669}, {'num_examples': 16, 'loss': 0.6765772104263306}, {'num_examples': 16, 'loss': 0.6713441610336304}, {'num_examples': 16, 'loss': 0.7394167184829712}, {'num_examples': 16, 'loss': 0.5903555154800415}, {'num_examples': 16, 'loss': 0.5917659997940063}, {'num_examples': 16, 'loss': 0.6373428702354431}, {'num_examples': 16, 'loss': 0.6341352462768555}, {'num_examples': 16, 'loss': 0.8878034949302673}, {'num_examples': 16, 'loss': 0.9196561574935913}, {'num_examples': 16, 'loss': 0.5727351903915405}, {'num_examples': 16, 'loss': 0.6101583242416382}, {'num_examples': 5, 'loss': 0.6424978971481323}], [{'num_examples': 16, 'loss': 0.6739718914031982}, {'num_examples': 16, 'loss': 0.6507108211517334}, {'num_examples': 16, 'loss': 0.7081617712974548}, {'num_examples': 16, 'loss': 0.695836067199707}, {'num_examples': 16, 'loss': 0.6618603467941284}, {'num_examples': 16, 'loss': 0.6851961016654968}, {'num_examples': 16, 'loss': 0.6528772115707397}, {'num_examples': 16, 'loss': 0.710447371006012}, {'num_examples': 16, 'loss': 0.5791410803794861}, {'num_examples': 16, 'loss': 0.5868763327598572}, {'num_examples': 16, 'loss': 0.613732635974884}, {'num_examples': 16, 'loss': 0.6258667707443237}, {'num_examples': 16, 'loss': 0.8514811396598816}, {'num_examples': 16, 'loss': 0.941068172454834}, {'num_examples': 16, 'loss': 0.5913524031639099}, {'num_examples': 16, 'loss': 0.6231755614280701}, {'num_examples': 5, 'loss': 0.6587597131729126}], [{'num_examples': 16, 'loss': 0.6980158090591431}, {'num_examples': 16, 'loss': 0.6554271578788757}, {'num_examples': 16, 'loss': 0.7072986364364624}, {'num_examples': 16, 'loss': 0.6710448265075684}, {'num_examples': 16, 'loss': 0.6473991870880127}, {'num_examples': 16, 'loss': 0.6994237899780273}, {'num_examples': 16, 'loss': 0.6531672477722168}, {'num_examples': 16, 'loss': 0.6976108551025391}, {'num_examples': 16, 'loss': 0.6167657375335693}, {'num_examples': 16, 'loss': 0.5994773507118225}, {'num_examples': 16, 'loss': 0.6286678314208984}, {'num_examples': 16, 'loss': 0.6324080228805542}, {'num_examples': 16, 'loss': 0.8756932616233826}, {'num_examples': 16, 'loss': 0.9392745494842529}, {'num_examples': 16, 'loss': 0.5933094024658203}, {'num_examples': 16, 'loss': 0.6306658387184143}, {'num_examples': 5, 'loss': 0.6897390484809875}], [{'num_examples': 16, 'loss': 0.701192319393158}, {'num_examples': 16, 'loss': 0.6357503533363342}, {'num_examples': 16, 'loss': 0.6718561053276062}, {'num_examples': 16, 'loss': 0.6541846394538879}, {'num_examples': 16, 'loss': 0.6427473425865173}, {'num_examples': 16, 'loss': 0.6752277612686157}, {'num_examples': 16, 'loss': 0.6520441174507141}, {'num_examples': 16, 'loss': 0.6975951790809631}, {'num_examples': 16, 'loss': 0.6185198426246643}, {'num_examples': 16, 'loss': 0.6303309202194214}, {'num_examples': 16, 'loss': 0.6335660219192505}, {'num_examples': 16, 'loss': 0.6289288401603699}, {'num_examples': 16, 'loss': 0.8120440244674683}, {'num_examples': 16, 'loss': 0.905863881111145}, {'num_examples': 16, 'loss': 0.5917109251022339}, {'num_examples': 16, 'loss': 0.6138238310813904}, {'num_examples': 5, 'loss': 0.6754838228225708}], [{'num_examples': 16, 'loss': 0.6843491792678833}, {'num_examples': 16, 'loss': 0.648059606552124}, {'num_examples': 16, 'loss': 0.7323302626609802}, {'num_examples': 16, 'loss': 0.6421617269515991}, {'num_examples': 16, 'loss': 0.6163658499717712}, {'num_examples': 16, 'loss': 0.6986947655677795}, {'num_examples': 16, 'loss': 0.6522247195243835}, {'num_examples': 16, 'loss': 0.7186108231544495}, {'num_examples': 16, 'loss': 0.6301168203353882}, {'num_examples': 16, 'loss': 0.6124762296676636}, {'num_examples': 16, 'loss': 0.6183455586433411}, {'num_examples': 16, 'loss': 0.6383311748504639}, {'num_examples': 16, 'loss': 0.7946583032608032}, {'num_examples': 16, 'loss': 0.8626537322998047}, {'num_examples': 16, 'loss': 0.5997226238250732}, {'num_examples': 16, 'loss': 0.6385294795036316}, {'num_examples': 5, 'loss': 0.6372780799865723}], [{'num_examples': 16, 'loss': 0.6989808082580566}, {'num_examples': 16, 'loss': 0.6532265543937683}, {'num_examples': 16, 'loss': 0.7010442018508911}, {'num_examples': 16, 'loss': 0.6399264335632324}, {'num_examples': 16, 'loss': 0.6044483780860901}, {'num_examples': 16, 'loss': 0.6708382964134216}, {'num_examples': 16, 'loss': 0.6151160001754761}, {'num_examples': 16, 'loss': 0.717750072479248}, {'num_examples': 16, 'loss': 0.5642240643501282}, {'num_examples': 16, 'loss': 0.595058023929596}, {'num_examples': 16, 'loss': 0.6226559281349182}, {'num_examples': 16, 'loss': 0.6398524641990662}, {'num_examples': 16, 'loss': 0.8421619534492493}, {'num_examples': 16, 'loss': 0.8671420216560364}, {'num_examples': 16, 'loss': 0.6069187521934509}, {'num_examples': 16, 'loss': 0.6151999235153198}, {'num_examples': 5, 'loss': 0.709714412689209}], [{'num_examples': 16, 'loss': 0.677338719367981}, {'num_examples': 16, 'loss': 0.6502624750137329}, {'num_examples': 16, 'loss': 0.7045196890830994}, {'num_examples': 16, 'loss': 0.6656582355499268}, {'num_examples': 16, 'loss': 0.6110230088233948}, {'num_examples': 16, 'loss': 0.7021927833557129}, {'num_examples': 16, 'loss': 0.637356698513031}, {'num_examples': 16, 'loss': 0.7434893250465393}, {'num_examples': 16, 'loss': 0.5811561346054077}, {'num_examples': 16, 'loss': 0.5822184681892395}, {'num_examples': 16, 'loss': 0.6076485514640808}, {'num_examples': 16, 'loss': 0.617530345916748}, {'num_examples': 16, 'loss': 0.8521581888198853}, {'num_examples': 16, 'loss': 0.8825415968894958}, {'num_examples': 16, 'loss': 0.5721520185470581}, {'num_examples': 16, 'loss': 0.6060402393341064}, {'num_examples': 5, 'loss': 0.649355411529541}], [{'num_examples': 16, 'loss': 0.6700761318206787}, {'num_examples': 16, 'loss': 0.6449100375175476}, {'num_examples': 16, 'loss': 0.7067346572875977}, {'num_examples': 16, 'loss': 0.6847578883171082}, {'num_examples': 16, 'loss': 0.6560498476028442}, {'num_examples': 16, 'loss': 0.7284708023071289}, {'num_examples': 16, 'loss': 0.6950179934501648}, {'num_examples': 16, 'loss': 0.701207160949707}, {'num_examples': 16, 'loss': 0.6144473552703857}, {'num_examples': 16, 'loss': 0.603274405002594}, {'num_examples': 16, 'loss': 0.6216163039207458}, {'num_examples': 16, 'loss': 0.6373722553253174}, {'num_examples': 16, 'loss': 0.8264145255088806}, {'num_examples': 16, 'loss': 0.8551027774810791}, {'num_examples': 16, 'loss': 0.5812456011772156}, {'num_examples': 16, 'loss': 0.6301519274711609}, {'num_examples': 5, 'loss': 0.6971046328544617}], [{'num_examples': 16, 'loss': 0.6914001107215881}, {'num_examples': 16, 'loss': 0.6427978873252869}, {'num_examples': 16, 'loss': 0.7097505331039429}, {'num_examples': 16, 'loss': 0.6656726002693176}, {'num_examples': 16, 'loss': 0.6235628724098206}, {'num_examples': 16, 'loss': 0.6845937371253967}, {'num_examples': 16, 'loss': 0.6389273405075073}, {'num_examples': 16, 'loss': 0.7199223041534424}, {'num_examples': 16, 'loss': 0.6169995069503784}, {'num_examples': 16, 'loss': 0.6146350502967834}, {'num_examples': 16, 'loss': 0.6281546950340271}, {'num_examples': 16, 'loss': 0.6370561122894287}, {'num_examples': 16, 'loss': 0.8085617423057556}, {'num_examples': 16, 'loss': 0.8724620938301086}, {'num_examples': 16, 'loss': 0.5881335139274597}, {'num_examples': 16, 'loss': 0.6232699155807495}, {'num_examples': 5, 'loss': 0.6365028619766235}], [{'num_examples': 16, 'loss': 0.6684757471084595}, {'num_examples': 16, 'loss': 0.6200541257858276}, {'num_examples': 16, 'loss': 0.6813793182373047}, {'num_examples': 16, 'loss': 0.6838931441307068}, {'num_examples': 16, 'loss': 0.5939883589744568}, {'num_examples': 16, 'loss': 0.678551971912384}, {'num_examples': 16, 'loss': 0.6917586326599121}, {'num_examples': 16, 'loss': 0.7073684334754944}, {'num_examples': 16, 'loss': 0.6357364654541016}, {'num_examples': 16, 'loss': 0.6063245534896851}, {'num_examples': 16, 'loss': 0.6313562393188477}, {'num_examples': 16, 'loss': 0.6106110215187073}, {'num_examples': 16, 'loss': 0.8178394436836243}, {'num_examples': 16, 'loss': 0.8551475405693054}, {'num_examples': 16, 'loss': 0.5718714594841003}, {'num_examples': 16, 'loss': 0.5962878465652466}, {'num_examples': 5, 'loss': 0.6626583337783813}], [{'num_examples': 16, 'loss': 0.6830371022224426}, {'num_examples': 16, 'loss': 0.6163120269775391}, {'num_examples': 16, 'loss': 0.7329845428466797}, {'num_examples': 16, 'loss': 0.6454394459724426}, {'num_examples': 16, 'loss': 0.6222444772720337}, {'num_examples': 16, 'loss': 0.659838080406189}, {'num_examples': 16, 'loss': 0.6540339589118958}, {'num_examples': 16, 'loss': 0.7194846272468567}, {'num_examples': 16, 'loss': 0.6119055151939392}, {'num_examples': 16, 'loss': 0.6183481812477112}, {'num_examples': 16, 'loss': 0.5974622964859009}, {'num_examples': 16, 'loss': 0.6172061562538147}, {'num_examples': 16, 'loss': 0.8122984766960144}, {'num_examples': 16, 'loss': 0.8485996127128601}, {'num_examples': 16, 'loss': 0.5835791826248169}, {'num_examples': 16, 'loss': 0.6351525187492371}, {'num_examples': 5, 'loss': 0.6878306865692139}], [{'num_examples': 16, 'loss': 0.7192350029945374}, {'num_examples': 16, 'loss': 0.6423789262771606}, {'num_examples': 16, 'loss': 0.7261760234832764}, {'num_examples': 16, 'loss': 0.6850301623344421}, {'num_examples': 16, 'loss': 0.6281459331512451}, {'num_examples': 16, 'loss': 0.685133695602417}, {'num_examples': 16, 'loss': 0.6640628576278687}, {'num_examples': 16, 'loss': 0.7020779848098755}, {'num_examples': 16, 'loss': 0.6170321106910706}, {'num_examples': 16, 'loss': 0.5960019826889038}, {'num_examples': 16, 'loss': 0.6365278959274292}, {'num_examples': 16, 'loss': 0.6128856539726257}, {'num_examples': 16, 'loss': 0.8178460597991943}, {'num_examples': 16, 'loss': 0.8428653478622437}, {'num_examples': 16, 'loss': 0.5750792026519775}, {'num_examples': 16, 'loss': 0.637944221496582}, {'num_examples': 5, 'loss': 0.6721758246421814}], [{'num_examples': 16, 'loss': 0.7377203106880188}, {'num_examples': 16, 'loss': 0.6234226226806641}, {'num_examples': 16, 'loss': 0.7191194891929626}, {'num_examples': 16, 'loss': 0.666202962398529}, {'num_examples': 16, 'loss': 0.6262203454971313}, {'num_examples': 16, 'loss': 0.6861379146575928}, {'num_examples': 16, 'loss': 0.6865071654319763}, {'num_examples': 16, 'loss': 0.7359257936477661}, {'num_examples': 16, 'loss': 0.6114245057106018}, {'num_examples': 16, 'loss': 0.615263044834137}, {'num_examples': 16, 'loss': 0.6348767280578613}, {'num_examples': 16, 'loss': 0.6255853176116943}, {'num_examples': 16, 'loss': 0.8056972622871399}, {'num_examples': 16, 'loss': 0.8470823764801025}, {'num_examples': 16, 'loss': 0.5733321905136108}, {'num_examples': 16, 'loss': 0.6040308475494385}, {'num_examples': 5, 'loss': 0.7183030843734741}], [{'num_examples': 16, 'loss': 0.7137641906738281}, {'num_examples': 16, 'loss': 0.6261045932769775}, {'num_examples': 16, 'loss': 0.6948566436767578}, {'num_examples': 16, 'loss': 0.6814445853233337}, {'num_examples': 16, 'loss': 0.5983362197875977}, {'num_examples': 16, 'loss': 0.6845314502716064}, {'num_examples': 16, 'loss': 0.6700636148452759}, {'num_examples': 16, 'loss': 0.7283977270126343}, {'num_examples': 16, 'loss': 0.6233277916908264}, {'num_examples': 16, 'loss': 0.6025547385215759}, {'num_examples': 16, 'loss': 0.627894401550293}, {'num_examples': 16, 'loss': 0.6462385058403015}, {'num_examples': 16, 'loss': 0.8042519688606262}, {'num_examples': 16, 'loss': 0.8726130127906799}, {'num_examples': 16, 'loss': 0.6118336915969849}, {'num_examples': 16, 'loss': 0.647554874420166}, {'num_examples': 5, 'loss': 0.6647090315818787}], [{'num_examples': 16, 'loss': 0.6823544502258301}, {'num_examples': 16, 'loss': 0.6480287313461304}, {'num_examples': 16, 'loss': 0.7279167771339417}, {'num_examples': 16, 'loss': 0.6484875082969666}, {'num_examples': 16, 'loss': 0.600310742855072}, {'num_examples': 16, 'loss': 0.6836724877357483}, {'num_examples': 16, 'loss': 0.6291051506996155}, {'num_examples': 16, 'loss': 0.7321131229400635}, {'num_examples': 16, 'loss': 0.5949617624282837}, {'num_examples': 16, 'loss': 0.6018093824386597}, {'num_examples': 16, 'loss': 0.6195686459541321}, {'num_examples': 16, 'loss': 0.6467916965484619}, {'num_examples': 16, 'loss': 0.7864409685134888}, {'num_examples': 16, 'loss': 0.8817110657691956}, {'num_examples': 16, 'loss': 0.5754472017288208}, {'num_examples': 16, 'loss': 0.6331382393836975}, {'num_examples': 5, 'loss': 0.6679350733757019}], [{'num_examples': 16, 'loss': 0.6963056325912476}, {'num_examples': 16, 'loss': 0.6454488039016724}, {'num_examples': 16, 'loss': 0.712786078453064}, {'num_examples': 16, 'loss': 0.6705427169799805}, {'num_examples': 16, 'loss': 0.5946661233901978}, {'num_examples': 16, 'loss': 0.6812040209770203}, {'num_examples': 16, 'loss': 0.6546208262443542}, {'num_examples': 16, 'loss': 0.7093660831451416}, {'num_examples': 16, 'loss': 0.5986351370811462}, {'num_examples': 16, 'loss': 0.6272550225257874}, {'num_examples': 16, 'loss': 0.6287856698036194}, {'num_examples': 16, 'loss': 0.6323757171630859}, {'num_examples': 16, 'loss': 0.8095787763595581}, {'num_examples': 16, 'loss': 0.8240802884101868}, {'num_examples': 16, 'loss': 0.5599094033241272}, {'num_examples': 16, 'loss': 0.6275895237922668}, {'num_examples': 5, 'loss': 0.6629073023796082}], [{'num_examples': 16, 'loss': 0.6990715265274048}, {'num_examples': 16, 'loss': 0.6329392790794373}, {'num_examples': 16, 'loss': 0.7116256356239319}, {'num_examples': 16, 'loss': 0.6677366495132446}, {'num_examples': 16, 'loss': 0.6060063242912292}, {'num_examples': 16, 'loss': 0.6784793138504028}, {'num_examples': 16, 'loss': 0.6793174743652344}, {'num_examples': 16, 'loss': 0.708294153213501}, {'num_examples': 16, 'loss': 0.6259331703186035}, {'num_examples': 16, 'loss': 0.5868975520133972}, {'num_examples': 16, 'loss': 0.6277658939361572}, {'num_examples': 16, 'loss': 0.6235223412513733}, {'num_examples': 16, 'loss': 0.7583557367324829}, {'num_examples': 16, 'loss': 0.8423351049423218}, {'num_examples': 16, 'loss': 0.5879582762718201}, {'num_examples': 16, 'loss': 0.6345946192741394}, {'num_examples': 5, 'loss': 0.725459098815918}], [{'num_examples': 16, 'loss': 0.7002358436584473}, {'num_examples': 16, 'loss': 0.6570696234703064}, {'num_examples': 16, 'loss': 0.7280972599983215}, {'num_examples': 16, 'loss': 0.6763643026351929}, {'num_examples': 16, 'loss': 0.6482275724411011}, {'num_examples': 16, 'loss': 0.6922478079795837}, {'num_examples': 16, 'loss': 0.6501328945159912}, {'num_examples': 16, 'loss': 0.7232191562652588}, {'num_examples': 16, 'loss': 0.6108877658843994}, {'num_examples': 16, 'loss': 0.5774661302566528}, {'num_examples': 16, 'loss': 0.6278539299964905}, {'num_examples': 16, 'loss': 0.5942126512527466}, {'num_examples': 16, 'loss': 0.8121898174285889}, {'num_examples': 16, 'loss': 0.8741145133972168}, {'num_examples': 16, 'loss': 0.5859062671661377}, {'num_examples': 16, 'loss': 0.6243476271629333}, {'num_examples': 5, 'loss': 0.6960354447364807}], [{'num_examples': 16, 'loss': 0.6806538105010986}, {'num_examples': 16, 'loss': 0.642054557800293}, {'num_examples': 16, 'loss': 0.7143592834472656}, {'num_examples': 16, 'loss': 0.6681957244873047}, {'num_examples': 16, 'loss': 0.6356223821640015}, {'num_examples': 16, 'loss': 0.6888335347175598}, {'num_examples': 16, 'loss': 0.6430887579917908}, {'num_examples': 16, 'loss': 0.7272969484329224}, {'num_examples': 16, 'loss': 0.6150590777397156}, {'num_examples': 16, 'loss': 0.5988278985023499}, {'num_examples': 16, 'loss': 0.6304674744606018}, {'num_examples': 16, 'loss': 0.6187469959259033}, {'num_examples': 16, 'loss': 0.8099130988121033}, {'num_examples': 16, 'loss': 0.8837486505508423}, {'num_examples': 16, 'loss': 0.5853502750396729}, {'num_examples': 16, 'loss': 0.6475658416748047}, {'num_examples': 5, 'loss': 0.6734397411346436}], [{'num_examples': 16, 'loss': 0.6936404705047607}, {'num_examples': 16, 'loss': 0.652288556098938}, {'num_examples': 16, 'loss': 0.7282813787460327}, {'num_examples': 16, 'loss': 0.6649978756904602}, {'num_examples': 16, 'loss': 0.6027204990386963}, {'num_examples': 16, 'loss': 0.6693003177642822}, {'num_examples': 16, 'loss': 0.6684370040893555}, {'num_examples': 16, 'loss': 0.7219195365905762}, {'num_examples': 16, 'loss': 0.6126488447189331}, {'num_examples': 16, 'loss': 0.6053320169448853}, {'num_examples': 16, 'loss': 0.6360514163970947}, {'num_examples': 16, 'loss': 0.6334338784217834}, {'num_examples': 16, 'loss': 0.7771927714347839}, {'num_examples': 16, 'loss': 0.8365225791931152}, {'num_examples': 16, 'loss': 0.6116797924041748}, {'num_examples': 16, 'loss': 0.6335504651069641}, {'num_examples': 5, 'loss': 0.6595187187194824}], [{'num_examples': 16, 'loss': 0.7186527252197266}, {'num_examples': 16, 'loss': 0.6126824617385864}, {'num_examples': 16, 'loss': 0.7090115547180176}, {'num_examples': 16, 'loss': 0.6657132506370544}, {'num_examples': 16, 'loss': 0.6054291129112244}, {'num_examples': 16, 'loss': 0.7096569538116455}, {'num_examples': 16, 'loss': 0.6684213280677795}, {'num_examples': 16, 'loss': 0.7490018606185913}, {'num_examples': 16, 'loss': 0.6182597279548645}, {'num_examples': 16, 'loss': 0.6223474144935608}, {'num_examples': 16, 'loss': 0.610676109790802}, {'num_examples': 16, 'loss': 0.6095661520957947}, {'num_examples': 16, 'loss': 0.8055298328399658}, {'num_examples': 16, 'loss': 0.853078305721283}, {'num_examples': 16, 'loss': 0.5815557241439819}, {'num_examples': 16, 'loss': 0.597571849822998}, {'num_examples': 5, 'loss': 0.657425045967102}], [{'num_examples': 16, 'loss': 0.7041085958480835}, {'num_examples': 16, 'loss': 0.6375774145126343}, {'num_examples': 16, 'loss': 0.7308467626571655}, {'num_examples': 16, 'loss': 0.648206889629364}, {'num_examples': 16, 'loss': 0.6138270497322083}, {'num_examples': 16, 'loss': 0.7122619152069092}, {'num_examples': 16, 'loss': 0.6549921035766602}, {'num_examples': 16, 'loss': 0.7208871245384216}, {'num_examples': 16, 'loss': 0.6123436689376831}, {'num_examples': 16, 'loss': 0.6152102947235107}, {'num_examples': 16, 'loss': 0.6464079022407532}, {'num_examples': 16, 'loss': 0.611827552318573}, {'num_examples': 16, 'loss': 0.8089292645454407}, {'num_examples': 16, 'loss': 0.8607034683227539}, {'num_examples': 16, 'loss': 0.576379120349884}, {'num_examples': 16, 'loss': 0.6500227451324463}, {'num_examples': 5, 'loss': 0.7080009579658508}], [{'num_examples': 16, 'loss': 0.712520182132721}, {'num_examples': 16, 'loss': 0.6240505576133728}, {'num_examples': 16, 'loss': 0.7159693241119385}, {'num_examples': 16, 'loss': 0.6797115802764893}, {'num_examples': 16, 'loss': 0.5988059043884277}, {'num_examples': 16, 'loss': 0.6987533569335938}, {'num_examples': 16, 'loss': 0.6628836989402771}, {'num_examples': 16, 'loss': 0.7046948671340942}, {'num_examples': 16, 'loss': 0.6037242412567139}, {'num_examples': 16, 'loss': 0.6138585209846497}, {'num_examples': 16, 'loss': 0.6583902835845947}, {'num_examples': 16, 'loss': 0.6318294405937195}, {'num_examples': 16, 'loss': 0.784299373626709}, {'num_examples': 16, 'loss': 0.8791745901107788}, {'num_examples': 16, 'loss': 0.5805505514144897}, {'num_examples': 16, 'loss': 0.6291726231575012}, {'num_examples': 5, 'loss': 0.6898996233940125}], [{'num_examples': 16, 'loss': 0.686646580696106}, {'num_examples': 16, 'loss': 0.6608765125274658}, {'num_examples': 16, 'loss': 0.7130534052848816}, {'num_examples': 16, 'loss': 0.6597131490707397}, {'num_examples': 16, 'loss': 0.5974188446998596}, {'num_examples': 16, 'loss': 0.6973625421524048}, {'num_examples': 16, 'loss': 0.685398519039154}, {'num_examples': 16, 'loss': 0.6923613548278809}, {'num_examples': 16, 'loss': 0.6191753149032593}, {'num_examples': 16, 'loss': 0.6249803304672241}, {'num_examples': 16, 'loss': 0.6327537894248962}, {'num_examples': 16, 'loss': 0.6267499327659607}, {'num_examples': 16, 'loss': 0.7914606332778931}, {'num_examples': 16, 'loss': 0.8835535645484924}, {'num_examples': 16, 'loss': 0.5886799693107605}, {'num_examples': 16, 'loss': 0.6415174603462219}, {'num_examples': 5, 'loss': 0.6868428587913513}], [{'num_examples': 16, 'loss': 0.7102171182632446}, {'num_examples': 16, 'loss': 0.6408281326293945}, {'num_examples': 16, 'loss': 0.7086933851242065}, {'num_examples': 16, 'loss': 0.6773329377174377}, {'num_examples': 16, 'loss': 0.5670290589332581}, {'num_examples': 16, 'loss': 0.7001953125}, {'num_examples': 16, 'loss': 0.6689718961715698}, {'num_examples': 16, 'loss': 0.7033050656318665}, {'num_examples': 16, 'loss': 0.5927417278289795}, {'num_examples': 16, 'loss': 0.5732997059822083}, {'num_examples': 16, 'loss': 0.6342089772224426}, {'num_examples': 16, 'loss': 0.6354525089263916}, {'num_examples': 16, 'loss': 0.7959213852882385}, {'num_examples': 16, 'loss': 0.8326745629310608}, {'num_examples': 16, 'loss': 0.5932490825653076}, {'num_examples': 16, 'loss': 0.6014589071273804}, {'num_examples': 5, 'loss': 0.6849338412284851}], [{'num_examples': 16, 'loss': 0.7050272226333618}, {'num_examples': 16, 'loss': 0.6297274827957153}, {'num_examples': 16, 'loss': 0.7186335921287537}, {'num_examples': 16, 'loss': 0.6533656120300293}, {'num_examples': 16, 'loss': 0.6123198866844177}, {'num_examples': 16, 'loss': 0.6878090500831604}, {'num_examples': 16, 'loss': 0.6545416116714478}, {'num_examples': 16, 'loss': 0.7209149599075317}, {'num_examples': 16, 'loss': 0.5987427234649658}, {'num_examples': 16, 'loss': 0.5916616916656494}, {'num_examples': 16, 'loss': 0.6281952857971191}, {'num_examples': 16, 'loss': 0.6315463781356812}, {'num_examples': 16, 'loss': 0.8011869192123413}, {'num_examples': 16, 'loss': 0.8670640587806702}, {'num_examples': 16, 'loss': 0.5798145532608032}, {'num_examples': 16, 'loss': 0.612928032875061}, {'num_examples': 5, 'loss': 0.679461658000946}], [{'num_examples': 16, 'loss': 0.6746950149536133}, {'num_examples': 16, 'loss': 0.6244670152664185}, {'num_examples': 16, 'loss': 0.7148104310035706}, {'num_examples': 16, 'loss': 0.6668488383293152}, {'num_examples': 16, 'loss': 0.611496090888977}, {'num_examples': 16, 'loss': 0.6583508849143982}, {'num_examples': 16, 'loss': 0.6485705971717834}, {'num_examples': 16, 'loss': 0.7319198250770569}, {'num_examples': 16, 'loss': 0.6402762532234192}, {'num_examples': 16, 'loss': 0.6062835454940796}, {'num_examples': 16, 'loss': 0.664202868938446}, {'num_examples': 16, 'loss': 0.6191155910491943}, {'num_examples': 16, 'loss': 0.7969992160797119}, {'num_examples': 16, 'loss': 0.8133745193481445}, {'num_examples': 16, 'loss': 0.5870142579078674}, {'num_examples': 16, 'loss': 0.6304104328155518}, {'num_examples': 5, 'loss': 0.6865012049674988}], [{'num_examples': 16, 'loss': 0.685884416103363}, {'num_examples': 16, 'loss': 0.6349766850471497}, {'num_examples': 16, 'loss': 0.6910735368728638}, {'num_examples': 16, 'loss': 0.6620434522628784}, {'num_examples': 16, 'loss': 0.5833045244216919}, {'num_examples': 16, 'loss': 0.714582622051239}, {'num_examples': 16, 'loss': 0.6713548898696899}, {'num_examples': 16, 'loss': 0.714248538017273}, {'num_examples': 16, 'loss': 0.6048663854598999}, {'num_examples': 16, 'loss': 0.5876314640045166}, {'num_examples': 16, 'loss': 0.6250227689743042}, {'num_examples': 16, 'loss': 0.6232513189315796}, {'num_examples': 16, 'loss': 0.7872677445411682}, {'num_examples': 16, 'loss': 0.8342666029930115}, {'num_examples': 16, 'loss': 0.5930150747299194}, {'num_examples': 16, 'loss': 0.6231849193572998}, {'num_examples': 5, 'loss': 0.6381317973136902}], [{'num_examples': 16, 'loss': 0.7103862762451172}, {'num_examples': 16, 'loss': 0.6256880760192871}, {'num_examples': 16, 'loss': 0.7098002433776855}, {'num_examples': 16, 'loss': 0.6723474264144897}, {'num_examples': 16, 'loss': 0.592243492603302}, {'num_examples': 16, 'loss': 0.6931790709495544}, {'num_examples': 16, 'loss': 0.6699510216712952}, {'num_examples': 16, 'loss': 0.7304856777191162}, {'num_examples': 16, 'loss': 0.6177664399147034}, {'num_examples': 16, 'loss': 0.5993163585662842}, {'num_examples': 16, 'loss': 0.6166110634803772}, {'num_examples': 16, 'loss': 0.6279374361038208}, {'num_examples': 16, 'loss': 0.8334113359451294}, {'num_examples': 16, 'loss': 0.8462454080581665}, {'num_examples': 16, 'loss': 0.5953372120857239}, {'num_examples': 16, 'loss': 0.6248178482055664}, {'num_examples': 5, 'loss': 0.6933659315109253}], [{'num_examples': 16, 'loss': 0.6735754609107971}, {'num_examples': 16, 'loss': 0.6361021995544434}, {'num_examples': 16, 'loss': 0.7148423194885254}, {'num_examples': 16, 'loss': 0.6795188188552856}, {'num_examples': 16, 'loss': 0.6210616230964661}, {'num_examples': 16, 'loss': 0.6968564987182617}, {'num_examples': 16, 'loss': 0.6574777364730835}, {'num_examples': 16, 'loss': 0.7114485502243042}, {'num_examples': 16, 'loss': 0.6269189715385437}, {'num_examples': 16, 'loss': 0.6167577505111694}, {'num_examples': 16, 'loss': 0.6341499090194702}, {'num_examples': 16, 'loss': 0.6526230573654175}, {'num_examples': 16, 'loss': 0.811769962310791}, {'num_examples': 16, 'loss': 0.8527650833129883}, {'num_examples': 16, 'loss': 0.5871481895446777}, {'num_examples': 16, 'loss': 0.6344490647315979}, {'num_examples': 5, 'loss': 0.6854674220085144}], [{'num_examples': 16, 'loss': 0.7022557854652405}, {'num_examples': 16, 'loss': 0.6333022713661194}, {'num_examples': 16, 'loss': 0.7311869263648987}, {'num_examples': 16, 'loss': 0.6610120534896851}, {'num_examples': 16, 'loss': 0.6050868630409241}, {'num_examples': 16, 'loss': 0.6735368967056274}, {'num_examples': 16, 'loss': 0.6602774262428284}, {'num_examples': 16, 'loss': 0.6973720192909241}, {'num_examples': 16, 'loss': 0.5949909687042236}, {'num_examples': 16, 'loss': 0.6010503768920898}, {'num_examples': 16, 'loss': 0.6339761018753052}, {'num_examples': 16, 'loss': 0.6372604370117188}, {'num_examples': 16, 'loss': 0.774633526802063}, {'num_examples': 16, 'loss': 0.8676673769950867}, {'num_examples': 16, 'loss': 0.6015814542770386}, {'num_examples': 16, 'loss': 0.61467444896698}, {'num_examples': 5, 'loss': 0.7063620686531067}], [{'num_examples': 16, 'loss': 0.6775848865509033}, {'num_examples': 16, 'loss': 0.6284463405609131}, {'num_examples': 16, 'loss': 0.7486774325370789}, {'num_examples': 16, 'loss': 0.667626678943634}, {'num_examples': 16, 'loss': 0.5837504863739014}, {'num_examples': 16, 'loss': 0.6849190592765808}, {'num_examples': 16, 'loss': 0.6627050638198853}, {'num_examples': 16, 'loss': 0.7192363739013672}, {'num_examples': 16, 'loss': 0.6407026052474976}, {'num_examples': 16, 'loss': 0.6295880079269409}, {'num_examples': 16, 'loss': 0.6453582048416138}, {'num_examples': 16, 'loss': 0.6007132530212402}, {'num_examples': 16, 'loss': 0.7859771847724915}, {'num_examples': 16, 'loss': 0.8333207368850708}, {'num_examples': 16, 'loss': 0.5809550285339355}, {'num_examples': 16, 'loss': 0.6407520174980164}, {'num_examples': 5, 'loss': 0.664722204208374}], [{'num_examples': 16, 'loss': 0.6852156519889832}, {'num_examples': 16, 'loss': 0.6261082887649536}, {'num_examples': 16, 'loss': 0.7226192355155945}, {'num_examples': 16, 'loss': 0.6832764148712158}, {'num_examples': 16, 'loss': 0.6164661049842834}, {'num_examples': 16, 'loss': 0.7244752645492554}, {'num_examples': 16, 'loss': 0.6682767271995544}, {'num_examples': 16, 'loss': 0.7071447372436523}, {'num_examples': 16, 'loss': 0.599581778049469}, {'num_examples': 16, 'loss': 0.5990738272666931}, {'num_examples': 16, 'loss': 0.6385115385055542}, {'num_examples': 16, 'loss': 0.6066769361495972}, {'num_examples': 16, 'loss': 0.7969069480895996}, {'num_examples': 16, 'loss': 0.8255313038825989}, {'num_examples': 16, 'loss': 0.577459990978241}, {'num_examples': 16, 'loss': 0.6410369873046875}, {'num_examples': 5, 'loss': 0.6665393710136414}], [{'num_examples': 16, 'loss': 0.6893395781517029}, {'num_examples': 16, 'loss': 0.6344079375267029}, {'num_examples': 16, 'loss': 0.7029750347137451}, {'num_examples': 16, 'loss': 0.6513855457305908}, {'num_examples': 16, 'loss': 0.5978028178215027}, {'num_examples': 16, 'loss': 0.7079595923423767}, {'num_examples': 16, 'loss': 0.6671340465545654}, {'num_examples': 16, 'loss': 0.7104744911193848}, {'num_examples': 16, 'loss': 0.5603672862052917}, {'num_examples': 16, 'loss': 0.6056148409843445}, {'num_examples': 16, 'loss': 0.6158105134963989}, {'num_examples': 16, 'loss': 0.5822547674179077}, {'num_examples': 16, 'loss': 0.8479740619659424}, {'num_examples': 16, 'loss': 0.8601734638214111}, {'num_examples': 16, 'loss': 0.585637092590332}, {'num_examples': 16, 'loss': 0.6401509642601013}, {'num_examples': 5, 'loss': 0.7057974934577942}], [{'num_examples': 16, 'loss': 0.6972134113311768}, {'num_examples': 16, 'loss': 0.6522115468978882}, {'num_examples': 16, 'loss': 0.7229714393615723}, {'num_examples': 16, 'loss': 0.6761681437492371}, {'num_examples': 16, 'loss': 0.6228575110435486}, {'num_examples': 16, 'loss': 0.6908264756202698}, {'num_examples': 16, 'loss': 0.6892257928848267}, {'num_examples': 16, 'loss': 0.703579843044281}, {'num_examples': 16, 'loss': 0.6254515647888184}, {'num_examples': 16, 'loss': 0.6038662195205688}, {'num_examples': 16, 'loss': 0.6355957984924316}, {'num_examples': 16, 'loss': 0.6108854413032532}, {'num_examples': 16, 'loss': 0.7980837225914001}, {'num_examples': 16, 'loss': 0.8568432331085205}, {'num_examples': 16, 'loss': 0.5830860733985901}, {'num_examples': 16, 'loss': 0.6208459734916687}, {'num_examples': 5, 'loss': 0.6369269490242004}], [{'num_examples': 16, 'loss': 0.7000300884246826}, {'num_examples': 16, 'loss': 0.6249419450759888}, {'num_examples': 16, 'loss': 0.7183865904808044}, {'num_examples': 16, 'loss': 0.6645429730415344}, {'num_examples': 16, 'loss': 0.5959683656692505}, {'num_examples': 16, 'loss': 0.6842308640480042}, {'num_examples': 16, 'loss': 0.6648916006088257}, {'num_examples': 16, 'loss': 0.7186705470085144}, {'num_examples': 16, 'loss': 0.6322034597396851}, {'num_examples': 16, 'loss': 0.6097303628921509}, {'num_examples': 16, 'loss': 0.6315553784370422}, {'num_examples': 16, 'loss': 0.6344242691993713}, {'num_examples': 16, 'loss': 0.7846695184707642}, {'num_examples': 16, 'loss': 0.8238557577133179}, {'num_examples': 16, 'loss': 0.5899639129638672}, {'num_examples': 16, 'loss': 0.6399337649345398}, {'num_examples': 5, 'loss': 0.6750349402427673}], [{'num_examples': 16, 'loss': 0.6903252005577087}, {'num_examples': 16, 'loss': 0.6437252759933472}, {'num_examples': 16, 'loss': 0.7126944661140442}, {'num_examples': 16, 'loss': 0.6612691283226013}, {'num_examples': 16, 'loss': 0.5995944738388062}, {'num_examples': 16, 'loss': 0.6860310435295105}, {'num_examples': 16, 'loss': 0.6567593812942505}, {'num_examples': 16, 'loss': 0.7069311738014221}, {'num_examples': 16, 'loss': 0.6133503913879395}, {'num_examples': 16, 'loss': 0.5879710912704468}, {'num_examples': 16, 'loss': 0.6389402747154236}, {'num_examples': 16, 'loss': 0.6340147256851196}, {'num_examples': 16, 'loss': 0.8081759214401245}, {'num_examples': 16, 'loss': 0.8109068274497986}, {'num_examples': 16, 'loss': 0.5837192535400391}, {'num_examples': 16, 'loss': 0.6096176505088806}, {'num_examples': 5, 'loss': 0.738434374332428}], [{'num_examples': 16, 'loss': 0.7103978991508484}, {'num_examples': 16, 'loss': 0.6039498448371887}, {'num_examples': 16, 'loss': 0.6914086937904358}, {'num_examples': 16, 'loss': 0.6665187478065491}, {'num_examples': 16, 'loss': 0.5674252510070801}, {'num_examples': 16, 'loss': 0.6914383769035339}, {'num_examples': 16, 'loss': 0.6632580757141113}, {'num_examples': 16, 'loss': 0.7241158485412598}, {'num_examples': 16, 'loss': 0.6163367629051208}, {'num_examples': 16, 'loss': 0.5916831493377686}, {'num_examples': 16, 'loss': 0.6360148191452026}, {'num_examples': 16, 'loss': 0.6150919795036316}, {'num_examples': 16, 'loss': 0.789580225944519}, {'num_examples': 16, 'loss': 0.8313401341438293}, {'num_examples': 16, 'loss': 0.5703717470169067}, {'num_examples': 16, 'loss': 0.6331350803375244}, {'num_examples': 5, 'loss': 0.6937535405158997}], [{'num_examples': 16, 'loss': 0.6824634075164795}, {'num_examples': 16, 'loss': 0.6403780579566956}, {'num_examples': 16, 'loss': 0.6988226175308228}, {'num_examples': 16, 'loss': 0.6721674203872681}, {'num_examples': 16, 'loss': 0.600203275680542}, {'num_examples': 16, 'loss': 0.6750287413597107}, {'num_examples': 16, 'loss': 0.6623342037200928}, {'num_examples': 16, 'loss': 0.7258206605911255}, {'num_examples': 16, 'loss': 0.5984744429588318}, {'num_examples': 16, 'loss': 0.6237102746963501}, {'num_examples': 16, 'loss': 0.635226845741272}, {'num_examples': 16, 'loss': 0.6259604096412659}, {'num_examples': 16, 'loss': 0.7992005944252014}, {'num_examples': 16, 'loss': 0.8534502983093262}, {'num_examples': 16, 'loss': 0.602607250213623}, {'num_examples': 16, 'loss': 0.6105709671974182}, {'num_examples': 5, 'loss': 0.6956354975700378}], [{'num_examples': 16, 'loss': 0.7108332514762878}, {'num_examples': 16, 'loss': 0.6299060583114624}, {'num_examples': 16, 'loss': 0.7114241123199463}, {'num_examples': 16, 'loss': 0.6833879947662354}, {'num_examples': 16, 'loss': 0.6049181818962097}, {'num_examples': 16, 'loss': 0.6804614663124084}, {'num_examples': 16, 'loss': 0.6421827077865601}, {'num_examples': 16, 'loss': 0.7249131798744202}, {'num_examples': 16, 'loss': 0.5930981040000916}, {'num_examples': 16, 'loss': 0.610236644744873}, {'num_examples': 16, 'loss': 0.6492142677307129}, {'num_examples': 16, 'loss': 0.6253102421760559}, {'num_examples': 16, 'loss': 0.7885320782661438}, {'num_examples': 16, 'loss': 0.8158926367759705}, {'num_examples': 16, 'loss': 0.5871303677558899}, {'num_examples': 16, 'loss': 0.6346234679222107}, {'num_examples': 5, 'loss': 0.7084017992019653}], [{'num_examples': 16, 'loss': 0.6877830624580383}, {'num_examples': 16, 'loss': 0.6216198801994324}, {'num_examples': 16, 'loss': 0.7211612462997437}, {'num_examples': 16, 'loss': 0.6569581031799316}, {'num_examples': 16, 'loss': 0.5699688196182251}, {'num_examples': 16, 'loss': 0.6974848508834839}, {'num_examples': 16, 'loss': 0.6471277475357056}, {'num_examples': 16, 'loss': 0.7296045422554016}, {'num_examples': 16, 'loss': 0.6041092276573181}, {'num_examples': 16, 'loss': 0.6107152700424194}, {'num_examples': 16, 'loss': 0.6278492212295532}, {'num_examples': 16, 'loss': 0.6257668137550354}, {'num_examples': 16, 'loss': 0.7758552432060242}, {'num_examples': 16, 'loss': 0.8462179899215698}, {'num_examples': 16, 'loss': 0.5949084162712097}, {'num_examples': 16, 'loss': 0.6196361780166626}, {'num_examples': 5, 'loss': 0.6634882092475891}], [{'num_examples': 16, 'loss': 0.6678122282028198}, {'num_examples': 16, 'loss': 0.6473686099052429}, {'num_examples': 16, 'loss': 0.7247799038887024}, {'num_examples': 16, 'loss': 0.6838226318359375}, {'num_examples': 16, 'loss': 0.6122066974639893}, {'num_examples': 16, 'loss': 0.7002477645874023}, {'num_examples': 16, 'loss': 0.6485489010810852}, {'num_examples': 16, 'loss': 0.7049316763877869}, {'num_examples': 16, 'loss': 0.6152712106704712}, {'num_examples': 16, 'loss': 0.615809440612793}, {'num_examples': 16, 'loss': 0.6309487819671631}, {'num_examples': 16, 'loss': 0.6087738871574402}, {'num_examples': 16, 'loss': 0.8025569319725037}, {'num_examples': 16, 'loss': 0.8283565044403076}, {'num_examples': 16, 'loss': 0.5978561639785767}, {'num_examples': 16, 'loss': 0.6274679899215698}, {'num_examples': 5, 'loss': 0.6781487464904785}], [{'num_examples': 16, 'loss': 0.7116389274597168}, {'num_examples': 16, 'loss': 0.6389703750610352}, {'num_examples': 16, 'loss': 0.7387786507606506}, {'num_examples': 16, 'loss': 0.652606725692749}, {'num_examples': 16, 'loss': 0.5948618054389954}, {'num_examples': 16, 'loss': 0.6997066736221313}, {'num_examples': 16, 'loss': 0.6469660997390747}, {'num_examples': 16, 'loss': 0.6974037289619446}, {'num_examples': 16, 'loss': 0.5920171737670898}, {'num_examples': 16, 'loss': 0.613412618637085}, {'num_examples': 16, 'loss': 0.6652533411979675}, {'num_examples': 16, 'loss': 0.6490554213523865}, {'num_examples': 16, 'loss': 0.7793129086494446}, {'num_examples': 16, 'loss': 0.8301133513450623}, {'num_examples': 16, 'loss': 0.6041651368141174}, {'num_examples': 16, 'loss': 0.6113359928131104}, {'num_examples': 5, 'loss': 0.7001789212226868}], [{'num_examples': 16, 'loss': 0.7141494154930115}, {'num_examples': 16, 'loss': 0.6334180235862732}, {'num_examples': 16, 'loss': 0.7248775362968445}, {'num_examples': 16, 'loss': 0.6530585885047913}, {'num_examples': 16, 'loss': 0.5637875199317932}, {'num_examples': 16, 'loss': 0.6957617402076721}, {'num_examples': 16, 'loss': 0.6591897010803223}, {'num_examples': 16, 'loss': 0.6990223526954651}, {'num_examples': 16, 'loss': 0.6290879845619202}, {'num_examples': 16, 'loss': 0.6192224025726318}, {'num_examples': 16, 'loss': 0.6283506155014038}, {'num_examples': 16, 'loss': 0.6268836259841919}, {'num_examples': 16, 'loss': 0.8154175877571106}, {'num_examples': 16, 'loss': 0.8310789465904236}, {'num_examples': 16, 'loss': 0.5817143321037292}, {'num_examples': 16, 'loss': 0.657182514667511}, {'num_examples': 5, 'loss': 0.6574788689613342}], [{'num_examples': 16, 'loss': 0.7030737996101379}, {'num_examples': 16, 'loss': 0.6621379852294922}, {'num_examples': 16, 'loss': 0.7395398616790771}, {'num_examples': 16, 'loss': 0.6560071110725403}, {'num_examples': 16, 'loss': 0.6020367741584778}, {'num_examples': 16, 'loss': 0.6814727187156677}, {'num_examples': 16, 'loss': 0.6618671417236328}, {'num_examples': 16, 'loss': 0.7270294427871704}, {'num_examples': 16, 'loss': 0.6056494116783142}, {'num_examples': 16, 'loss': 0.613359808921814}, {'num_examples': 16, 'loss': 0.6426525712013245}, {'num_examples': 16, 'loss': 0.6431057453155518}, {'num_examples': 16, 'loss': 0.7689561247825623}, {'num_examples': 16, 'loss': 0.8190205693244934}, {'num_examples': 16, 'loss': 0.5915942192077637}, {'num_examples': 16, 'loss': 0.6557047367095947}, {'num_examples': 5, 'loss': 0.6813179850578308}], [{'num_examples': 16, 'loss': 0.6702672839164734}, {'num_examples': 16, 'loss': 0.6334431767463684}, {'num_examples': 16, 'loss': 0.7297245264053345}, {'num_examples': 16, 'loss': 0.6574345231056213}, {'num_examples': 16, 'loss': 0.5882455110549927}, {'num_examples': 16, 'loss': 0.702157735824585}, {'num_examples': 16, 'loss': 0.6756148934364319}, {'num_examples': 16, 'loss': 0.7082071900367737}, {'num_examples': 16, 'loss': 0.6130428314208984}, {'num_examples': 16, 'loss': 0.6089067459106445}, {'num_examples': 16, 'loss': 0.6460692882537842}, {'num_examples': 16, 'loss': 0.6288886070251465}, {'num_examples': 16, 'loss': 0.7832750082015991}, {'num_examples': 16, 'loss': 0.8389774560928345}, {'num_examples': 16, 'loss': 0.5749268531799316}, {'num_examples': 16, 'loss': 0.639066755771637}, {'num_examples': 5, 'loss': 0.6827858090400696}], [{'num_examples': 16, 'loss': 0.7009826302528381}, {'num_examples': 16, 'loss': 0.6310415863990784}, {'num_examples': 16, 'loss': 0.7333052754402161}, {'num_examples': 16, 'loss': 0.6539995074272156}, {'num_examples': 16, 'loss': 0.5825945138931274}, {'num_examples': 16, 'loss': 0.7115479111671448}, {'num_examples': 16, 'loss': 0.6609193086624146}, {'num_examples': 16, 'loss': 0.736452579498291}, {'num_examples': 16, 'loss': 0.6198002099990845}, {'num_examples': 16, 'loss': 0.6029894351959229}, {'num_examples': 16, 'loss': 0.6279042959213257}, {'num_examples': 16, 'loss': 0.6352831721305847}, {'num_examples': 16, 'loss': 0.791114330291748}, {'num_examples': 16, 'loss': 0.8303310871124268}, {'num_examples': 16, 'loss': 0.5805535912513733}, {'num_examples': 16, 'loss': 0.6526923775672913}, {'num_examples': 5, 'loss': 0.6402766704559326}], [{'num_examples': 16, 'loss': 0.6956539154052734}, {'num_examples': 16, 'loss': 0.6550706028938293}, {'num_examples': 16, 'loss': 0.7296508550643921}, {'num_examples': 16, 'loss': 0.6573641896247864}, {'num_examples': 16, 'loss': 0.5907409191131592}, {'num_examples': 16, 'loss': 0.6737105250358582}, {'num_examples': 16, 'loss': 0.6736069321632385}, {'num_examples': 16, 'loss': 0.7165125012397766}, {'num_examples': 16, 'loss': 0.6206289529800415}, {'num_examples': 16, 'loss': 0.6127936244010925}, {'num_examples': 16, 'loss': 0.6098560690879822}, {'num_examples': 16, 'loss': 0.6390919089317322}, {'num_examples': 16, 'loss': 0.7417960166931152}, {'num_examples': 16, 'loss': 0.8173381686210632}, {'num_examples': 16, 'loss': 0.6000182032585144}, {'num_examples': 16, 'loss': 0.6205757260322571}, {'num_examples': 5, 'loss': 0.6605887413024902}], [{'num_examples': 16, 'loss': 0.7004567384719849}, {'num_examples': 16, 'loss': 0.6292815804481506}, {'num_examples': 16, 'loss': 0.746982991695404}, {'num_examples': 16, 'loss': 0.651783287525177}, {'num_examples': 16, 'loss': 0.5692681670188904}, {'num_examples': 16, 'loss': 0.6778239011764526}, {'num_examples': 16, 'loss': 0.679332971572876}, {'num_examples': 16, 'loss': 0.7174835801124573}, {'num_examples': 16, 'loss': 0.5811144709587097}, {'num_examples': 16, 'loss': 0.5970050096511841}, {'num_examples': 16, 'loss': 0.608771562576294}, {'num_examples': 16, 'loss': 0.6331355571746826}, {'num_examples': 16, 'loss': 0.8305092453956604}, {'num_examples': 16, 'loss': 0.8126379251480103}, {'num_examples': 16, 'loss': 0.5942693948745728}, {'num_examples': 16, 'loss': 0.6252152323722839}, {'num_examples': 5, 'loss': 0.6708523035049438}], [{'num_examples': 16, 'loss': 0.6922297477722168}, {'num_examples': 16, 'loss': 0.6224880814552307}, {'num_examples': 16, 'loss': 0.734342098236084}, {'num_examples': 16, 'loss': 0.6518247127532959}, {'num_examples': 16, 'loss': 0.5911260843276978}, {'num_examples': 16, 'loss': 0.6920707821846008}, {'num_examples': 16, 'loss': 0.6623134613037109}, {'num_examples': 16, 'loss': 0.7274575233459473}, {'num_examples': 16, 'loss': 0.6048588752746582}, {'num_examples': 16, 'loss': 0.5917117595672607}, {'num_examples': 16, 'loss': 0.6361417174339294}, {'num_examples': 16, 'loss': 0.6138648986816406}, {'num_examples': 16, 'loss': 0.8238473534584045}, {'num_examples': 16, 'loss': 0.8483396768569946}, {'num_examples': 16, 'loss': 0.5812283158302307}, {'num_examples': 16, 'loss': 0.6332128047943115}, {'num_examples': 5, 'loss': 0.6916494965553284}], [{'num_examples': 16, 'loss': 0.6694020628929138}, {'num_examples': 16, 'loss': 0.6219280362129211}, {'num_examples': 16, 'loss': 0.748361349105835}, {'num_examples': 16, 'loss': 0.6570336222648621}, {'num_examples': 16, 'loss': 0.5759283900260925}, {'num_examples': 16, 'loss': 0.6875221133232117}, {'num_examples': 16, 'loss': 0.6717301607131958}, {'num_examples': 16, 'loss': 0.6959540247917175}, {'num_examples': 16, 'loss': 0.6085283756256104}, {'num_examples': 16, 'loss': 0.5983867049217224}, {'num_examples': 16, 'loss': 0.6597679853439331}, {'num_examples': 16, 'loss': 0.6135200262069702}, {'num_examples': 16, 'loss': 0.8181470632553101}, {'num_examples': 16, 'loss': 0.8340688347816467}, {'num_examples': 16, 'loss': 0.5834291577339172}, {'num_examples': 16, 'loss': 0.6121212244033813}, {'num_examples': 5, 'loss': 0.6945760846138}], [{'num_examples': 16, 'loss': 0.6825438737869263}, {'num_examples': 16, 'loss': 0.6413975358009338}, {'num_examples': 16, 'loss': 0.7282494902610779}, {'num_examples': 16, 'loss': 0.643175482749939}, {'num_examples': 16, 'loss': 0.6003211736679077}, {'num_examples': 16, 'loss': 0.6803829669952393}, {'num_examples': 16, 'loss': 0.6650099158287048}, {'num_examples': 16, 'loss': 0.6994809508323669}, {'num_examples': 16, 'loss': 0.6054509282112122}, {'num_examples': 16, 'loss': 0.6131607294082642}, {'num_examples': 16, 'loss': 0.6332592964172363}, {'num_examples': 16, 'loss': 0.6524766683578491}, {'num_examples': 16, 'loss': 0.7661007046699524}, {'num_examples': 16, 'loss': 0.8671902418136597}, {'num_examples': 16, 'loss': 0.5989697575569153}, {'num_examples': 16, 'loss': 0.628656804561615}, {'num_examples': 5, 'loss': 0.6755639910697937}], [{'num_examples': 16, 'loss': 0.7215642333030701}, {'num_examples': 16, 'loss': 0.6288149356842041}, {'num_examples': 16, 'loss': 0.7300252914428711}, {'num_examples': 16, 'loss': 0.6707563400268555}, {'num_examples': 16, 'loss': 0.5769017338752747}, {'num_examples': 16, 'loss': 0.6751172542572021}, {'num_examples': 16, 'loss': 0.673662543296814}, {'num_examples': 16, 'loss': 0.7247089743614197}, {'num_examples': 16, 'loss': 0.6180596351623535}, {'num_examples': 16, 'loss': 0.5994712710380554}, {'num_examples': 16, 'loss': 0.6323621273040771}, {'num_examples': 16, 'loss': 0.6207770705223083}, {'num_examples': 16, 'loss': 0.7731075286865234}, {'num_examples': 16, 'loss': 0.8016123175621033}, {'num_examples': 16, 'loss': 0.6060596108436584}, {'num_examples': 16, 'loss': 0.6251416206359863}, {'num_examples': 5, 'loss': 0.684585452079773}], [{'num_examples': 16, 'loss': 0.6947346329689026}, {'num_examples': 16, 'loss': 0.6201725006103516}, {'num_examples': 16, 'loss': 0.7199925780296326}, {'num_examples': 16, 'loss': 0.6409310698509216}, {'num_examples': 16, 'loss': 0.5839393138885498}, {'num_examples': 16, 'loss': 0.6824570894241333}, {'num_examples': 16, 'loss': 0.6703787446022034}, {'num_examples': 16, 'loss': 0.7244491577148438}, {'num_examples': 16, 'loss': 0.5913612246513367}, {'num_examples': 16, 'loss': 0.6103852987289429}, {'num_examples': 16, 'loss': 0.6519280672073364}, {'num_examples': 16, 'loss': 0.619715690612793}, {'num_examples': 16, 'loss': 0.7825953364372253}, {'num_examples': 16, 'loss': 0.8248072266578674}, {'num_examples': 16, 'loss': 0.5955486297607422}, {'num_examples': 16, 'loss': 0.6175937652587891}, {'num_examples': 5, 'loss': 0.7010846138000488}], [{'num_examples': 16, 'loss': 0.6951476335525513}, {'num_examples': 16, 'loss': 0.6401519179344177}, {'num_examples': 16, 'loss': 0.7408552765846252}, {'num_examples': 16, 'loss': 0.657067060470581}, {'num_examples': 16, 'loss': 0.5874355435371399}, {'num_examples': 16, 'loss': 0.7179850339889526}, {'num_examples': 16, 'loss': 0.6612697243690491}, {'num_examples': 16, 'loss': 0.7107825875282288}, {'num_examples': 16, 'loss': 0.5967464447021484}, {'num_examples': 16, 'loss': 0.6296203136444092}, {'num_examples': 16, 'loss': 0.6329998970031738}, {'num_examples': 16, 'loss': 0.6123603582382202}, {'num_examples': 16, 'loss': 0.7908481955528259}, {'num_examples': 16, 'loss': 0.8453269600868225}, {'num_examples': 16, 'loss': 0.5943198800086975}, {'num_examples': 16, 'loss': 0.6394016742706299}, {'num_examples': 5, 'loss': 0.7189748287200928}], [{'num_examples': 16, 'loss': 0.6847104430198669}, {'num_examples': 16, 'loss': 0.6465246081352234}, {'num_examples': 16, 'loss': 0.7202948927879333}, {'num_examples': 16, 'loss': 0.6752457022666931}, {'num_examples': 16, 'loss': 0.6039252877235413}, {'num_examples': 16, 'loss': 0.6898777484893799}, {'num_examples': 16, 'loss': 0.6556605100631714}, {'num_examples': 16, 'loss': 0.7420843243598938}, {'num_examples': 16, 'loss': 0.6131241917610168}, {'num_examples': 16, 'loss': 0.615721583366394}, {'num_examples': 16, 'loss': 0.631192147731781}, {'num_examples': 16, 'loss': 0.6302863359451294}, {'num_examples': 16, 'loss': 0.8034346699714661}, {'num_examples': 16, 'loss': 0.8166725039482117}, {'num_examples': 16, 'loss': 0.5918405652046204}, {'num_examples': 16, 'loss': 0.6261786818504333}, {'num_examples': 5, 'loss': 0.6863752603530884}], [{'num_examples': 16, 'loss': 0.7020915150642395}, {'num_examples': 16, 'loss': 0.6168813705444336}, {'num_examples': 16, 'loss': 0.7229601740837097}, {'num_examples': 16, 'loss': 0.6655606627464294}, {'num_examples': 16, 'loss': 0.5971688628196716}, {'num_examples': 16, 'loss': 0.702311098575592}, {'num_examples': 16, 'loss': 0.6688599586486816}, {'num_examples': 16, 'loss': 0.7246183156967163}, {'num_examples': 16, 'loss': 0.6238244771957397}, {'num_examples': 16, 'loss': 0.5853095650672913}, {'num_examples': 16, 'loss': 0.6171972155570984}, {'num_examples': 16, 'loss': 0.6374357342720032}, {'num_examples': 16, 'loss': 0.7674742937088013}, {'num_examples': 16, 'loss': 0.8427038192749023}, {'num_examples': 16, 'loss': 0.5938923954963684}, {'num_examples': 16, 'loss': 0.6355141997337341}, {'num_examples': 5, 'loss': 0.6820773482322693}], [{'num_examples': 16, 'loss': 0.6840546727180481}, {'num_examples': 16, 'loss': 0.6384236812591553}, {'num_examples': 16, 'loss': 0.7022239565849304}, {'num_examples': 16, 'loss': 0.6448480486869812}, {'num_examples': 16, 'loss': 0.6040481925010681}, {'num_examples': 16, 'loss': 0.6817759275436401}, {'num_examples': 16, 'loss': 0.6606433391571045}, {'num_examples': 16, 'loss': 0.7302314043045044}, {'num_examples': 16, 'loss': 0.6113408803939819}, {'num_examples': 16, 'loss': 0.6263468861579895}, {'num_examples': 16, 'loss': 0.6420232653617859}, {'num_examples': 16, 'loss': 0.6379930973052979}, {'num_examples': 16, 'loss': 0.794654905796051}, {'num_examples': 16, 'loss': 0.7934423089027405}, {'num_examples': 16, 'loss': 0.5906126499176025}, {'num_examples': 16, 'loss': 0.6377648115158081}, {'num_examples': 5, 'loss': 0.6713735461235046}], [{'num_examples': 16, 'loss': 0.7100218534469604}, {'num_examples': 16, 'loss': 0.6448294520378113}, {'num_examples': 16, 'loss': 0.7218563556671143}, {'num_examples': 16, 'loss': 0.6640718579292297}, {'num_examples': 16, 'loss': 0.5819832682609558}, {'num_examples': 16, 'loss': 0.6937418580055237}, {'num_examples': 16, 'loss': 0.6619909405708313}, {'num_examples': 16, 'loss': 0.7358138561248779}, {'num_examples': 16, 'loss': 0.6052208542823792}, {'num_examples': 16, 'loss': 0.5941940546035767}, {'num_examples': 16, 'loss': 0.6298412084579468}, {'num_examples': 16, 'loss': 0.6309664249420166}, {'num_examples': 16, 'loss': 0.7877438068389893}, {'num_examples': 16, 'loss': 0.8230149745941162}, {'num_examples': 16, 'loss': 0.5935648679733276}, {'num_examples': 16, 'loss': 0.6200602650642395}, {'num_examples': 5, 'loss': 0.6669022440910339}], [{'num_examples': 16, 'loss': 0.7090550661087036}, {'num_examples': 16, 'loss': 0.6450880765914917}, {'num_examples': 16, 'loss': 0.7522816061973572}, {'num_examples': 16, 'loss': 0.6492401361465454}, {'num_examples': 16, 'loss': 0.5986209511756897}, {'num_examples': 16, 'loss': 0.6842346787452698}, {'num_examples': 16, 'loss': 0.6796478033065796}, {'num_examples': 16, 'loss': 0.7142075896263123}, {'num_examples': 16, 'loss': 0.602721631526947}, {'num_examples': 16, 'loss': 0.6300814151763916}, {'num_examples': 16, 'loss': 0.6279361248016357}, {'num_examples': 16, 'loss': 0.6290552020072937}, {'num_examples': 16, 'loss': 0.7832045555114746}, {'num_examples': 16, 'loss': 0.8495023846626282}, {'num_examples': 16, 'loss': 0.584036648273468}, {'num_examples': 16, 'loss': 0.6157925128936768}, {'num_examples': 5, 'loss': 0.7018055319786072}], [{'num_examples': 16, 'loss': 0.6875195503234863}, {'num_examples': 16, 'loss': 0.6440185904502869}, {'num_examples': 16, 'loss': 0.7234615683555603}, {'num_examples': 16, 'loss': 0.6605787873268127}, {'num_examples': 16, 'loss': 0.5782817006111145}, {'num_examples': 16, 'loss': 0.6843255162239075}, {'num_examples': 16, 'loss': 0.6716427803039551}, {'num_examples': 16, 'loss': 0.7118790745735168}, {'num_examples': 16, 'loss': 0.6189171075820923}, {'num_examples': 16, 'loss': 0.5990312099456787}, {'num_examples': 16, 'loss': 0.6318515539169312}, {'num_examples': 16, 'loss': 0.6404291391372681}, {'num_examples': 16, 'loss': 0.7812339663505554}, {'num_examples': 16, 'loss': 0.7929640412330627}, {'num_examples': 16, 'loss': 0.6047523617744446}, {'num_examples': 16, 'loss': 0.6348164677619934}, {'num_examples': 5, 'loss': 0.7048404812812805}], [{'num_examples': 16, 'loss': 0.7067901492118835}, {'num_examples': 16, 'loss': 0.6489816904067993}, {'num_examples': 16, 'loss': 0.7209939360618591}, {'num_examples': 16, 'loss': 0.6484256982803345}, {'num_examples': 16, 'loss': 0.5860501527786255}, {'num_examples': 16, 'loss': 0.6998600363731384}, {'num_examples': 16, 'loss': 0.6518325209617615}, {'num_examples': 16, 'loss': 0.7166195511817932}, {'num_examples': 16, 'loss': 0.61878901720047}, {'num_examples': 16, 'loss': 0.6147627830505371}, {'num_examples': 16, 'loss': 0.6456117630004883}, {'num_examples': 16, 'loss': 0.6347993612289429}, {'num_examples': 16, 'loss': 0.770872175693512}, {'num_examples': 16, 'loss': 0.8271904587745667}, {'num_examples': 16, 'loss': 0.613771378993988}, {'num_examples': 16, 'loss': 0.607843279838562}, {'num_examples': 5, 'loss': 0.7155830264091492}], [{'num_examples': 16, 'loss': 0.6887637376785278}, {'num_examples': 16, 'loss': 0.6202819347381592}, {'num_examples': 16, 'loss': 0.7298145294189453}, {'num_examples': 16, 'loss': 0.6486276388168335}, {'num_examples': 16, 'loss': 0.5738871693611145}, {'num_examples': 16, 'loss': 0.6957578659057617}, {'num_examples': 16, 'loss': 0.6369997262954712}, {'num_examples': 16, 'loss': 0.7442137002944946}, {'num_examples': 16, 'loss': 0.6117852926254272}, {'num_examples': 16, 'loss': 0.619184672832489}, {'num_examples': 16, 'loss': 0.6400620937347412}, {'num_examples': 16, 'loss': 0.6270706057548523}, {'num_examples': 16, 'loss': 0.7754737734794617}, {'num_examples': 16, 'loss': 0.832675576210022}, {'num_examples': 16, 'loss': 0.5811136364936829}, {'num_examples': 16, 'loss': 0.6339945793151855}, {'num_examples': 5, 'loss': 0.6812230348587036}], [{'num_examples': 16, 'loss': 0.6777446866035461}, {'num_examples': 16, 'loss': 0.6279442310333252}, {'num_examples': 16, 'loss': 0.7200527787208557}, {'num_examples': 16, 'loss': 0.6594107747077942}, {'num_examples': 16, 'loss': 0.5882996320724487}, {'num_examples': 16, 'loss': 0.6938045024871826}, {'num_examples': 16, 'loss': 0.6583119630813599}, {'num_examples': 16, 'loss': 0.7332230806350708}, {'num_examples': 16, 'loss': 0.6084724068641663}, {'num_examples': 16, 'loss': 0.6058730483055115}, {'num_examples': 16, 'loss': 0.6277549862861633}, {'num_examples': 16, 'loss': 0.6260685920715332}, {'num_examples': 16, 'loss': 0.7782676219940186}, {'num_examples': 16, 'loss': 0.8073858022689819}, {'num_examples': 16, 'loss': 0.5877130031585693}, {'num_examples': 16, 'loss': 0.623874843120575}, {'num_examples': 5, 'loss': 0.6831209063529968}], [{'num_examples': 16, 'loss': 0.6716188192367554}, {'num_examples': 16, 'loss': 0.6406264901161194}, {'num_examples': 16, 'loss': 0.7162192463874817}, {'num_examples': 16, 'loss': 0.6664486527442932}, {'num_examples': 16, 'loss': 0.5820855498313904}, {'num_examples': 16, 'loss': 0.6917798519134521}, {'num_examples': 16, 'loss': 0.687500536441803}, {'num_examples': 16, 'loss': 0.7106143236160278}, {'num_examples': 16, 'loss': 0.6235578656196594}, {'num_examples': 16, 'loss': 0.6159377098083496}, {'num_examples': 16, 'loss': 0.6189572811126709}, {'num_examples': 16, 'loss': 0.6233919858932495}, {'num_examples': 16, 'loss': 0.7540974617004395}, {'num_examples': 16, 'loss': 0.8212340474128723}, {'num_examples': 16, 'loss': 0.5969077944755554}, {'num_examples': 16, 'loss': 0.6215293407440186}, {'num_examples': 5, 'loss': 0.6676620841026306}], [{'num_examples': 16, 'loss': 0.6896395683288574}, {'num_examples': 16, 'loss': 0.6374578475952148}, {'num_examples': 16, 'loss': 0.7277288436889648}, {'num_examples': 16, 'loss': 0.6659367680549622}, {'num_examples': 16, 'loss': 0.571600079536438}, {'num_examples': 16, 'loss': 0.6893090009689331}, {'num_examples': 16, 'loss': 0.6712509393692017}, {'num_examples': 16, 'loss': 0.7094435095787048}, {'num_examples': 16, 'loss': 0.6151663064956665}, {'num_examples': 16, 'loss': 0.5936359763145447}, {'num_examples': 16, 'loss': 0.6382207870483398}, {'num_examples': 16, 'loss': 0.6421817541122437}, {'num_examples': 16, 'loss': 0.7778759598731995}, {'num_examples': 16, 'loss': 0.8433887958526611}, {'num_examples': 16, 'loss': 0.5986302495002747}, {'num_examples': 16, 'loss': 0.6222198009490967}, {'num_examples': 5, 'loss': 0.7213291525840759}], [{'num_examples': 16, 'loss': 0.6924506425857544}, {'num_examples': 16, 'loss': 0.6385166645050049}, {'num_examples': 16, 'loss': 0.7272516489028931}, {'num_examples': 16, 'loss': 0.6844930052757263}, {'num_examples': 16, 'loss': 0.577892005443573}, {'num_examples': 16, 'loss': 0.696938693523407}, {'num_examples': 16, 'loss': 0.6801058053970337}, {'num_examples': 16, 'loss': 0.7277934551239014}, {'num_examples': 16, 'loss': 0.6077286005020142}, {'num_examples': 16, 'loss': 0.5976776480674744}, {'num_examples': 16, 'loss': 0.6604629158973694}, {'num_examples': 16, 'loss': 0.6261047124862671}, {'num_examples': 16, 'loss': 0.7779415845870972}, {'num_examples': 16, 'loss': 0.8160833120346069}, {'num_examples': 16, 'loss': 0.593559980392456}, {'num_examples': 16, 'loss': 0.6380346417427063}, {'num_examples': 5, 'loss': 0.647082507610321}], [{'num_examples': 16, 'loss': 0.6964815258979797}, {'num_examples': 16, 'loss': 0.6362918019294739}, {'num_examples': 16, 'loss': 0.7229551076889038}, {'num_examples': 16, 'loss': 0.6636613011360168}, {'num_examples': 16, 'loss': 0.574141263961792}, {'num_examples': 16, 'loss': 0.6746060252189636}, {'num_examples': 16, 'loss': 0.6589438319206238}, {'num_examples': 16, 'loss': 0.7156860828399658}, {'num_examples': 16, 'loss': 0.6103509068489075}, {'num_examples': 16, 'loss': 0.5944806933403015}, {'num_examples': 16, 'loss': 0.6413683891296387}, {'num_examples': 16, 'loss': 0.6263303160667419}, {'num_examples': 16, 'loss': 0.7852352261543274}, {'num_examples': 16, 'loss': 0.8289190530776978}, {'num_examples': 16, 'loss': 0.5747227072715759}, {'num_examples': 16, 'loss': 0.651570737361908}, {'num_examples': 5, 'loss': 0.6601776480674744}], [{'num_examples': 16, 'loss': 0.6757418513298035}, {'num_examples': 16, 'loss': 0.6282792687416077}, {'num_examples': 16, 'loss': 0.7267933487892151}, {'num_examples': 16, 'loss': 0.6588097810745239}, {'num_examples': 16, 'loss': 0.5923610925674438}, {'num_examples': 16, 'loss': 0.7039279341697693}, {'num_examples': 16, 'loss': 0.658237099647522}, {'num_examples': 16, 'loss': 0.7130202054977417}, {'num_examples': 16, 'loss': 0.6168397665023804}, {'num_examples': 16, 'loss': 0.6055142879486084}, {'num_examples': 16, 'loss': 0.6183333396911621}, {'num_examples': 16, 'loss': 0.6298462152481079}, {'num_examples': 16, 'loss': 0.7716606259346008}, {'num_examples': 16, 'loss': 0.820974588394165}, {'num_examples': 16, 'loss': 0.5904006361961365}, {'num_examples': 16, 'loss': 0.6460952162742615}, {'num_examples': 5, 'loss': 0.6574065089225769}], [{'num_examples': 16, 'loss': 0.6935297250747681}, {'num_examples': 16, 'loss': 0.6411206126213074}, {'num_examples': 16, 'loss': 0.7196114659309387}, {'num_examples': 16, 'loss': 0.6736016273498535}, {'num_examples': 16, 'loss': 0.6045852899551392}, {'num_examples': 16, 'loss': 0.7045114636421204}, {'num_examples': 16, 'loss': 0.6633733510971069}, {'num_examples': 16, 'loss': 0.7211129665374756}, {'num_examples': 16, 'loss': 0.596797525882721}, {'num_examples': 16, 'loss': 0.5890935063362122}, {'num_examples': 16, 'loss': 0.6220748424530029}, {'num_examples': 16, 'loss': 0.6232399940490723}, {'num_examples': 16, 'loss': 0.7934185862541199}, {'num_examples': 16, 'loss': 0.8014703392982483}, {'num_examples': 16, 'loss': 0.5743460655212402}, {'num_examples': 16, 'loss': 0.629963219165802}, {'num_examples': 5, 'loss': 0.6765762567520142}], [{'num_examples': 16, 'loss': 0.7003951668739319}, {'num_examples': 16, 'loss': 0.6381628513336182}, {'num_examples': 16, 'loss': 0.7187759876251221}, {'num_examples': 16, 'loss': 0.6616930961608887}, {'num_examples': 16, 'loss': 0.5860217809677124}, {'num_examples': 16, 'loss': 0.6870065927505493}, {'num_examples': 16, 'loss': 0.6613929271697998}, {'num_examples': 16, 'loss': 0.7132688760757446}, {'num_examples': 16, 'loss': 0.6089288592338562}, {'num_examples': 16, 'loss': 0.6086744070053101}, {'num_examples': 16, 'loss': 0.6126466393470764}, {'num_examples': 16, 'loss': 0.627852201461792}, {'num_examples': 16, 'loss': 0.7596577405929565}, {'num_examples': 16, 'loss': 0.8252926468849182}, {'num_examples': 16, 'loss': 0.5968254208564758}, {'num_examples': 16, 'loss': 0.5993960499763489}, {'num_examples': 5, 'loss': 0.6789891123771667}], [{'num_examples': 16, 'loss': 0.689749538898468}, {'num_examples': 16, 'loss': 0.6469871401786804}, {'num_examples': 16, 'loss': 0.7195161581039429}, {'num_examples': 16, 'loss': 0.660922646522522}, {'num_examples': 16, 'loss': 0.5711420178413391}, {'num_examples': 16, 'loss': 0.6726939082145691}, {'num_examples': 16, 'loss': 0.6689770817756653}, {'num_examples': 16, 'loss': 0.7169024348258972}, {'num_examples': 16, 'loss': 0.5982325673103333}, {'num_examples': 16, 'loss': 0.6080955266952515}, {'num_examples': 16, 'loss': 0.6304975152015686}, {'num_examples': 16, 'loss': 0.6163791418075562}, {'num_examples': 16, 'loss': 0.8010844588279724}, {'num_examples': 16, 'loss': 0.8201347589492798}, {'num_examples': 16, 'loss': 0.5991121530532837}, {'num_examples': 16, 'loss': 0.6270405650138855}, {'num_examples': 5, 'loss': 0.6920082569122314}], [{'num_examples': 16, 'loss': 0.7116870284080505}, {'num_examples': 16, 'loss': 0.6183621287345886}, {'num_examples': 16, 'loss': 0.7326460480690002}, {'num_examples': 16, 'loss': 0.6712836623191833}, {'num_examples': 16, 'loss': 0.5683726668357849}, {'num_examples': 16, 'loss': 0.6966609358787537}, {'num_examples': 16, 'loss': 0.6642460227012634}, {'num_examples': 16, 'loss': 0.6986140012741089}, {'num_examples': 16, 'loss': 0.6117792725563049}, {'num_examples': 16, 'loss': 0.593853771686554}, {'num_examples': 16, 'loss': 0.6067778468132019}, {'num_examples': 16, 'loss': 0.6209844350814819}, {'num_examples': 16, 'loss': 0.7828643918037415}, {'num_examples': 16, 'loss': 0.8249993324279785}, {'num_examples': 16, 'loss': 0.5868401527404785}, {'num_examples': 16, 'loss': 0.6100016236305237}, {'num_examples': 5, 'loss': 0.6846045851707458}], [{'num_examples': 16, 'loss': 0.7083197236061096}, {'num_examples': 16, 'loss': 0.6394817233085632}, {'num_examples': 16, 'loss': 0.7040835618972778}, {'num_examples': 16, 'loss': 0.6501827239990234}, {'num_examples': 16, 'loss': 0.594390332698822}, {'num_examples': 16, 'loss': 0.6952144503593445}, {'num_examples': 16, 'loss': 0.6760802865028381}, {'num_examples': 16, 'loss': 0.7302805781364441}, {'num_examples': 16, 'loss': 0.5988820195198059}, {'num_examples': 16, 'loss': 0.6091561913490295}, {'num_examples': 16, 'loss': 0.6189559102058411}, {'num_examples': 16, 'loss': 0.6204805374145508}, {'num_examples': 16, 'loss': 0.7760004997253418}, {'num_examples': 16, 'loss': 0.8536731004714966}, {'num_examples': 16, 'loss': 0.599941074848175}, {'num_examples': 16, 'loss': 0.6186456680297852}, {'num_examples': 5, 'loss': 0.6845142841339111}], [{'num_examples': 16, 'loss': 0.6850666403770447}, {'num_examples': 16, 'loss': 0.6366297602653503}, {'num_examples': 16, 'loss': 0.7161523103713989}, {'num_examples': 16, 'loss': 0.6681026816368103}, {'num_examples': 16, 'loss': 0.5627095699310303}, {'num_examples': 16, 'loss': 0.6901476979255676}, {'num_examples': 16, 'loss': 0.6578944325447083}, {'num_examples': 16, 'loss': 0.738206148147583}, {'num_examples': 16, 'loss': 0.5964489579200745}, {'num_examples': 16, 'loss': 0.6075671911239624}, {'num_examples': 16, 'loss': 0.6226913928985596}, {'num_examples': 16, 'loss': 0.6140456199645996}, {'num_examples': 16, 'loss': 0.7700727581977844}, {'num_examples': 16, 'loss': 0.8171069622039795}, {'num_examples': 16, 'loss': 0.5821759104728699}, {'num_examples': 16, 'loss': 0.6413577795028687}, {'num_examples': 5, 'loss': 0.6740722060203552}], [{'num_examples': 16, 'loss': 0.6993842720985413}, {'num_examples': 16, 'loss': 0.6271712779998779}, {'num_examples': 16, 'loss': 0.7291128039360046}, {'num_examples': 16, 'loss': 0.6539319157600403}, {'num_examples': 16, 'loss': 0.5826888084411621}, {'num_examples': 16, 'loss': 0.6929241418838501}, {'num_examples': 16, 'loss': 0.6677302718162537}, {'num_examples': 16, 'loss': 0.700554609298706}, {'num_examples': 16, 'loss': 0.5965432524681091}, {'num_examples': 16, 'loss': 0.6180800199508667}, {'num_examples': 16, 'loss': 0.6540027260780334}, {'num_examples': 16, 'loss': 0.6376513242721558}, {'num_examples': 16, 'loss': 0.7974811792373657}, {'num_examples': 16, 'loss': 0.8295121788978577}, {'num_examples': 16, 'loss': 0.5999361872673035}, {'num_examples': 16, 'loss': 0.6442399621009827}, {'num_examples': 5, 'loss': 0.675723671913147}], [{'num_examples': 16, 'loss': 0.703410804271698}, {'num_examples': 16, 'loss': 0.6131635308265686}, {'num_examples': 16, 'loss': 0.7291399240493774}, {'num_examples': 16, 'loss': 0.6584377288818359}, {'num_examples': 16, 'loss': 0.610271155834198}, {'num_examples': 16, 'loss': 0.690037727355957}, {'num_examples': 16, 'loss': 0.6624434590339661}, {'num_examples': 16, 'loss': 0.7474657893180847}, {'num_examples': 16, 'loss': 0.6092867851257324}, {'num_examples': 16, 'loss': 0.6161155700683594}, {'num_examples': 16, 'loss': 0.6243670582771301}, {'num_examples': 16, 'loss': 0.6160827875137329}, {'num_examples': 16, 'loss': 0.7981131076812744}, {'num_examples': 16, 'loss': 0.8214489221572876}, {'num_examples': 16, 'loss': 0.5788775086402893}, {'num_examples': 16, 'loss': 0.644588828086853}, {'num_examples': 5, 'loss': 0.684567391872406}], [{'num_examples': 16, 'loss': 0.7011335492134094}, {'num_examples': 16, 'loss': 0.608189046382904}, {'num_examples': 16, 'loss': 0.7328105568885803}, {'num_examples': 16, 'loss': 0.6579181551933289}, {'num_examples': 16, 'loss': 0.5774856209754944}, {'num_examples': 16, 'loss': 0.6991562247276306}, {'num_examples': 16, 'loss': 0.674370288848877}, {'num_examples': 16, 'loss': 0.7270147204399109}, {'num_examples': 16, 'loss': 0.6166075468063354}, {'num_examples': 16, 'loss': 0.5954061150550842}, {'num_examples': 16, 'loss': 0.6038657426834106}, {'num_examples': 16, 'loss': 0.6257795095443726}, {'num_examples': 16, 'loss': 0.7654695510864258}, {'num_examples': 16, 'loss': 0.8043749332427979}, {'num_examples': 16, 'loss': 0.5869758129119873}, {'num_examples': 16, 'loss': 0.6189963817596436}, {'num_examples': 5, 'loss': 0.6630772948265076}], [{'num_examples': 16, 'loss': 0.6830179691314697}, {'num_examples': 16, 'loss': 0.6255568861961365}, {'num_examples': 16, 'loss': 0.7100525498390198}, {'num_examples': 16, 'loss': 0.6553092002868652}, {'num_examples': 16, 'loss': 0.578424334526062}, {'num_examples': 16, 'loss': 0.6859452724456787}, {'num_examples': 16, 'loss': 0.6639810800552368}, {'num_examples': 16, 'loss': 0.6969224810600281}, {'num_examples': 16, 'loss': 0.624647319316864}, {'num_examples': 16, 'loss': 0.5959030389785767}, {'num_examples': 16, 'loss': 0.6553715467453003}, {'num_examples': 16, 'loss': 0.6240247488021851}, {'num_examples': 16, 'loss': 0.7750789523124695}, {'num_examples': 16, 'loss': 0.7907795310020447}, {'num_examples': 16, 'loss': 0.5925474762916565}, {'num_examples': 16, 'loss': 0.6620976328849792}, {'num_examples': 5, 'loss': 0.6396420001983643}], [{'num_examples': 16, 'loss': 0.6981596946716309}, {'num_examples': 16, 'loss': 0.6252589821815491}, {'num_examples': 16, 'loss': 0.7250573635101318}, {'num_examples': 16, 'loss': 0.6657570004463196}, {'num_examples': 16, 'loss': 0.5767048597335815}, {'num_examples': 16, 'loss': 0.6842206120491028}, {'num_examples': 16, 'loss': 0.6587423086166382}, {'num_examples': 16, 'loss': 0.7234290838241577}, {'num_examples': 16, 'loss': 0.6092395186424255}, {'num_examples': 16, 'loss': 0.6178919672966003}, {'num_examples': 16, 'loss': 0.6365644931793213}, {'num_examples': 16, 'loss': 0.6126784682273865}, {'num_examples': 16, 'loss': 0.7681007981300354}, {'num_examples': 16, 'loss': 0.8417198657989502}, {'num_examples': 16, 'loss': 0.5844407081604004}, {'num_examples': 16, 'loss': 0.6375947594642639}, {'num_examples': 5, 'loss': 0.6797609925270081}], [{'num_examples': 16, 'loss': 0.6887918710708618}, {'num_examples': 16, 'loss': 0.6453410983085632}, {'num_examples': 16, 'loss': 0.7348336577415466}, {'num_examples': 16, 'loss': 0.673262357711792}, {'num_examples': 16, 'loss': 0.5516705513000488}, {'num_examples': 16, 'loss': 0.6964803338050842}, {'num_examples': 16, 'loss': 0.6689626574516296}, {'num_examples': 16, 'loss': 0.7167929410934448}, {'num_examples': 16, 'loss': 0.613777756690979}, {'num_examples': 16, 'loss': 0.6026790738105774}, {'num_examples': 16, 'loss': 0.6305125951766968}, {'num_examples': 16, 'loss': 0.6155948042869568}, {'num_examples': 16, 'loss': 0.7450548410415649}, {'num_examples': 16, 'loss': 0.8400328755378723}, {'num_examples': 16, 'loss': 0.5902025103569031}, {'num_examples': 16, 'loss': 0.6246261596679688}, {'num_examples': 5, 'loss': 0.6710900068283081}], [{'num_examples': 16, 'loss': 0.668751060962677}, {'num_examples': 16, 'loss': 0.6213797926902771}, {'num_examples': 16, 'loss': 0.7294401526451111}, {'num_examples': 16, 'loss': 0.6608225107192993}, {'num_examples': 16, 'loss': 0.5689343214035034}, {'num_examples': 16, 'loss': 0.6713062524795532}, {'num_examples': 16, 'loss': 0.6545361876487732}, {'num_examples': 16, 'loss': 0.7382492423057556}, {'num_examples': 16, 'loss': 0.6000481247901917}, {'num_examples': 16, 'loss': 0.6217353343963623}, {'num_examples': 16, 'loss': 0.6558915376663208}, {'num_examples': 16, 'loss': 0.6410431265830994}, {'num_examples': 16, 'loss': 0.7789972424507141}, {'num_examples': 16, 'loss': 0.8171445727348328}, {'num_examples': 16, 'loss': 0.6036691069602966}, {'num_examples': 16, 'loss': 0.6378543376922607}, {'num_examples': 5, 'loss': 0.7208462953567505}], [{'num_examples': 16, 'loss': 0.6878888607025146}, {'num_examples': 16, 'loss': 0.6356569528579712}, {'num_examples': 16, 'loss': 0.7368659377098083}, {'num_examples': 16, 'loss': 0.6686916351318359}, {'num_examples': 16, 'loss': 0.593084454536438}, {'num_examples': 16, 'loss': 0.6888043284416199}, {'num_examples': 16, 'loss': 0.6567569971084595}, {'num_examples': 16, 'loss': 0.7327286601066589}, {'num_examples': 16, 'loss': 0.6058925986289978}, {'num_examples': 16, 'loss': 0.5990506410598755}, {'num_examples': 16, 'loss': 0.6363644599914551}, {'num_examples': 16, 'loss': 0.644107460975647}, {'num_examples': 16, 'loss': 0.775806188583374}, {'num_examples': 16, 'loss': 0.820055365562439}, {'num_examples': 16, 'loss': 0.607658863067627}, {'num_examples': 16, 'loss': 0.6222299933433533}, {'num_examples': 5, 'loss': 0.6831323504447937}], [{'num_examples': 16, 'loss': 0.6977538466453552}, {'num_examples': 16, 'loss': 0.6497330665588379}, {'num_examples': 16, 'loss': 0.6981602907180786}, {'num_examples': 16, 'loss': 0.6817895174026489}, {'num_examples': 16, 'loss': 0.5608449578285217}, {'num_examples': 16, 'loss': 0.7054650187492371}, {'num_examples': 16, 'loss': 0.6528370976448059}, {'num_examples': 16, 'loss': 0.7018511891365051}, {'num_examples': 16, 'loss': 0.6265607476234436}, {'num_examples': 16, 'loss': 0.6206308603286743}, {'num_examples': 16, 'loss': 0.6132570505142212}, {'num_examples': 16, 'loss': 0.6251199245452881}, {'num_examples': 16, 'loss': 0.7719036936759949}, {'num_examples': 16, 'loss': 0.8343127369880676}, {'num_examples': 16, 'loss': 0.6087092161178589}, {'num_examples': 16, 'loss': 0.6409816145896912}, {'num_examples': 5, 'loss': 0.6798880696296692}], [{'num_examples': 16, 'loss': 0.6897831559181213}, {'num_examples': 16, 'loss': 0.6252270936965942}, {'num_examples': 16, 'loss': 0.7093068361282349}, {'num_examples': 16, 'loss': 0.6701544523239136}, {'num_examples': 16, 'loss': 0.5718178749084473}, {'num_examples': 16, 'loss': 0.6993980407714844}, {'num_examples': 16, 'loss': 0.6758748292922974}, {'num_examples': 16, 'loss': 0.7237709164619446}, {'num_examples': 16, 'loss': 0.6089844703674316}, {'num_examples': 16, 'loss': 0.5999314785003662}, {'num_examples': 16, 'loss': 0.6419867277145386}, {'num_examples': 16, 'loss': 0.636432945728302}, {'num_examples': 16, 'loss': 0.7819833755493164}, {'num_examples': 16, 'loss': 0.8082262873649597}, {'num_examples': 16, 'loss': 0.5935726761817932}, {'num_examples': 16, 'loss': 0.6239476203918457}, {'num_examples': 5, 'loss': 0.6683669090270996}], [{'num_examples': 16, 'loss': 0.7001462578773499}, {'num_examples': 16, 'loss': 0.6293509602546692}, {'num_examples': 16, 'loss': 0.7154337763786316}, {'num_examples': 16, 'loss': 0.6597337126731873}, {'num_examples': 16, 'loss': 0.596455991268158}, {'num_examples': 16, 'loss': 0.6992248296737671}, {'num_examples': 16, 'loss': 0.6598058342933655}, {'num_examples': 16, 'loss': 0.7264187932014465}, {'num_examples': 16, 'loss': 0.6138719320297241}, {'num_examples': 16, 'loss': 0.6097012758255005}, {'num_examples': 16, 'loss': 0.6368230581283569}, {'num_examples': 16, 'loss': 0.6212671399116516}, {'num_examples': 16, 'loss': 0.7778133749961853}, {'num_examples': 16, 'loss': 0.8138970136642456}, {'num_examples': 16, 'loss': 0.5967724323272705}, {'num_examples': 16, 'loss': 0.61167973279953}, {'num_examples': 5, 'loss': 0.6853969693183899}], [{'num_examples': 16, 'loss': 0.6937342286109924}, {'num_examples': 16, 'loss': 0.636420488357544}, {'num_examples': 16, 'loss': 0.7200268507003784}, {'num_examples': 16, 'loss': 0.6743627190589905}, {'num_examples': 16, 'loss': 0.5766620635986328}, {'num_examples': 16, 'loss': 0.6878711581230164}, {'num_examples': 16, 'loss': 0.6723349094390869}, {'num_examples': 16, 'loss': 0.7186679840087891}, {'num_examples': 16, 'loss': 0.6123858690261841}, {'num_examples': 16, 'loss': 0.5899597406387329}, {'num_examples': 16, 'loss': 0.6106690168380737}, {'num_examples': 16, 'loss': 0.6245991587638855}, {'num_examples': 16, 'loss': 0.7636167407035828}, {'num_examples': 16, 'loss': 0.8180181980133057}, {'num_examples': 16, 'loss': 0.6199027299880981}, {'num_examples': 16, 'loss': 0.6485369801521301}, {'num_examples': 5, 'loss': 0.6358245611190796}], [{'num_examples': 16, 'loss': 0.7027226686477661}, {'num_examples': 16, 'loss': 0.6126445531845093}, {'num_examples': 16, 'loss': 0.7288545370101929}, {'num_examples': 16, 'loss': 0.6731326580047607}, {'num_examples': 16, 'loss': 0.5760532021522522}, {'num_examples': 16, 'loss': 0.6814114451408386}, {'num_examples': 16, 'loss': 0.6670088768005371}, {'num_examples': 16, 'loss': 0.722711980342865}, {'num_examples': 16, 'loss': 0.6086593270301819}, {'num_examples': 16, 'loss': 0.6240519285202026}, {'num_examples': 16, 'loss': 0.6324191689491272}, {'num_examples': 16, 'loss': 0.6372130513191223}, {'num_examples': 16, 'loss': 0.7813495397567749}, {'num_examples': 16, 'loss': 0.825794517993927}, {'num_examples': 16, 'loss': 0.5955546498298645}, {'num_examples': 16, 'loss': 0.643629252910614}, {'num_examples': 5, 'loss': 0.6929523348808289}], [{'num_examples': 16, 'loss': 0.703791618347168}, {'num_examples': 16, 'loss': 0.6207269430160522}, {'num_examples': 16, 'loss': 0.7199214100837708}, {'num_examples': 16, 'loss': 0.6682087182998657}, {'num_examples': 16, 'loss': 0.5858166813850403}, {'num_examples': 16, 'loss': 0.6791144013404846}, {'num_examples': 16, 'loss': 0.6542081236839294}, {'num_examples': 16, 'loss': 0.7287307977676392}, {'num_examples': 16, 'loss': 0.6032261848449707}, {'num_examples': 16, 'loss': 0.6065992116928101}, {'num_examples': 16, 'loss': 0.6216704845428467}, {'num_examples': 16, 'loss': 0.6207308173179626}, {'num_examples': 16, 'loss': 0.7750461101531982}, {'num_examples': 16, 'loss': 0.8212801218032837}, {'num_examples': 16, 'loss': 0.6040087342262268}, {'num_examples': 16, 'loss': 0.622256875038147}, {'num_examples': 5, 'loss': 0.6902133822441101}], [{'num_examples': 16, 'loss': 0.6848986148834229}, {'num_examples': 16, 'loss': 0.6381134986877441}, {'num_examples': 16, 'loss': 0.7252073884010315}, {'num_examples': 16, 'loss': 0.6711229681968689}, {'num_examples': 16, 'loss': 0.5916668772697449}, {'num_examples': 16, 'loss': 0.6887030601501465}, {'num_examples': 16, 'loss': 0.6506262421607971}, {'num_examples': 16, 'loss': 0.7165904641151428}, {'num_examples': 16, 'loss': 0.6244137287139893}, {'num_examples': 16, 'loss': 0.6187669634819031}, {'num_examples': 16, 'loss': 0.6170048117637634}, {'num_examples': 16, 'loss': 0.6303666830062866}, {'num_examples': 16, 'loss': 0.7588946223258972}, {'num_examples': 16, 'loss': 0.8113378286361694}, {'num_examples': 16, 'loss': 0.5814268589019775}, {'num_examples': 16, 'loss': 0.6204092502593994}, {'num_examples': 5, 'loss': 0.6796836256980896}], [{'num_examples': 16, 'loss': 0.6956987380981445}, {'num_examples': 16, 'loss': 0.6311197280883789}, {'num_examples': 16, 'loss': 0.732877790927887}, {'num_examples': 16, 'loss': 0.6667842864990234}, {'num_examples': 16, 'loss': 0.5758278965950012}, {'num_examples': 16, 'loss': 0.6970499753952026}, {'num_examples': 16, 'loss': 0.6654553413391113}, {'num_examples': 16, 'loss': 0.7212057709693909}, {'num_examples': 16, 'loss': 0.6029228568077087}, {'num_examples': 16, 'loss': 0.604667067527771}, {'num_examples': 16, 'loss': 0.6393183469772339}, {'num_examples': 16, 'loss': 0.6340346932411194}, {'num_examples': 16, 'loss': 0.7938490509986877}, {'num_examples': 16, 'loss': 0.8150202631950378}, {'num_examples': 16, 'loss': 0.591915488243103}, {'num_examples': 16, 'loss': 0.6198316812515259}, {'num_examples': 5, 'loss': 0.6712086796760559}], [{'num_examples': 16, 'loss': 0.7012947201728821}, {'num_examples': 16, 'loss': 0.6379856467247009}, {'num_examples': 16, 'loss': 0.7121083736419678}, {'num_examples': 16, 'loss': 0.6583388447761536}, {'num_examples': 16, 'loss': 0.5971635580062866}, {'num_examples': 16, 'loss': 0.7038082480430603}, {'num_examples': 16, 'loss': 0.6552133560180664}, {'num_examples': 16, 'loss': 0.7207163572311401}, {'num_examples': 16, 'loss': 0.6215509176254272}, {'num_examples': 16, 'loss': 0.6248626112937927}, {'num_examples': 16, 'loss': 0.6322922110557556}, {'num_examples': 16, 'loss': 0.625321626663208}, {'num_examples': 16, 'loss': 0.7574090957641602}, {'num_examples': 16, 'loss': 0.8203870058059692}, {'num_examples': 16, 'loss': 0.6030653715133667}, {'num_examples': 16, 'loss': 0.634911060333252}, {'num_examples': 5, 'loss': 0.7049358487129211}], [{'num_examples': 16, 'loss': 0.6898244619369507}, {'num_examples': 16, 'loss': 0.640279233455658}, {'num_examples': 16, 'loss': 0.7335913181304932}, {'num_examples': 16, 'loss': 0.661102831363678}, {'num_examples': 16, 'loss': 0.5617123246192932}, {'num_examples': 16, 'loss': 0.6868231296539307}, {'num_examples': 16, 'loss': 0.6585254669189453}, {'num_examples': 16, 'loss': 0.724863588809967}, {'num_examples': 16, 'loss': 0.6061638593673706}, {'num_examples': 16, 'loss': 0.6067458987236023}, {'num_examples': 16, 'loss': 0.6532330513000488}, {'num_examples': 16, 'loss': 0.6155004501342773}, {'num_examples': 16, 'loss': 0.7772586345672607}, {'num_examples': 16, 'loss': 0.8331009745597839}, {'num_examples': 16, 'loss': 0.5816529393196106}, {'num_examples': 16, 'loss': 0.6388744711875916}, {'num_examples': 5, 'loss': 0.6851470470428467}], [{'num_examples': 16, 'loss': 0.6858209371566772}, {'num_examples': 16, 'loss': 0.6414113640785217}, {'num_examples': 16, 'loss': 0.6949297189712524}, {'num_examples': 16, 'loss': 0.6715385317802429}, {'num_examples': 16, 'loss': 0.5598734021186829}, {'num_examples': 16, 'loss': 0.6913228631019592}, {'num_examples': 16, 'loss': 0.656276524066925}, {'num_examples': 16, 'loss': 0.7232173681259155}, {'num_examples': 16, 'loss': 0.6070312261581421}, {'num_examples': 16, 'loss': 0.6087749600410461}, {'num_examples': 16, 'loss': 0.6439758539199829}, {'num_examples': 16, 'loss': 0.6358330249786377}, {'num_examples': 16, 'loss': 0.7719166278839111}, {'num_examples': 16, 'loss': 0.8361281752586365}, {'num_examples': 16, 'loss': 0.5899525284767151}, {'num_examples': 16, 'loss': 0.6270678043365479}, {'num_examples': 5, 'loss': 0.6788603663444519}], [{'num_examples': 16, 'loss': 0.6954279541969299}, {'num_examples': 16, 'loss': 0.6193775534629822}, {'num_examples': 16, 'loss': 0.7069621682167053}, {'num_examples': 16, 'loss': 0.6616002917289734}, {'num_examples': 16, 'loss': 0.5859252214431763}, {'num_examples': 16, 'loss': 0.6510138511657715}, {'num_examples': 16, 'loss': 0.6847397089004517}, {'num_examples': 16, 'loss': 0.7236706614494324}, {'num_examples': 16, 'loss': 0.5943813920021057}, {'num_examples': 16, 'loss': 0.5942288041114807}, {'num_examples': 16, 'loss': 0.6179747581481934}, {'num_examples': 16, 'loss': 0.6341449022293091}, {'num_examples': 16, 'loss': 0.7804269194602966}, {'num_examples': 16, 'loss': 0.8309499621391296}, {'num_examples': 16, 'loss': 0.6030263900756836}, {'num_examples': 16, 'loss': 0.6208023428916931}, {'num_examples': 5, 'loss': 0.6566247940063477}]]\n"
     ]
    }
   ],
   "source": [
    "print(losses)"
   ]
  },
  {
   "cell_type": "code",
   "execution_count": 29,
   "metadata": {},
   "outputs": [],
   "source": [
    "avg_losses = [average_data(epoch_losses) for epoch_losses in losses]\n",
    "avg_predictions = [average_data(epoch_evaluations) for epoch_evaluations in evaluations]"
   ]
  },
  {
   "cell_type": "code",
   "execution_count": 30,
   "metadata": {},
   "outputs": [
    {
     "name": "stdout",
     "output_type": "stream",
     "text": [
      "0.662238492591171\n"
     ]
    }
   ],
   "source": [
    "min_loss, max_loss, avg_loss = get_statistics(avg_losses, \"loss\")\n",
    "print(min_loss)"
   ]
  },
  {
   "cell_type": "code",
   "execution_count": 31,
   "metadata": {},
   "outputs": [],
   "source": [
    "min_auc, max_auc, avg_auc = get_statistics(avg_predictions, \"auc\")"
   ]
  },
  {
   "cell_type": "code",
   "execution_count": 32,
   "metadata": {},
   "outputs": [
    {
     "name": "stdout",
     "output_type": "stream",
     "text": [
      "0.5818974180581323\n"
     ]
    }
   ],
   "source": [
    "print(max_auc)"
   ]
  },
  {
   "cell_type": "code",
   "execution_count": 33,
   "metadata": {},
   "outputs": [
    {
     "name": "stdout",
     "output_type": "stream",
     "text": [
      "0.4241251803751804\n"
     ]
    }
   ],
   "source": [
    "print(min_auc)"
   ]
  },
  {
   "cell_type": "code",
   "execution_count": null,
   "metadata": {},
   "outputs": [],
   "source": []
  }
 ],
 "metadata": {
  "kernelspec": {
   "display_name": "Python 3",
   "language": "python",
   "name": "python3"
  },
  "language_info": {
   "codemirror_mode": {
    "name": "ipython",
    "version": 3
   },
   "file_extension": ".py",
   "mimetype": "text/x-python",
   "name": "python",
   "nbconvert_exporter": "python",
   "pygments_lexer": "ipython3",
   "version": "3.6.8"
  }
 },
 "nbformat": 4,
 "nbformat_minor": 2
}
