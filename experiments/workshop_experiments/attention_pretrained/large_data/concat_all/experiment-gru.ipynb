{
 "cells": [
  {
   "cell_type": "code",
   "execution_count": null,
   "metadata": {},
   "outputs": [],
   "source": [
    "import os\n",
    "import sys; sys.path.append(\"../../../../..\")\n",
    "import pickle\n",
    "\n",
    "import torch\n",
    "import numpy as np\n",
    "\n",
    "from src.experiment import AttentionExperiment, ClassificationExperiment\n",
    "from src.dataset import ExperimentDataset\n",
    "from src.params import Params\n",
    "from src.utils.attention_utils import reduce_attention_dist, return_idx_attention_dist, window_attention_dist\n",
    "from src.utils.classification_utils import run_bootstrapping, average_data\n",
    "from src.utils.shared_utils import get_bias_predictions"
   ]
  },
  {
   "cell_type": "code",
   "execution_count": null,
   "metadata": {},
   "outputs": [],
   "source": [
    "%load_ext autoreload\n",
    "%autoreload 2"
   ]
  },
  {
   "cell_type": "code",
   "execution_count": null,
   "metadata": {},
   "outputs": [],
   "source": [
    "params = Params.read_params(\"gru-params.json\")\n",
    "print(\"layers = {}\".format(params.intermediary_task[\"attention\"][\"layers\"]))\n",
    "print(\"reducer = {}\".format(params.intermediary_task[\"attention\"][\"reducer\"]))\n",
    "print(\"n_components = {}\".format(params.intermediary_task[\"attention\"][\"n_components\"]))\n",
    "print(\"dropout = {}\".format(params.final_task[\"dropout\"]))\n",
    "print(\"hidden_dim = {}\".format(params.final_task[\"hidden_dim\"]))"
   ]
  },
  {
   "cell_type": "code",
   "execution_count": null,
   "metadata": {
    "scrolled": true
   },
   "outputs": [],
   "source": [
    "dev_dataset = ExperimentDataset.init_dataset(params.dataset)\n",
    "train_dataset = pickle.load(open(params.dataset[\"weakly_labeled_data\"], \"rb\"))"
   ]
  },
  {
   "cell_type": "code",
   "execution_count": null,
   "metadata": {},
   "outputs": [],
   "source": [
    "attention_dataloader_dev = dev_dataset.return_dataloader(batch_size=params.intermediary_task['attention']['attention_extraction_batch_size'])  \n",
    "attention_dataloader_train = train_dataset.return_dataloader(batch_size=params.intermediary_task['attention']['attention_extraction_batch_size'])"
   ]
  },
  {
   "cell_type": "code",
   "execution_count": null,
   "metadata": {},
   "outputs": [],
   "source": [
    "attention_experiment = AttentionExperiment.initialize_attention_experiment(\n",
    "    params.intermediary_task, \n",
    "    params.dataset,\n",
    "    from_pretrained=True,\n",
    "    verbose=True\n",
    ")"
   ]
  },
  {
   "cell_type": "code",
   "execution_count": null,
   "metadata": {},
   "outputs": [],
   "source": [
    "attention_scores_dev = attention_experiment.extract_attention_scores(attention_dataloader_dev)"
   ]
  },
  {
   "cell_type": "code",
   "execution_count": null,
   "metadata": {},
   "outputs": [],
   "source": [
    "# Saving out attention weights from the train dataset to facilitate future runs\n",
    "attention_weights_file = \"model_weights/attention_scores_train.pkl\"\n",
    "if os.path.exists(attention_weights_file):\n",
    "    print(\"Loading in existing train attention weights\")\n",
    "    attention_scores_train = pickle.load(open(attention_weights_file, \"rb\"))\n",
    "else:\n",
    "    print(\"Generating new training attention weights \")\n",
    "    if (not os.path.isdir(\"model_weights\")):\n",
    "            os.mkdir(\"model_weights\")\n",
    "    attention_scores_train = attention_experiment.extract_attention_scores(attention_dataloader_train)\n",
    "    \n",
    "    pickle.dump(attention_scores_train, open(attention_weights_file, \"wb+\"))"
   ]
  },
  {
   "cell_type": "code",
   "execution_count": null,
   "metadata": {},
   "outputs": [],
   "source": [
    "lengths_train = [int(d[\"pre_lens\"].numpy()) for d in train_dataset]\n",
    "reduced_attention_train = reduce_attention_dist(\n",
    "    attention_scores_train, \n",
    "    params.intermediary_task[\"attention\"], \n",
    "    lengths_train\n",
    ")\n",
    "attention_dist_train = reduced_attention_train"
   ]
  },
  {
   "cell_type": "code",
   "execution_count": null,
   "metadata": {},
   "outputs": [],
   "source": [
    "train_dataset.add_data(attention_dist_train, \"attention_dist\")\n",
    "train_dataset.shuffle_data()\n",
    "assert(attention_dist_train.shape[1] == params.final_task['input_dim'])"
   ]
  },
  {
   "cell_type": "code",
   "execution_count": null,
   "metadata": {},
   "outputs": [],
   "source": [
    "lengths_dev = [int(d[\"pre_lens\"].numpy()) for d in dev_dataset]\n",
    "reduced_attention_dev = reduce_attention_dist(\n",
    "    attention_scores_dev, \n",
    "    params.intermediary_task[\"attention\"],\n",
    "    lengths_dev\n",
    ")\n",
    "attention_dist_dev = reduced_attention_dev"
   ]
  },
  {
   "cell_type": "code",
   "execution_count": null,
   "metadata": {},
   "outputs": [],
   "source": [
    "dev_dataset.add_data(attention_dist_dev, \"attention_dist\")\n",
    "dev_dataset.add_data(dev_dataset.get_val('bias_label'),'weak_bias_label')\n",
    "dev_dataset.shuffle_data()\n",
    "assert(attention_dist_dev.shape[1] == params.final_task['input_dim'])"
   ]
  },
  {
   "cell_type": "markdown",
   "metadata": {},
   "source": [
    "### This is where the classification experiment starts"
   ]
  },
  {
   "cell_type": "markdown",
   "metadata": {},
   "source": [
    "We create a classification experiment that contains useful methods for classifying bias based on the attention distributions. "
   ]
  },
  {
   "cell_type": "code",
   "execution_count": null,
   "metadata": {},
   "outputs": [],
   "source": [
    "train_dataloader = train_dataset.return_dataloader(batch_size=params.final_task['training_params']['batch_size'])\n",
    "dev_dataloader = dev_dataset.return_dataloader(batch_size=32)"
   ]
  },
  {
   "cell_type": "code",
   "execution_count": null,
   "metadata": {},
   "outputs": [],
   "source": [
    "classification_experiment = ClassificationExperiment.init_cls_experiment(\n",
    "    params.final_task, \n",
    "    params.intermediary_task[\"attention\"]\n",
    ")"
   ]
  },
  {
   "cell_type": "code",
   "execution_count": null,
   "metadata": {},
   "outputs": [],
   "source": [
    "losses, evals = classification_experiment.train_model(train_dataloader, dev_dataloader, input_key=\"attention_dist\", label_key=\"weak_bias_label\")\n",
    "classification_experiment.save_model_weights(\"gru_pretrained_concat_all.weights\")"
   ]
  },
  {
   "cell_type": "code",
   "execution_count": null,
   "metadata": {},
   "outputs": [],
   "source": [
    "avg_evaluations = [average_data(epoch_evaluations) for epoch_evaluations in evals]\n",
    "max(avg_evaluations, key=lambda x: x[\"f1\"])"
   ]
  },
  {
   "cell_type": "code",
   "execution_count": null,
   "metadata": {},
   "outputs": [],
   "source": [
    "gru_attention_dataloader = dev_dataset.return_dataloader() \n",
    "batch_attention_scores = classification_experiment.extract_attention_scores(\n",
    "    gru_attention_dataloader,\n",
    "    input_key=\"attention_dist\", \n",
    "    label_key=\"bias_label\",\n",
    "    seq_len_key=\"pre_lens\",\n",
    "    attention_mask_key=\"masks\"\n",
    ")\n",
    "attention_scores = np.array([score.numpy() for batch in batch_attention_scores for score in batch])"
   ]
  },
  {
   "cell_type": "code",
   "execution_count": null,
   "metadata": {},
   "outputs": [],
   "source": [
    "from scipy.stats import entropy\n",
    "\n",
    "labels = dev_dataset.get_val('bias_label')\n",
    "labels_0_indices = (labels == 0).nonzero()\n",
    "labels_1_indices = labels.nonzero()\n",
    "\n",
    "attention_scores_0 = attention_scores[labels_0_indices].squeeze() # epistemological \n",
    "attention_scores_1 = attention_scores[labels_1_indices].squeeze() # framing\n",
    "\n",
    "entropy_0 = entropy(attention_scores_0.T)\n",
    "entropy_1 = entropy(attention_scores_1.T)\n",
    "\n",
    "avg_entropy_0 = np.mean(entropy_0)\n",
    "avg_entropy_1 = np.mean(entropy_1)\n",
    "\n",
    "print(\"Entropy Epistemological: {} \\t Entropy Framing {}\".format(avg_entropy_0, avg_entropy_1))"
   ]
  },
  {
   "cell_type": "code",
   "execution_count": null,
   "metadata": {},
   "outputs": [],
   "source": []
  }
 ],
 "metadata": {
  "kernelspec": {
   "display_name": "Python 3",
   "language": "python",
   "name": "python3"
  },
  "language_info": {
   "codemirror_mode": {
    "name": "ipython",
    "version": 3
   },
   "file_extension": ".py",
   "mimetype": "text/x-python",
   "name": "python",
   "nbconvert_exporter": "python",
   "pygments_lexer": "ipython3",
   "version": "3.6.8"
  }
 },
 "nbformat": 4,
 "nbformat_minor": 2
}
