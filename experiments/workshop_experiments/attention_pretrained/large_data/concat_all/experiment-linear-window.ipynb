{
 "cells": [
  {
   "cell_type": "markdown",
   "metadata": {},
   "source": [
    "## Concatenating all attention distributions \n",
    "\n",
    "We extract the attention distribution directly from a model that has been pretrained for bias detection! We then using windowing to extract a window of attention scores around the biased word."
   ]
  },
  {
   "cell_type": "code",
   "execution_count": 1,
   "metadata": {},
   "outputs": [],
   "source": [
    "import sys; sys.path.append(\"../../../../..\")\n",
    "import torch \n",
    "from src.experiment import AttentionExperiment, ClassificationExperiment\n",
    "from src.dataset import ExperimentDataset\n",
    "from src.params import Params\n",
    "from src.utils.attention_utils import reduce_attention_dist, return_idx_attention_dist, window_attention_dist\n",
    "from src.utils.classification_utils import run_bootstrapping\n",
    "from src.utils.shared_utils import get_bias_predictions"
   ]
  },
  {
   "cell_type": "code",
   "execution_count": 2,
   "metadata": {},
   "outputs": [],
   "source": [
    "%load_ext autoreload\n",
    "%autoreload 2"
   ]
  },
  {
   "cell_type": "code",
   "execution_count": 3,
   "metadata": {},
   "outputs": [
    {
     "name": "stdout",
     "output_type": "stream",
     "text": [
      "model = shallow_nn\n",
      "layers = [0, 1, 2, 3, 4, 5, 6, 7, 8, 9, 10, 11]\n",
      "reducer = concat\n"
     ]
    }
   ],
   "source": [
    "params = Params.read_params(\"linear-params-window.json\")\n",
    "print(\"model = {}\".format(params.final_task['model']))\n",
    "print(\"layers = {}\".format(params.intermediary_task[\"attention\"][\"layers\"]))\n",
    "print(\"reducer = {}\".format(params.intermediary_task[\"attention\"][\"reducer\"]))"
   ]
  },
  {
   "cell_type": "code",
   "execution_count": 4,
   "metadata": {
    "scrolled": true
   },
   "outputs": [
    {
     "name": "stderr",
     "output_type": "stream",
     "text": [
      "03/27/2020 20:24:02 - INFO - pytorch_pretrained_bert.tokenization -   loading vocabulary file https://s3.amazonaws.com/models.huggingface.co/bert/bert-base-uncased-vocab.txt from cache at ./cache/26bc1ad6c0ac742e9b52263248f6d0f00068293b33709fae12320c0e35ccfbbb.542ce4285a40d23a559526243235df47c5f75c197f04f37d1a0c124c32c9a084\n",
      "100it [00:00, 2384.77it/s]\n"
     ]
    }
   ],
   "source": [
    "# Loading in the dataset that we are using in this experiments \n",
    "# typically this dataset is the small set of ground-truth labels\n",
    "dev_dataset = ExperimentDataset.init_dataset(params.dataset)"
   ]
  },
  {
   "cell_type": "code",
   "execution_count": 5,
   "metadata": {},
   "outputs": [],
   "source": [
    "import pickle \n",
    "train_dataset = pickle.load(open(params.dataset[\"weakly_labeled_data\"], \"rb\"))"
   ]
  },
  {
   "cell_type": "markdown",
   "metadata": {},
   "source": [
    "### Attention Experiment: \n",
    "* Is a class that wraps useful methods to extract attention distributions from a given BERT-based model \n",
    "* The user has to provide in two config files: One to specify parameters for how the attention scores should be extracted and combined, and other to specify the intermediary model from which the attention scores should be extracted from\n",
    "* The user needs to instantiate the attention experiment with a function that tells the model how to run \n",
    " inference on the given model. The function header is specified below: \n",
    " \n",
    " ``` def initialize_attention_experiment(cls, intermediary_task_params, dataset_params, verbose=False) ```\n",
    " \n"
   ]
  },
  {
   "cell_type": "code",
   "execution_count": 6,
   "metadata": {
    "scrolled": true
   },
   "outputs": [
    {
     "name": "stderr",
     "output_type": "stream",
     "text": [
      "03/27/2020 20:24:07 - INFO - pytorch_pretrained_bert.tokenization -   loading vocabulary file https://s3.amazonaws.com/models.huggingface.co/bert/bert-base-uncased-vocab.txt from cache at ./cache/26bc1ad6c0ac742e9b52263248f6d0f00068293b33709fae12320c0e35ccfbbb.542ce4285a40d23a559526243235df47c5f75c197f04f37d1a0c124c32c9a084\n",
      "03/27/2020 20:24:07 - INFO - pytorch_pretrained_bert.modeling -   loading archive file https://s3.amazonaws.com/models.huggingface.co/bert/bert-base-uncased.tar.gz from cache at ./cache/9c41111e2de84547a463fd39217199738d1e3deb72d4fec4399e6e241983c6f0.ae3cef932725ca7a30cdcb93fc6e09150a55e2a130ec7af63975a16c153ae2ba\n",
      "03/27/2020 20:24:07 - INFO - pytorch_pretrained_bert.modeling -   extracting archive file ./cache/9c41111e2de84547a463fd39217199738d1e3deb72d4fec4399e6e241983c6f0.ae3cef932725ca7a30cdcb93fc6e09150a55e2a130ec7af63975a16c153ae2ba to temp dir /tmp/tmp3_4vkb6y\n",
      "03/27/2020 20:24:11 - INFO - pytorch_pretrained_bert.modeling -   Model config {\n",
      "  \"attention_probs_dropout_prob\": 0.1,\n",
      "  \"hidden_act\": \"gelu\",\n",
      "  \"hidden_dropout_prob\": 0.1,\n",
      "  \"hidden_size\": 768,\n",
      "  \"initializer_range\": 0.02,\n",
      "  \"intermediate_size\": 3072,\n",
      "  \"max_position_embeddings\": 512,\n",
      "  \"num_attention_heads\": 12,\n",
      "  \"num_hidden_layers\": 12,\n",
      "  \"type_vocab_size\": 2,\n",
      "  \"vocab_size\": 30522\n",
      "}\n",
      "\n",
      "03/27/2020 20:24:45 - INFO - pytorch_pretrained_bert.modeling -   Weights of BertForMultitaskWithFeaturesOnTop not initialized from pretrained model: ['tok_classifier.out.0.weight', 'tok_classifier.out.0.bias', 'tok_classifier.enricher.0.weight', 'tok_classifier.enricher.0.bias', 'cls_classifier.weight', 'cls_classifier.bias']\n",
      "03/27/2020 20:24:45 - INFO - pytorch_pretrained_bert.modeling -   Weights from pretrained model not used in BertForMultitaskWithFeaturesOnTop: ['cls.predictions.bias', 'cls.predictions.transform.dense.weight', 'cls.predictions.transform.dense.bias', 'cls.predictions.transform.LayerNorm.gamma', 'cls.predictions.transform.LayerNorm.beta', 'cls.predictions.decoder.weight', 'cls.seq_relationship.weight', 'cls.seq_relationship.bias']\n",
      "/u/nlp/anaconda/main/anaconda3/envs/bias_classification/lib/python3.6/site-packages/torch/nn/modules/rnn.py:54: UserWarning: dropout option adds dropout after all but last recurrent layer, so non-zero dropout expects num_layers greater than 1, but got dropout=0.2 and num_layers=1\n",
      "  \"num_layers={}\".format(dropout, num_layers))\n",
      "03/27/2020 20:24:47 - INFO - pytorch_pretrained_bert.modeling -   loading archive file https://s3.amazonaws.com/models.huggingface.co/bert/bert-base-uncased.tar.gz from cache at ./cache/9c41111e2de84547a463fd39217199738d1e3deb72d4fec4399e6e241983c6f0.ae3cef932725ca7a30cdcb93fc6e09150a55e2a130ec7af63975a16c153ae2ba\n",
      "03/27/2020 20:24:47 - INFO - pytorch_pretrained_bert.modeling -   extracting archive file ./cache/9c41111e2de84547a463fd39217199738d1e3deb72d4fec4399e6e241983c6f0.ae3cef932725ca7a30cdcb93fc6e09150a55e2a130ec7af63975a16c153ae2ba to temp dir /tmp/tmp09icxxrk\n",
      "03/27/2020 20:24:50 - INFO - pytorch_pretrained_bert.modeling -   Model config {\n",
      "  \"attention_probs_dropout_prob\": 0.1,\n",
      "  \"hidden_act\": \"gelu\",\n",
      "  \"hidden_dropout_prob\": 0.1,\n",
      "  \"hidden_size\": 768,\n",
      "  \"initializer_range\": 0.02,\n",
      "  \"intermediate_size\": 3072,\n",
      "  \"max_position_embeddings\": 512,\n",
      "  \"num_attention_heads\": 12,\n",
      "  \"num_hidden_layers\": 12,\n",
      "  \"type_vocab_size\": 2,\n",
      "  \"vocab_size\": 30522\n",
      "}\n",
      "\n"
     ]
    },
    {
     "name": "stdout",
     "output_type": "stream",
     "text": [
      "Instantiated joint model with pretrained weights.\n",
      "Succesfully loaded in attention experiment!\n"
     ]
    }
   ],
   "source": [
    "attention_experiment = AttentionExperiment.initialize_attention_experiment(params.intermediary_task, params.dataset, verbose=True, from_pretrained=True)"
   ]
  },
  {
   "cell_type": "code",
   "execution_count": 7,
   "metadata": {},
   "outputs": [],
   "source": [
    "attention_dataloader_dev = dev_dataset.return_dataloader(batch_size=params.intermediary_task['attention']['attention_extraction_batch_size'])  \n",
    "attention_dataloader_train = train_dataset.return_dataloader(batch_size=params.intermediary_task['attention']['attention_extraction_batch_size'])"
   ]
  },
  {
   "cell_type": "markdown",
   "metadata": {},
   "source": [
    "```extract_attention_scores()``` works out of the box because the attention experiment has the config file saved, and knows what BERT model to use/load in, which layers to extract the attention scores from, and what the inference function is that should be used on this particular BERT model.\n",
    "\n",
    "Attention_scores is then a list of dictionaries. The keys in this dictionary are the specific layers of a BERT model and the values are the corresponding attention distributions extracted from that particular layer."
   ]
  },
  {
   "cell_type": "code",
   "execution_count": 8,
   "metadata": {},
   "outputs": [
    {
     "data": {
      "application/vnd.jupyter.widget-view+json": {
       "model_id": "dea0631082234d95a78ede5c07e0ab8a",
       "version_major": 2,
       "version_minor": 0
      },
      "text/plain": [
       "HBox(children=(FloatProgress(value=1.0, bar_style='info', max=1.0), HTML(value='')))"
      ]
     },
     "metadata": {},
     "output_type": "display_data"
    },
    {
     "name": "stdout",
     "output_type": "stream",
     "text": [
      "\n"
     ]
    }
   ],
   "source": [
    "attention_scores_dev = attention_experiment.extract_attention_scores(attention_dataloader_dev)"
   ]
  },
  {
   "cell_type": "code",
   "execution_count": 9,
   "metadata": {},
   "outputs": [
    {
     "name": "stdout",
     "output_type": "stream",
     "text": [
      "Loading in existing train attention weights\n"
     ]
    }
   ],
   "source": [
    "# Saving out attention weights from the train dataset to facilitate future runs\n",
    "import os \n",
    "attention_weights_file = \"model_weights/attention_scores_train.pkl\"\n",
    "if os.path.exists(attention_weights_file):\n",
    "    print(\"Loading in existing train attention weights\")\n",
    "    attention_scores_train = pickle.load(open(attention_weights_file, \"rb\"))\n",
    "else:\n",
    "    print(\"Generating new training attention weights \")\n",
    "    if (not os.path.isdir(\"model_weights\")):\n",
    "            os.mkdir(\"model_weights\")\n",
    "    attention_scores_train = attention_experiment.extract_attention_scores(attention_dataloader_train)\n",
    "    pickle.dump(attention_scores_train, open(attention_weights_file, \"wb+\"))"
   ]
  },
  {
   "cell_type": "markdown",
   "metadata": {},
   "source": [
    "Getting the predictions from the BERT model trained to detect bias, and using those to index into the attention scores"
   ]
  },
  {
   "cell_type": "code",
   "execution_count": 10,
   "metadata": {},
   "outputs": [
    {
     "name": "stderr",
     "output_type": "stream",
     "text": [
      "03/27/2020 20:27:25 - INFO - pytorch_pretrained_bert.tokenization -   loading vocabulary file https://s3.amazonaws.com/models.huggingface.co/bert/bert-base-uncased-vocab.txt from cache at ./cache/26bc1ad6c0ac742e9b52263248f6d0f00068293b33709fae12320c0e35ccfbbb.542ce4285a40d23a559526243235df47c5f75c197f04f37d1a0c124c32c9a084\n",
      "03/27/2020 20:27:25 - INFO - pytorch_pretrained_bert.modeling -   loading archive file https://s3.amazonaws.com/models.huggingface.co/bert/bert-base-uncased.tar.gz from cache at ./cache/9c41111e2de84547a463fd39217199738d1e3deb72d4fec4399e6e241983c6f0.ae3cef932725ca7a30cdcb93fc6e09150a55e2a130ec7af63975a16c153ae2ba\n",
      "03/27/2020 20:27:25 - INFO - pytorch_pretrained_bert.modeling -   extracting archive file ./cache/9c41111e2de84547a463fd39217199738d1e3deb72d4fec4399e6e241983c6f0.ae3cef932725ca7a30cdcb93fc6e09150a55e2a130ec7af63975a16c153ae2ba to temp dir /tmp/tmpt5b0lhy8\n",
      "03/27/2020 20:27:29 - INFO - pytorch_pretrained_bert.modeling -   Model config {\n",
      "  \"attention_probs_dropout_prob\": 0.1,\n",
      "  \"hidden_act\": \"gelu\",\n",
      "  \"hidden_dropout_prob\": 0.1,\n",
      "  \"hidden_size\": 768,\n",
      "  \"initializer_range\": 0.02,\n",
      "  \"intermediate_size\": 3072,\n",
      "  \"max_position_embeddings\": 512,\n",
      "  \"num_attention_heads\": 12,\n",
      "  \"num_hidden_layers\": 12,\n",
      "  \"type_vocab_size\": 2,\n",
      "  \"vocab_size\": 30522\n",
      "}\n",
      "\n",
      "03/27/2020 20:27:32 - INFO - pytorch_pretrained_bert.modeling -   Weights of BertForMultitaskWithFeaturesOnTop not initialized from pretrained model: ['tok_classifier.out.0.weight', 'tok_classifier.out.0.bias', 'tok_classifier.enricher.0.weight', 'tok_classifier.enricher.0.bias', 'cls_classifier.weight', 'cls_classifier.bias']\n",
      "03/27/2020 20:27:32 - INFO - pytorch_pretrained_bert.modeling -   Weights from pretrained model not used in BertForMultitaskWithFeaturesOnTop: ['cls.predictions.bias', 'cls.predictions.transform.dense.weight', 'cls.predictions.transform.dense.bias', 'cls.predictions.transform.LayerNorm.gamma', 'cls.predictions.transform.LayerNorm.beta', 'cls.predictions.decoder.weight', 'cls.seq_relationship.weight', 'cls.seq_relationship.bias']\n",
      "03/27/2020 20:27:33 - INFO - pytorch_pretrained_bert.modeling -   loading archive file https://s3.amazonaws.com/models.huggingface.co/bert/bert-base-uncased.tar.gz from cache at ./cache/9c41111e2de84547a463fd39217199738d1e3deb72d4fec4399e6e241983c6f0.ae3cef932725ca7a30cdcb93fc6e09150a55e2a130ec7af63975a16c153ae2ba\n",
      "03/27/2020 20:27:33 - INFO - pytorch_pretrained_bert.modeling -   extracting archive file ./cache/9c41111e2de84547a463fd39217199738d1e3deb72d4fec4399e6e241983c6f0.ae3cef932725ca7a30cdcb93fc6e09150a55e2a130ec7af63975a16c153ae2ba to temp dir /tmp/tmpkl_6vht1\n",
      "03/27/2020 20:27:37 - INFO - pytorch_pretrained_bert.modeling -   Model config {\n",
      "  \"attention_probs_dropout_prob\": 0.1,\n",
      "  \"hidden_act\": \"gelu\",\n",
      "  \"hidden_dropout_prob\": 0.1,\n",
      "  \"hidden_size\": 768,\n",
      "  \"initializer_range\": 0.02,\n",
      "  \"intermediate_size\": 3072,\n",
      "  \"max_position_embeddings\": 512,\n",
      "  \"num_attention_heads\": 12,\n",
      "  \"num_hidden_layers\": 12,\n",
      "  \"type_vocab_size\": 2,\n",
      "  \"vocab_size\": 30522\n",
      "}\n",
      "\n"
     ]
    },
    {
     "data": {
      "application/vnd.jupyter.widget-view+json": {
       "model_id": "ec1765b087774a02b85259ffc8e4c855",
       "version_major": 2,
       "version_minor": 0
      },
      "text/plain": [
       "HBox(children=(FloatProgress(value=0.0, max=1634.0), HTML(value='')))"
      ]
     },
     "metadata": {},
     "output_type": "display_data"
    },
    {
     "name": "stdout",
     "output_type": "stream",
     "text": [
      "\n"
     ]
    },
    {
     "name": "stderr",
     "output_type": "stream",
     "text": [
      "03/27/2020 20:36:13 - INFO - pytorch_pretrained_bert.tokenization -   loading vocabulary file https://s3.amazonaws.com/models.huggingface.co/bert/bert-base-uncased-vocab.txt from cache at ./cache/26bc1ad6c0ac742e9b52263248f6d0f00068293b33709fae12320c0e35ccfbbb.542ce4285a40d23a559526243235df47c5f75c197f04f37d1a0c124c32c9a084\n",
      "03/27/2020 20:36:14 - INFO - pytorch_pretrained_bert.modeling -   loading archive file https://s3.amazonaws.com/models.huggingface.co/bert/bert-base-uncased.tar.gz from cache at ./cache/9c41111e2de84547a463fd39217199738d1e3deb72d4fec4399e6e241983c6f0.ae3cef932725ca7a30cdcb93fc6e09150a55e2a130ec7af63975a16c153ae2ba\n",
      "03/27/2020 20:36:14 - INFO - pytorch_pretrained_bert.modeling -   extracting archive file ./cache/9c41111e2de84547a463fd39217199738d1e3deb72d4fec4399e6e241983c6f0.ae3cef932725ca7a30cdcb93fc6e09150a55e2a130ec7af63975a16c153ae2ba to temp dir /tmp/tmpji_n1kef\n",
      "03/27/2020 20:36:17 - INFO - pytorch_pretrained_bert.modeling -   Model config {\n",
      "  \"attention_probs_dropout_prob\": 0.1,\n",
      "  \"hidden_act\": \"gelu\",\n",
      "  \"hidden_dropout_prob\": 0.1,\n",
      "  \"hidden_size\": 768,\n",
      "  \"initializer_range\": 0.02,\n",
      "  \"intermediate_size\": 3072,\n",
      "  \"max_position_embeddings\": 512,\n",
      "  \"num_attention_heads\": 12,\n",
      "  \"num_hidden_layers\": 12,\n",
      "  \"type_vocab_size\": 2,\n",
      "  \"vocab_size\": 30522\n",
      "}\n",
      "\n",
      "03/27/2020 20:36:20 - INFO - pytorch_pretrained_bert.modeling -   Weights of BertForMultitaskWithFeaturesOnTop not initialized from pretrained model: ['tok_classifier.out.0.weight', 'tok_classifier.out.0.bias', 'tok_classifier.enricher.0.weight', 'tok_classifier.enricher.0.bias', 'cls_classifier.weight', 'cls_classifier.bias']\n",
      "03/27/2020 20:36:20 - INFO - pytorch_pretrained_bert.modeling -   Weights from pretrained model not used in BertForMultitaskWithFeaturesOnTop: ['cls.predictions.bias', 'cls.predictions.transform.dense.weight', 'cls.predictions.transform.dense.bias', 'cls.predictions.transform.LayerNorm.gamma', 'cls.predictions.transform.LayerNorm.beta', 'cls.predictions.decoder.weight', 'cls.seq_relationship.weight', 'cls.seq_relationship.bias']\n",
      "03/27/2020 20:36:22 - INFO - pytorch_pretrained_bert.modeling -   loading archive file https://s3.amazonaws.com/models.huggingface.co/bert/bert-base-uncased.tar.gz from cache at ./cache/9c41111e2de84547a463fd39217199738d1e3deb72d4fec4399e6e241983c6f0.ae3cef932725ca7a30cdcb93fc6e09150a55e2a130ec7af63975a16c153ae2ba\n",
      "03/27/2020 20:36:22 - INFO - pytorch_pretrained_bert.modeling -   extracting archive file ./cache/9c41111e2de84547a463fd39217199738d1e3deb72d4fec4399e6e241983c6f0.ae3cef932725ca7a30cdcb93fc6e09150a55e2a130ec7af63975a16c153ae2ba to temp dir /tmp/tmp57vgntz8\n",
      "03/27/2020 20:36:25 - INFO - pytorch_pretrained_bert.modeling -   Model config {\n",
      "  \"attention_probs_dropout_prob\": 0.1,\n",
      "  \"hidden_act\": \"gelu\",\n",
      "  \"hidden_dropout_prob\": 0.1,\n",
      "  \"hidden_size\": 768,\n",
      "  \"initializer_range\": 0.02,\n",
      "  \"intermediate_size\": 3072,\n",
      "  \"max_position_embeddings\": 512,\n",
      "  \"num_attention_heads\": 12,\n",
      "  \"num_hidden_layers\": 12,\n",
      "  \"type_vocab_size\": 2,\n",
      "  \"vocab_size\": 30522\n",
      "}\n",
      "\n"
     ]
    },
    {
     "data": {
      "application/vnd.jupyter.widget-view+json": {
       "model_id": "024b8e87634c492fa26117572a189eb4",
       "version_major": 2,
       "version_minor": 0
      },
      "text/plain": [
       "HBox(children=(FloatProgress(value=0.0, max=3.0), HTML(value='')))"
      ]
     },
     "metadata": {},
     "output_type": "display_data"
    },
    {
     "name": "stdout",
     "output_type": "stream",
     "text": [
      "\n"
     ]
    }
   ],
   "source": [
    "bias_predictions_train = get_bias_predictions(train_dataset, params.intermediary_task, params.dataset, batch_size=32)\n",
    "bias_predictions_dev = get_bias_predictions(dev_dataset, params.intermediary_task, params.dataset, batch_size=32)"
   ]
  },
  {
   "cell_type": "code",
   "execution_count": 11,
   "metadata": {},
   "outputs": [],
   "source": [
    "bias_indices_train = torch.argmax(bias_predictions_train == 1, dim=1).tolist()\n",
    "bias_indices_dev = torch.argmax(bias_predictions_dev == 1, dim=1).tolist()"
   ]
  },
  {
   "cell_type": "code",
   "execution_count": 12,
   "metadata": {},
   "outputs": [],
   "source": [
    "attention_scores_indexed_train = return_idx_attention_dist(attention_scores_train, bias_indices_train)\n",
    "reduced_attention_train = reduce_attention_dist(attention_scores_indexed_train, params.intermediary_task[\"attention\"])\n",
    "windowed_dist_train = window_attention_dist(reduced_attention_train, bias_indices_train, window_size=7, num_concat=len(params.intermediary_task[\"attention\"][\"layers\"]))\n",
    "attention_dist_train = windowed_dist_train"
   ]
  },
  {
   "cell_type": "code",
   "execution_count": 13,
   "metadata": {},
   "outputs": [],
   "source": [
    "train_dataset.add_data(attention_dist_train, \"attention_dist\")\n",
    "train_dataset.shuffle_data()\n",
    "assert(attention_dist_train.shape[1] == params.final_task['input_dim'])"
   ]
  },
  {
   "cell_type": "code",
   "execution_count": 14,
   "metadata": {},
   "outputs": [],
   "source": [
    "attention_scores_indexed_dev = return_idx_attention_dist(attention_scores_dev, bias_indices_dev)\n",
    "reduced_attention_dev = reduce_attention_dist(attention_scores_indexed_dev, params.intermediary_task[\"attention\"])\n",
    "windowed_dist_dev = window_attention_dist(reduced_attention_dev, bias_indices_dev, window_size=7, num_concat=len(params.intermediary_task[\"attention\"][\"layers\"]))\n",
    "attention_dist_dev = windowed_dist_dev"
   ]
  },
  {
   "cell_type": "code",
   "execution_count": 15,
   "metadata": {},
   "outputs": [],
   "source": [
    "dev_dataset.add_data(attention_dist_dev, \"attention_dist\")\n",
    "dev_dataset.add_data(dev_dataset.get_val('bias_label'),'weak_bias_label')\n",
    "dev_dataset.shuffle_data()\n",
    "assert(attention_dist_dev.shape[1] == params.final_task['input_dim'])"
   ]
  },
  {
   "cell_type": "markdown",
   "metadata": {},
   "source": [
    "### This is where the classification experiment starts"
   ]
  },
  {
   "cell_type": "markdown",
   "metadata": {},
   "source": [
    "We create a classification experiment that contains useful methods for classifying bias based on the attention distributions. "
   ]
  },
  {
   "cell_type": "code",
   "execution_count": 16,
   "metadata": {},
   "outputs": [],
   "source": [
    "params = Params.read_params(\"linear-params-window.json\")"
   ]
  },
  {
   "cell_type": "code",
   "execution_count": 17,
   "metadata": {},
   "outputs": [],
   "source": [
    "train_dataset.shuffle_data()\n",
    "dev_dataset.shuffle_data()\n",
    "train_dataloader = train_dataset.return_dataloader(batch_size=params.final_task['training_params']['batch_size'])\n",
    "dev_dataloader = dev_dataset.return_dataloader(batch_size=32)"
   ]
  },
  {
   "cell_type": "code",
   "execution_count": 18,
   "metadata": {},
   "outputs": [],
   "source": [
    "classification_experiment = ClassificationExperiment.init_cls_experiment(params.final_task)"
   ]
  },
  {
   "cell_type": "code",
   "execution_count": 19,
   "metadata": {},
   "outputs": [
    {
     "data": {
      "application/vnd.jupyter.widget-view+json": {
       "model_id": "",
       "version_major": 2,
       "version_minor": 0
      },
      "text/plain": [
       "HBox(children=(FloatProgress(value=0.0, description='epochs', max=50.0, style=ProgressStyle(description_width=…"
      ]
     },
     "metadata": {},
     "output_type": "display_data"
    },
    {
     "name": "stdout",
     "output_type": "stream",
     "text": [
      "\n"
     ]
    }
   ],
   "source": [
    "losses, evals = classification_experiment.train_model(train_dataloader, dev_dataloader, input_key=\"attention_dist\", label_key=\"weak_bias_label\")"
   ]
  },
  {
   "cell_type": "code",
   "execution_count": 20,
   "metadata": {},
   "outputs": [
    {
     "data": {
      "text/plain": [
       "[[{'num_examples': 32, 'accuracy': 0.53125, 'auc': 0.70995670995671},\n",
       "  {'num_examples': 32, 'accuracy': 0.5, 'auc': 0.5725490196078431},\n",
       "  {'num_examples': 17,\n",
       "   'accuracy': 0.7647058823529411,\n",
       "   'auc': 0.6428571428571429}],\n",
       " [{'num_examples': 32, 'accuracy': 0.71875, 'auc': 0.7402597402597403},\n",
       "  {'num_examples': 32, 'accuracy': 0.53125, 'auc': 0.615686274509804},\n",
       "  {'num_examples': 17,\n",
       "   'accuracy': 0.7647058823529411,\n",
       "   'auc': 0.6571428571428571}],\n",
       " [{'num_examples': 32, 'accuracy': 0.71875, 'auc': 0.7792207792207791},\n",
       "  {'num_examples': 32, 'accuracy': 0.625, 'auc': 0.6509803921568627},\n",
       "  {'num_examples': 17,\n",
       "   'accuracy': 0.7058823529411765,\n",
       "   'auc': 0.7142857142857143}],\n",
       " [{'num_examples': 32, 'accuracy': 0.71875, 'auc': 0.8095238095238095},\n",
       "  {'num_examples': 32, 'accuracy': 0.625, 'auc': 0.6627450980392157},\n",
       "  {'num_examples': 17,\n",
       "   'accuracy': 0.7647058823529411,\n",
       "   'auc': 0.7142857142857143}],\n",
       " [{'num_examples': 32, 'accuracy': 0.75, 'auc': 0.8354978354978355},\n",
       "  {'num_examples': 32, 'accuracy': 0.625, 'auc': 0.6784313725490196},\n",
       "  {'num_examples': 17,\n",
       "   'accuracy': 0.7647058823529411,\n",
       "   'auc': 0.7428571428571429}],\n",
       " [{'num_examples': 32, 'accuracy': 0.75, 'auc': 0.8528138528138528},\n",
       "  {'num_examples': 32, 'accuracy': 0.625, 'auc': 0.6862745098039216},\n",
       "  {'num_examples': 17,\n",
       "   'accuracy': 0.7647058823529411,\n",
       "   'auc': 0.7285714285714285}],\n",
       " [{'num_examples': 32, 'accuracy': 0.75, 'auc': 0.8658008658008658},\n",
       "  {'num_examples': 32, 'accuracy': 0.625, 'auc': 0.6980392156862745},\n",
       "  {'num_examples': 17,\n",
       "   'accuracy': 0.7647058823529411,\n",
       "   'auc': 0.7428571428571428}],\n",
       " [{'num_examples': 32, 'accuracy': 0.75, 'auc': 0.8701298701298701},\n",
       "  {'num_examples': 32, 'accuracy': 0.625, 'auc': 0.6980392156862745},\n",
       "  {'num_examples': 17,\n",
       "   'accuracy': 0.8235294117647058,\n",
       "   'auc': 0.7428571428571428}],\n",
       " [{'num_examples': 32, 'accuracy': 0.75, 'auc': 0.8917748917748917},\n",
       "  {'num_examples': 32, 'accuracy': 0.65625, 'auc': 0.7176470588235294},\n",
       "  {'num_examples': 17,\n",
       "   'accuracy': 0.8235294117647058,\n",
       "   'auc': 0.7428571428571428}],\n",
       " [{'num_examples': 32, 'accuracy': 0.75, 'auc': 0.8961038961038961},\n",
       "  {'num_examples': 32, 'accuracy': 0.65625, 'auc': 0.7254901960784313},\n",
       "  {'num_examples': 17,\n",
       "   'accuracy': 0.8235294117647058,\n",
       "   'auc': 0.7428571428571428}],\n",
       " [{'num_examples': 32, 'accuracy': 0.71875, 'auc': 0.9004329004329004},\n",
       "  {'num_examples': 32, 'accuracy': 0.65625, 'auc': 0.7450980392156863},\n",
       "  {'num_examples': 17,\n",
       "   'accuracy': 0.7647058823529411,\n",
       "   'auc': 0.7428571428571428}],\n",
       " [{'num_examples': 32, 'accuracy': 0.71875, 'auc': 0.9004329004329004},\n",
       "  {'num_examples': 32, 'accuracy': 0.6875, 'auc': 0.7607843137254902},\n",
       "  {'num_examples': 17,\n",
       "   'accuracy': 0.7647058823529411,\n",
       "   'auc': 0.7428571428571428}],\n",
       " [{'num_examples': 32, 'accuracy': 0.75, 'auc': 0.9004329004329004},\n",
       "  {'num_examples': 32, 'accuracy': 0.6875, 'auc': 0.7686274509803922},\n",
       "  {'num_examples': 17,\n",
       "   'accuracy': 0.7647058823529411,\n",
       "   'auc': 0.7428571428571428}],\n",
       " [{'num_examples': 32, 'accuracy': 0.75, 'auc': 0.8961038961038961},\n",
       "  {'num_examples': 32, 'accuracy': 0.71875, 'auc': 0.7725490196078432},\n",
       "  {'num_examples': 17,\n",
       "   'accuracy': 0.7647058823529411,\n",
       "   'auc': 0.7571428571428571}],\n",
       " [{'num_examples': 32, 'accuracy': 0.71875, 'auc': 0.8961038961038961},\n",
       "  {'num_examples': 32, 'accuracy': 0.71875, 'auc': 0.7764705882352941},\n",
       "  {'num_examples': 17,\n",
       "   'accuracy': 0.7647058823529411,\n",
       "   'auc': 0.7571428571428571}],\n",
       " [{'num_examples': 32, 'accuracy': 0.71875, 'auc': 0.8961038961038961},\n",
       "  {'num_examples': 32, 'accuracy': 0.71875, 'auc': 0.7843137254901961},\n",
       "  {'num_examples': 17,\n",
       "   'accuracy': 0.7647058823529411,\n",
       "   'auc': 0.7571428571428571}],\n",
       " [{'num_examples': 32, 'accuracy': 0.71875, 'auc': 0.8961038961038961},\n",
       "  {'num_examples': 32, 'accuracy': 0.71875, 'auc': 0.7803921568627451},\n",
       "  {'num_examples': 17,\n",
       "   'accuracy': 0.7647058823529411,\n",
       "   'auc': 0.7571428571428571}],\n",
       " [{'num_examples': 32, 'accuracy': 0.75, 'auc': 0.8961038961038961},\n",
       "  {'num_examples': 32, 'accuracy': 0.71875, 'auc': 0.7843137254901961},\n",
       "  {'num_examples': 17,\n",
       "   'accuracy': 0.7647058823529411,\n",
       "   'auc': 0.7571428571428571}],\n",
       " [{'num_examples': 32, 'accuracy': 0.75, 'auc': 0.9047619047619048},\n",
       "  {'num_examples': 32, 'accuracy': 0.71875, 'auc': 0.7843137254901961},\n",
       "  {'num_examples': 17,\n",
       "   'accuracy': 0.7647058823529411,\n",
       "   'auc': 0.7571428571428571}],\n",
       " [{'num_examples': 32, 'accuracy': 0.78125, 'auc': 0.9177489177489178},\n",
       "  {'num_examples': 32, 'accuracy': 0.71875, 'auc': 0.7882352941176471},\n",
       "  {'num_examples': 17,\n",
       "   'accuracy': 0.7647058823529411,\n",
       "   'auc': 0.7571428571428571}],\n",
       " [{'num_examples': 32, 'accuracy': 0.75, 'auc': 0.9177489177489178},\n",
       "  {'num_examples': 32, 'accuracy': 0.6875, 'auc': 0.7725490196078432},\n",
       "  {'num_examples': 17,\n",
       "   'accuracy': 0.7058823529411765,\n",
       "   'auc': 0.7714285714285714}],\n",
       " [{'num_examples': 32, 'accuracy': 0.78125, 'auc': 0.922077922077922},\n",
       "  {'num_examples': 32, 'accuracy': 0.65625, 'auc': 0.7725490196078432},\n",
       "  {'num_examples': 17,\n",
       "   'accuracy': 0.7058823529411765,\n",
       "   'auc': 0.7714285714285714}],\n",
       " [{'num_examples': 32, 'accuracy': 0.75, 'auc': 0.922077922077922},\n",
       "  {'num_examples': 32, 'accuracy': 0.65625, 'auc': 0.7764705882352941},\n",
       "  {'num_examples': 17,\n",
       "   'accuracy': 0.7058823529411765,\n",
       "   'auc': 0.7714285714285714}],\n",
       " [{'num_examples': 32, 'accuracy': 0.75, 'auc': 0.9264069264069263},\n",
       "  {'num_examples': 32, 'accuracy': 0.65625, 'auc': 0.7803921568627451},\n",
       "  {'num_examples': 17,\n",
       "   'accuracy': 0.7058823529411765,\n",
       "   'auc': 0.7857142857142857}],\n",
       " [{'num_examples': 32, 'accuracy': 0.75, 'auc': 0.922077922077922},\n",
       "  {'num_examples': 32, 'accuracy': 0.65625, 'auc': 0.7803921568627451},\n",
       "  {'num_examples': 17,\n",
       "   'accuracy': 0.7058823529411765,\n",
       "   'auc': 0.7857142857142857}],\n",
       " [{'num_examples': 32, 'accuracy': 0.75, 'auc': 0.922077922077922},\n",
       "  {'num_examples': 32, 'accuracy': 0.65625, 'auc': 0.7803921568627451},\n",
       "  {'num_examples': 17,\n",
       "   'accuracy': 0.7058823529411765,\n",
       "   'auc': 0.7857142857142857}],\n",
       " [{'num_examples': 32, 'accuracy': 0.78125, 'auc': 0.9177489177489178},\n",
       "  {'num_examples': 32, 'accuracy': 0.65625, 'auc': 0.7764705882352941},\n",
       "  {'num_examples': 17,\n",
       "   'accuracy': 0.7647058823529411,\n",
       "   'auc': 0.7857142857142857}],\n",
       " [{'num_examples': 32, 'accuracy': 0.8125, 'auc': 0.9177489177489178},\n",
       "  {'num_examples': 32, 'accuracy': 0.65625, 'auc': 0.7686274509803922},\n",
       "  {'num_examples': 17,\n",
       "   'accuracy': 0.7647058823529411,\n",
       "   'auc': 0.7857142857142857}],\n",
       " [{'num_examples': 32, 'accuracy': 0.8125, 'auc': 0.9177489177489178},\n",
       "  {'num_examples': 32, 'accuracy': 0.6875, 'auc': 0.7686274509803922},\n",
       "  {'num_examples': 17,\n",
       "   'accuracy': 0.7647058823529411,\n",
       "   'auc': 0.7857142857142857}],\n",
       " [{'num_examples': 32, 'accuracy': 0.8125, 'auc': 0.9177489177489178},\n",
       "  {'num_examples': 32, 'accuracy': 0.6875, 'auc': 0.7764705882352941},\n",
       "  {'num_examples': 17,\n",
       "   'accuracy': 0.7647058823529411,\n",
       "   'auc': 0.7857142857142857}],\n",
       " [{'num_examples': 32, 'accuracy': 0.8125, 'auc': 0.9134199134199135},\n",
       "  {'num_examples': 32, 'accuracy': 0.6875, 'auc': 0.7764705882352941},\n",
       "  {'num_examples': 17,\n",
       "   'accuracy': 0.7647058823529411,\n",
       "   'auc': 0.7857142857142857}],\n",
       " [{'num_examples': 32, 'accuracy': 0.8125, 'auc': 0.9134199134199135},\n",
       "  {'num_examples': 32, 'accuracy': 0.6875, 'auc': 0.7764705882352941},\n",
       "  {'num_examples': 17,\n",
       "   'accuracy': 0.7647058823529411,\n",
       "   'auc': 0.7857142857142857}],\n",
       " [{'num_examples': 32, 'accuracy': 0.8125, 'auc': 0.9134199134199135},\n",
       "  {'num_examples': 32, 'accuracy': 0.6875, 'auc': 0.7764705882352941},\n",
       "  {'num_examples': 17,\n",
       "   'accuracy': 0.7647058823529411,\n",
       "   'auc': 0.7857142857142857}],\n",
       " [{'num_examples': 32, 'accuracy': 0.8125, 'auc': 0.9177489177489178},\n",
       "  {'num_examples': 32, 'accuracy': 0.6875, 'auc': 0.7764705882352941},\n",
       "  {'num_examples': 17,\n",
       "   'accuracy': 0.7647058823529411,\n",
       "   'auc': 0.7857142857142857}],\n",
       " [{'num_examples': 32, 'accuracy': 0.8125, 'auc': 0.9177489177489178},\n",
       "  {'num_examples': 32, 'accuracy': 0.6875, 'auc': 0.7764705882352941},\n",
       "  {'num_examples': 17,\n",
       "   'accuracy': 0.7647058823529411,\n",
       "   'auc': 0.7857142857142857}],\n",
       " [{'num_examples': 32, 'accuracy': 0.8125, 'auc': 0.9134199134199134},\n",
       "  {'num_examples': 32, 'accuracy': 0.6875, 'auc': 0.7725490196078432},\n",
       "  {'num_examples': 17,\n",
       "   'accuracy': 0.7647058823529411,\n",
       "   'auc': 0.7714285714285715}],\n",
       " [{'num_examples': 32, 'accuracy': 0.8125, 'auc': 0.9177489177489178},\n",
       "  {'num_examples': 32, 'accuracy': 0.6875, 'auc': 0.7725490196078432},\n",
       "  {'num_examples': 17,\n",
       "   'accuracy': 0.7647058823529411,\n",
       "   'auc': 0.7714285714285715}],\n",
       " [{'num_examples': 32, 'accuracy': 0.8125, 'auc': 0.9177489177489178},\n",
       "  {'num_examples': 32, 'accuracy': 0.6875, 'auc': 0.7686274509803922},\n",
       "  {'num_examples': 17,\n",
       "   'accuracy': 0.7647058823529411,\n",
       "   'auc': 0.7714285714285715}],\n",
       " [{'num_examples': 32, 'accuracy': 0.8125, 'auc': 0.9134199134199134},\n",
       "  {'num_examples': 32, 'accuracy': 0.71875, 'auc': 0.7686274509803922},\n",
       "  {'num_examples': 17,\n",
       "   'accuracy': 0.7647058823529411,\n",
       "   'auc': 0.7714285714285715}],\n",
       " [{'num_examples': 32, 'accuracy': 0.8125, 'auc': 0.9134199134199134},\n",
       "  {'num_examples': 32, 'accuracy': 0.71875, 'auc': 0.7686274509803922},\n",
       "  {'num_examples': 17,\n",
       "   'accuracy': 0.7647058823529411,\n",
       "   'auc': 0.7714285714285715}],\n",
       " [{'num_examples': 32, 'accuracy': 0.8125, 'auc': 0.909090909090909},\n",
       "  {'num_examples': 32, 'accuracy': 0.71875, 'auc': 0.7686274509803922},\n",
       "  {'num_examples': 17,\n",
       "   'accuracy': 0.7647058823529411,\n",
       "   'auc': 0.7714285714285715}],\n",
       " [{'num_examples': 32, 'accuracy': 0.8125, 'auc': 0.909090909090909},\n",
       "  {'num_examples': 32, 'accuracy': 0.71875, 'auc': 0.7607843137254902},\n",
       "  {'num_examples': 17,\n",
       "   'accuracy': 0.7647058823529411,\n",
       "   'auc': 0.7714285714285715}],\n",
       " [{'num_examples': 32, 'accuracy': 0.8125, 'auc': 0.909090909090909},\n",
       "  {'num_examples': 32, 'accuracy': 0.71875, 'auc': 0.7607843137254902},\n",
       "  {'num_examples': 17,\n",
       "   'accuracy': 0.7647058823529411,\n",
       "   'auc': 0.7714285714285715}],\n",
       " [{'num_examples': 32, 'accuracy': 0.8125, 'auc': 0.9047619047619048},\n",
       "  {'num_examples': 32, 'accuracy': 0.71875, 'auc': 0.7529411764705882},\n",
       "  {'num_examples': 17,\n",
       "   'accuracy': 0.7647058823529411,\n",
       "   'auc': 0.7714285714285715}],\n",
       " [{'num_examples': 32, 'accuracy': 0.8125, 'auc': 0.9047619047619048},\n",
       "  {'num_examples': 32, 'accuracy': 0.71875, 'auc': 0.7529411764705882},\n",
       "  {'num_examples': 17,\n",
       "   'accuracy': 0.7647058823529411,\n",
       "   'auc': 0.7714285714285715}],\n",
       " [{'num_examples': 32, 'accuracy': 0.8125, 'auc': 0.9047619047619048},\n",
       "  {'num_examples': 32, 'accuracy': 0.71875, 'auc': 0.7490196078431373},\n",
       "  {'num_examples': 17,\n",
       "   'accuracy': 0.7647058823529411,\n",
       "   'auc': 0.7714285714285715}],\n",
       " [{'num_examples': 32, 'accuracy': 0.8125, 'auc': 0.9047619047619048},\n",
       "  {'num_examples': 32, 'accuracy': 0.71875, 'auc': 0.7490196078431373},\n",
       "  {'num_examples': 17,\n",
       "   'accuracy': 0.7647058823529411,\n",
       "   'auc': 0.7714285714285715}],\n",
       " [{'num_examples': 32, 'accuracy': 0.8125, 'auc': 0.9047619047619048},\n",
       "  {'num_examples': 32, 'accuracy': 0.71875, 'auc': 0.7490196078431373},\n",
       "  {'num_examples': 17,\n",
       "   'accuracy': 0.7647058823529411,\n",
       "   'auc': 0.7714285714285715}],\n",
       " [{'num_examples': 32, 'accuracy': 0.8125, 'auc': 0.9047619047619048},\n",
       "  {'num_examples': 32, 'accuracy': 0.71875, 'auc': 0.7450980392156863},\n",
       "  {'num_examples': 17,\n",
       "   'accuracy': 0.7647058823529411,\n",
       "   'auc': 0.7714285714285715}],\n",
       " [{'num_examples': 32, 'accuracy': 0.8125, 'auc': 0.9047619047619048},\n",
       "  {'num_examples': 32, 'accuracy': 0.71875, 'auc': 0.7450980392156863},\n",
       "  {'num_examples': 17,\n",
       "   'accuracy': 0.7647058823529411,\n",
       "   'auc': 0.7714285714285715}]]"
      ]
     },
     "execution_count": 20,
     "metadata": {},
     "output_type": "execute_result"
    }
   ],
   "source": [
    "evals"
   ]
  },
  {
   "cell_type": "code",
   "execution_count": 21,
   "metadata": {},
   "outputs": [],
   "source": [
    "from src.utils.classification_utils import average_data"
   ]
  },
  {
   "cell_type": "code",
   "execution_count": 22,
   "metadata": {},
   "outputs": [],
   "source": [
    "avg_evaluations = [average_data(epoch_evaluations) for epoch_evaluations in evals]"
   ]
  },
  {
   "cell_type": "code",
   "execution_count": 23,
   "metadata": {},
   "outputs": [
    {
     "data": {
      "text/plain": [
       "[{'num_examples': 81,\n",
       "  'accuracy': 0.5679012345679012,\n",
       "  'auc': 0.6415895651189768},\n",
       " {'num_examples': 81,\n",
       "  'accuracy': 0.654320987654321,\n",
       "  'auc': 0.6736012474574566},\n",
       " {'num_examples': 81,\n",
       "  'accuracy': 0.6790123456790123,\n",
       "  'auc': 0.7149295632955763},\n",
       " {'num_examples': 81,\n",
       "  'accuracy': 0.691358024691358,\n",
       "  'auc': 0.7315489158626414},\n",
       " {'num_examples': 81,\n",
       "  'accuracy': 0.7037037037037037,\n",
       "  'auc': 0.7540037788403802},\n",
       " {'num_examples': 81,\n",
       "  'accuracy': 0.7037037037037037,\n",
       "  'auc': 0.7609449615985564},\n",
       " {'num_examples': 81,\n",
       "  'accuracy': 0.7037037037037037,\n",
       "  'auc': 0.7737216547674064},\n",
       " {'num_examples': 81,\n",
       "  'accuracy': 0.7160493827160493,\n",
       "  'auc': 0.7754318786998525},\n",
       " {'num_examples': 81,\n",
       "  'accuracy': 0.7283950617283951,\n",
       "  'auc': 0.7917293067619865},\n",
       " {'num_examples': 81,\n",
       "  'accuracy': 0.7283950617283951,\n",
       "  'auc': 0.7965380540543939},\n",
       " {'num_examples': 81,\n",
       "  'accuracy': 0.7037037037037037,\n",
       "  'auc': 0.8059945863867433},\n",
       " {'num_examples': 81,\n",
       "  'accuracy': 0.7160493827160495,\n",
       "  'auc': 0.8121916331066658},\n",
       " {'num_examples': 81,\n",
       "  'accuracy': 0.728395061728395,\n",
       "  'auc': 0.8152901564666271},\n",
       " {'num_examples': 81,\n",
       "  'accuracy': 0.7407407407407407,\n",
       "  'auc': 0.8181274305457311},\n",
       " {'num_examples': 81,\n",
       "  'accuracy': 0.728395061728395,\n",
       "  'auc': 0.8196766922257119},\n",
       " {'num_examples': 81,\n",
       "  'accuracy': 0.728395061728395,\n",
       "  'auc': 0.8227752155856731},\n",
       " {'num_examples': 81,\n",
       "  'accuracy': 0.728395061728395,\n",
       "  'auc': 0.8212259539056925},\n",
       " {'num_examples': 81,\n",
       "  'accuracy': 0.7407407407407407,\n",
       "  'auc': 0.8227752155856731},\n",
       " {'num_examples': 81,\n",
       "  'accuracy': 0.7407407407407407,\n",
       "  'auc': 0.8261956634505654},\n",
       " {'num_examples': 81,\n",
       "  'accuracy': 0.7530864197530864,\n",
       "  'auc': 0.8328755969278845},\n",
       " {'num_examples': 81,\n",
       "  'accuracy': 0.7160493827160493,\n",
       "  'auc': 0.8296767865395316},\n",
       " {'num_examples': 81,\n",
       "  'accuracy': 0.7160493827160493,\n",
       "  'auc': 0.8313870104719777},\n",
       " {'num_examples': 81,\n",
       "  'accuracy': 0.7037037037037037,\n",
       "  'auc': 0.8329362721519584},\n",
       " {'num_examples': 81,\n",
       "  'accuracy': 0.7037037037037037,\n",
       "  'auc': 0.8391939940959549},\n",
       " {'num_examples': 81,\n",
       "  'accuracy': 0.7037037037037037,\n",
       "  'auc': 0.8374837701635088},\n",
       " {'num_examples': 81,\n",
       "  'accuracy': 0.7037037037037037,\n",
       "  'auc': 0.8374837701635088},\n",
       " {'num_examples': 81, 'accuracy': 0.728395061728395, 'auc': 0.834224284551082},\n",
       " {'num_examples': 81,\n",
       "  'accuracy': 0.7407407407407407,\n",
       "  'auc': 0.8311257611911207},\n",
       " {'num_examples': 81,\n",
       "  'accuracy': 0.7530864197530864,\n",
       "  'auc': 0.8311257611911207},\n",
       " {'num_examples': 81,\n",
       "  'accuracy': 0.7530864197530864,\n",
       "  'auc': 0.834224284551082},\n",
       " {'num_examples': 81,\n",
       "  'accuracy': 0.7530864197530864,\n",
       "  'auc': 0.8325140606186358},\n",
       " {'num_examples': 81,\n",
       "  'accuracy': 0.7530864197530864,\n",
       "  'auc': 0.8325140606186358},\n",
       " {'num_examples': 81,\n",
       "  'accuracy': 0.7530864197530864,\n",
       "  'auc': 0.8325140606186358},\n",
       " {'num_examples': 81,\n",
       "  'accuracy': 0.7530864197530864,\n",
       "  'auc': 0.834224284551082},\n",
       " {'num_examples': 81,\n",
       "  'accuracy': 0.7530864197530864,\n",
       "  'auc': 0.834224284551082},\n",
       " {'num_examples': 81,\n",
       "  'accuracy': 0.7530864197530864,\n",
       "  'auc': 0.8279665626070855},\n",
       " {'num_examples': 81,\n",
       "  'accuracy': 0.7530864197530864,\n",
       "  'auc': 0.8296767865395316},\n",
       " {'num_examples': 81,\n",
       "  'accuracy': 0.7530864197530864,\n",
       "  'auc': 0.828127524859551},\n",
       " {'num_examples': 81,\n",
       "  'accuracy': 0.7654320987654322,\n",
       "  'auc': 0.8264173009271049},\n",
       " {'num_examples': 81,\n",
       "  'accuracy': 0.7654320987654322,\n",
       "  'auc': 0.8264173009271049},\n",
       " {'num_examples': 81,\n",
       "  'accuracy': 0.7654320987654322,\n",
       "  'auc': 0.8247070769946586},\n",
       " {'num_examples': 81,\n",
       "  'accuracy': 0.7654320987654322,\n",
       "  'auc': 0.8216085536346973},\n",
       " {'num_examples': 81,\n",
       "  'accuracy': 0.7654320987654322,\n",
       "  'auc': 0.8216085536346973},\n",
       " {'num_examples': 81, 'accuracy': 0.7654320987654322, 'auc': 0.81679980634229},\n",
       " {'num_examples': 81, 'accuracy': 0.7654320987654322, 'auc': 0.81679980634229},\n",
       " {'num_examples': 81,\n",
       "  'accuracy': 0.7654320987654322,\n",
       "  'auc': 0.8152505446623094},\n",
       " {'num_examples': 81,\n",
       "  'accuracy': 0.7654320987654322,\n",
       "  'auc': 0.8152505446623094},\n",
       " {'num_examples': 81,\n",
       "  'accuracy': 0.7654320987654322,\n",
       "  'auc': 0.8152505446623094},\n",
       " {'num_examples': 81,\n",
       "  'accuracy': 0.7654320987654322,\n",
       "  'auc': 0.8137012829823288},\n",
       " {'num_examples': 81,\n",
       "  'accuracy': 0.7654320987654322,\n",
       "  'auc': 0.8137012829823288}]"
      ]
     },
     "execution_count": 23,
     "metadata": {},
     "output_type": "execute_result"
    }
   ],
   "source": [
    "avg_evaluations"
   ]
  },
  {
   "cell_type": "code",
   "execution_count": null,
   "metadata": {},
   "outputs": [],
   "source": []
  }
 ],
 "metadata": {
  "kernelspec": {
   "display_name": "Python 3",
   "language": "python",
   "name": "python3"
  },
  "language_info": {
   "codemirror_mode": {
    "name": "ipython",
    "version": 3
   },
   "file_extension": ".py",
   "mimetype": "text/x-python",
   "name": "python",
   "nbconvert_exporter": "python",
   "pygments_lexer": "ipython3",
   "version": "3.6.8"
  }
 },
 "nbformat": 4,
 "nbformat_minor": 2
}
