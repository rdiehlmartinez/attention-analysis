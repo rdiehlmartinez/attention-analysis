{
 "cells": [
  {
   "cell_type": "markdown",
   "metadata": {},
   "source": [
    "## Concatenating all attention distributions \n",
    "\n",
    "We extract the attention distribution directly from a model that has not been pretrained for bias detection! We do not use windowing for this case. But we do index the attention distributions with the actual correct distribution."
   ]
  },
  {
   "cell_type": "code",
   "execution_count": 1,
   "metadata": {},
   "outputs": [],
   "source": [
    "import sys; sys.path.append(\"../../../../..\")\n",
    "import torch \n",
    "from src.experiment import AttentionExperiment, ClassificationExperiment\n",
    "from src.dataset import ExperimentDataset\n",
    "from src.params import Params\n",
    "from src.utils.attention_utils import reduce_attention_dist, return_idx_attention_dist, window_attention_dist\n",
    "from src.utils.classification_utils import run_bootstrapping\n",
    "from src.utils.shared_utils import get_bias_predictions"
   ]
  },
  {
   "cell_type": "code",
   "execution_count": 2,
   "metadata": {},
   "outputs": [],
   "source": [
    "%load_ext autoreload\n",
    "%autoreload 2"
   ]
  },
  {
   "cell_type": "code",
   "execution_count": 3,
   "metadata": {},
   "outputs": [
    {
     "name": "stdout",
     "output_type": "stream",
     "text": [
      "model = shallow_nn\n",
      "layers = [0, 1, 2, 3, 4, 5, 6, 7, 8, 9, 10, 11]\n",
      "reducer = concat\n"
     ]
    }
   ],
   "source": [
    "params = Params.read_params(\"linear-params.json\")\n",
    "print(\"model = {}\".format(params.final_task['model']))\n",
    "print(\"layers = {}\".format(params.intermediary_task[\"attention\"][\"layers\"]))\n",
    "print(\"reducer = {}\".format(params.intermediary_task[\"attention\"][\"reducer\"]))"
   ]
  },
  {
   "cell_type": "code",
   "execution_count": 4,
   "metadata": {
    "scrolled": true
   },
   "outputs": [
    {
     "name": "stderr",
     "output_type": "stream",
     "text": [
      "04/09/2020 08:39:01 - INFO - pytorch_pretrained_bert.tokenization -   loading vocabulary file https://s3.amazonaws.com/models.huggingface.co/bert/bert-base-uncased-vocab.txt from cache at ./cache/26bc1ad6c0ac742e9b52263248f6d0f00068293b33709fae12320c0e35ccfbbb.542ce4285a40d23a559526243235df47c5f75c197f04f37d1a0c124c32c9a084\n",
      "100it [00:00, 3086.38it/s]\n"
     ]
    }
   ],
   "source": [
    "# Loading in the dataset that we are using in this experiments \n",
    "# typically this dataset is the small set of ground-truth labels\n",
    "dev_dataset = ExperimentDataset.init_dataset(params.dataset)"
   ]
  },
  {
   "cell_type": "code",
   "execution_count": 5,
   "metadata": {},
   "outputs": [],
   "source": [
    "import pickle \n",
    "train_dataset = pickle.load(open(params.dataset[\"weakly_labeled_data\"], \"rb\"))"
   ]
  },
  {
   "cell_type": "markdown",
   "metadata": {},
   "source": [
    "### Attention Experiment: \n",
    "* Is a class that wraps useful methods to extract attention distributions from a given BERT-based model \n",
    "* The user has to provide in two config files: One to specify parameters for how the attention scores should be extracted and combined, and other to specify the intermediary model from which the attention scores should be extracted from\n",
    "* The user needs to instantiate the attention experiment with a function that tells the model how to run \n",
    " inference on the given model. The function header is specified below: \n",
    " \n",
    " ``` def initialize_attention_experiment(cls, intermediary_task_params, dataset_params, verbose=False) ```\n",
    " \n"
   ]
  },
  {
   "cell_type": "code",
   "execution_count": 6,
   "metadata": {
    "scrolled": true
   },
   "outputs": [
    {
     "name": "stderr",
     "output_type": "stream",
     "text": [
      "04/09/2020 08:39:28 - INFO - pytorch_pretrained_bert.tokenization -   loading vocabulary file https://s3.amazonaws.com/models.huggingface.co/bert/bert-base-uncased-vocab.txt from cache at ./cache/26bc1ad6c0ac742e9b52263248f6d0f00068293b33709fae12320c0e35ccfbbb.542ce4285a40d23a559526243235df47c5f75c197f04f37d1a0c124c32c9a084\n",
      "04/09/2020 08:39:28 - INFO - pytorch_pretrained_bert.modeling -   loading archive file https://s3.amazonaws.com/models.huggingface.co/bert/bert-base-uncased.tar.gz from cache at ./cache/9c41111e2de84547a463fd39217199738d1e3deb72d4fec4399e6e241983c6f0.ae3cef932725ca7a30cdcb93fc6e09150a55e2a130ec7af63975a16c153ae2ba\n",
      "04/09/2020 08:39:28 - INFO - pytorch_pretrained_bert.modeling -   extracting archive file ./cache/9c41111e2de84547a463fd39217199738d1e3deb72d4fec4399e6e241983c6f0.ae3cef932725ca7a30cdcb93fc6e09150a55e2a130ec7af63975a16c153ae2ba to temp dir /tmp/tmps806vuwh\n",
      "04/09/2020 08:39:32 - INFO - pytorch_pretrained_bert.modeling -   Model config {\n",
      "  \"attention_probs_dropout_prob\": 0.1,\n",
      "  \"hidden_act\": \"gelu\",\n",
      "  \"hidden_dropout_prob\": 0.1,\n",
      "  \"hidden_size\": 768,\n",
      "  \"initializer_range\": 0.02,\n",
      "  \"intermediate_size\": 3072,\n",
      "  \"max_position_embeddings\": 512,\n",
      "  \"num_attention_heads\": 12,\n",
      "  \"num_hidden_layers\": 12,\n",
      "  \"type_vocab_size\": 2,\n",
      "  \"vocab_size\": 30522\n",
      "}\n",
      "\n",
      "04/09/2020 08:39:39 - INFO - pytorch_pretrained_bert.modeling -   Weights of BertForMultitaskWithFeaturesOnTop not initialized from pretrained model: ['tok_classifier.out.0.weight', 'tok_classifier.out.0.bias', 'tok_classifier.enricher.0.weight', 'tok_classifier.enricher.0.bias', 'cls_classifier.weight', 'cls_classifier.bias']\n",
      "04/09/2020 08:39:39 - INFO - pytorch_pretrained_bert.modeling -   Weights from pretrained model not used in BertForMultitaskWithFeaturesOnTop: ['cls.predictions.bias', 'cls.predictions.transform.dense.weight', 'cls.predictions.transform.dense.bias', 'cls.predictions.transform.LayerNorm.gamma', 'cls.predictions.transform.LayerNorm.beta', 'cls.predictions.decoder.weight', 'cls.seq_relationship.weight', 'cls.seq_relationship.bias']\n",
      "/u/nlp/anaconda/main/anaconda3/envs/bias_classification/lib/python3.6/site-packages/torch/nn/modules/rnn.py:54: UserWarning: dropout option adds dropout after all but last recurrent layer, so non-zero dropout expects num_layers greater than 1, but got dropout=0.2 and num_layers=1\n",
      "  \"num_layers={}\".format(dropout, num_layers))\n",
      "04/09/2020 08:39:40 - INFO - pytorch_pretrained_bert.modeling -   loading archive file https://s3.amazonaws.com/models.huggingface.co/bert/bert-base-uncased.tar.gz from cache at ./cache/9c41111e2de84547a463fd39217199738d1e3deb72d4fec4399e6e241983c6f0.ae3cef932725ca7a30cdcb93fc6e09150a55e2a130ec7af63975a16c153ae2ba\n",
      "04/09/2020 08:39:40 - INFO - pytorch_pretrained_bert.modeling -   extracting archive file ./cache/9c41111e2de84547a463fd39217199738d1e3deb72d4fec4399e6e241983c6f0.ae3cef932725ca7a30cdcb93fc6e09150a55e2a130ec7af63975a16c153ae2ba to temp dir /tmp/tmpve8h1jyw\n",
      "04/09/2020 08:39:44 - INFO - pytorch_pretrained_bert.modeling -   Model config {\n",
      "  \"attention_probs_dropout_prob\": 0.1,\n",
      "  \"hidden_act\": \"gelu\",\n",
      "  \"hidden_dropout_prob\": 0.1,\n",
      "  \"hidden_size\": 768,\n",
      "  \"initializer_range\": 0.02,\n",
      "  \"intermediate_size\": 3072,\n",
      "  \"max_position_embeddings\": 512,\n",
      "  \"num_attention_heads\": 12,\n",
      "  \"num_hidden_layers\": 12,\n",
      "  \"type_vocab_size\": 2,\n",
      "  \"vocab_size\": 30522\n",
      "}\n",
      "\n"
     ]
    },
    {
     "name": "stdout",
     "output_type": "stream",
     "text": [
      "Instantiated joint model with default HuggingFace weights.\n",
      "Succesfully loaded in attention experiment!\n"
     ]
    }
   ],
   "source": [
    "attention_experiment = AttentionExperiment.initialize_attention_experiment(params.intermediary_task, params.dataset, verbose=True, from_pretrained=False)"
   ]
  },
  {
   "cell_type": "code",
   "execution_count": 7,
   "metadata": {},
   "outputs": [],
   "source": [
    "attention_dataloader_dev = dev_dataset.return_dataloader(batch_size=params.intermediary_task['attention']['attention_extraction_batch_size'])  \n",
    "attention_dataloader_train = train_dataset.return_dataloader(batch_size=params.intermediary_task['attention']['attention_extraction_batch_size'])"
   ]
  },
  {
   "cell_type": "markdown",
   "metadata": {},
   "source": [
    "```extract_attention_scores()``` works out of the box because the attention experiment has the config file saved, and knows what BERT model to use/load in, which layers to extract the attention scores from, and what the inference function is that should be used on this particular BERT model.\n",
    "\n",
    "Attention_scores is then a list of dictionaries. The keys in this dictionary are the specific layers of a BERT model and the values are the corresponding attention distributions extracted from that particular layer."
   ]
  },
  {
   "cell_type": "code",
   "execution_count": 8,
   "metadata": {},
   "outputs": [
    {
     "data": {
      "application/vnd.jupyter.widget-view+json": {
       "model_id": "800368d6989f4018995bf634e6a448ad",
       "version_major": 2,
       "version_minor": 0
      },
      "text/plain": [
       "HBox(children=(FloatProgress(value=1.0, bar_style='info', max=1.0), HTML(value='')))"
      ]
     },
     "metadata": {},
     "output_type": "display_data"
    },
    {
     "name": "stdout",
     "output_type": "stream",
     "text": [
      "\n"
     ]
    }
   ],
   "source": [
    "attention_scores_dev = attention_experiment.extract_attention_scores(attention_dataloader_dev)"
   ]
  },
  {
   "cell_type": "code",
   "execution_count": 9,
   "metadata": {},
   "outputs": [
    {
     "name": "stdout",
     "output_type": "stream",
     "text": [
      "Loading in existing train attention weights\n"
     ]
    }
   ],
   "source": [
    "# Saving out attention weights from the train dataset to facilitate future runs\n",
    "import os \n",
    "attention_weights_file = \"model_weights/attention_scores_train.pkl\"\n",
    "if os.path.exists(attention_weights_file):\n",
    "    print(\"Loading in existing train attention weights\")\n",
    "    attention_scores_train = pickle.load(open(attention_weights_file, \"rb\"))\n",
    "else:\n",
    "    print(\"Generating new training attention weights \")\n",
    "    if (not os.path.isdir(\"model_weights\")):\n",
    "            os.mkdir(\"model_weights\")\n",
    "    attention_scores_train = attention_experiment.extract_attention_scores(attention_dataloader_train)\n",
    "    pickle.dump(attention_scores_train, open(attention_weights_file, \"wb+\"))"
   ]
  },
  {
   "cell_type": "markdown",
   "metadata": {},
   "source": [
    "Indexing distributions with correct index"
   ]
  },
  {
   "cell_type": "code",
   "execution_count": 10,
   "metadata": {},
   "outputs": [],
   "source": [
    "from src.utils.data_utils import get_bias_indices"
   ]
  },
  {
   "cell_type": "code",
   "execution_count": 11,
   "metadata": {},
   "outputs": [],
   "source": [
    "bias_indices_train = get_bias_indices(train_dataset.get_val('pre_tok_label_ids'))"
   ]
  },
  {
   "cell_type": "code",
   "execution_count": 12,
   "metadata": {},
   "outputs": [],
   "source": [
    "bias_indices_dev = get_bias_indices(dev_dataset.get_val('pre_tok_label_ids'))"
   ]
  },
  {
   "cell_type": "code",
   "execution_count": 13,
   "metadata": {},
   "outputs": [],
   "source": [
    "attention_scores_indexed_train = return_idx_attention_dist(attention_scores_train, bias_indices_train)\n",
    "reduced_attention_train = reduce_attention_dist(attention_scores_indexed_train, params.intermediary_task[\"attention\"])\n",
    "attention_dist_train = reduced_attention_train"
   ]
  },
  {
   "cell_type": "code",
   "execution_count": 14,
   "metadata": {},
   "outputs": [],
   "source": [
    "train_dataset.add_data(attention_dist_train, \"attention_dist\")\n",
    "train_dataset.shuffle_data()\n",
    "assert(attention_dist_train.shape[1] == params.final_task['input_dim'])"
   ]
  },
  {
   "cell_type": "code",
   "execution_count": 15,
   "metadata": {},
   "outputs": [],
   "source": [
    "attention_scores_indexed_dev = return_idx_attention_dist(attention_scores_dev, bias_indices_dev)\n",
    "reduced_attention_dev = reduce_attention_dist(attention_scores_indexed_dev, params.intermediary_task[\"attention\"])\n",
    "attention_dist_dev = reduced_attention_dev"
   ]
  },
  {
   "cell_type": "code",
   "execution_count": 16,
   "metadata": {},
   "outputs": [],
   "source": [
    "dev_dataset.add_data(attention_dist_dev, \"attention_dist\")\n",
    "dev_dataset.add_data(dev_dataset.get_val('bias_label'),'weak_bias_label')\n",
    "dev_dataset.shuffle_data()\n",
    "assert(attention_dist_dev.shape[1] == params.final_task['input_dim'])"
   ]
  },
  {
   "cell_type": "markdown",
   "metadata": {},
   "source": [
    "### This is where the classification experiment starts"
   ]
  },
  {
   "cell_type": "markdown",
   "metadata": {},
   "source": [
    "We create a classification experiment that contains useful methods for classifying bias based on the attention distributions. "
   ]
  },
  {
   "cell_type": "code",
   "execution_count": 17,
   "metadata": {},
   "outputs": [],
   "source": [
    "params = Params.read_params(\"linear-params.json\")"
   ]
  },
  {
   "cell_type": "code",
   "execution_count": 18,
   "metadata": {},
   "outputs": [],
   "source": [
    "train_dataloader = train_dataset.return_dataloader(batch_size=params.final_task['training_params']['batch_size'])\n",
    "dev_dataloader = dev_dataset.return_dataloader(batch_size=32)"
   ]
  },
  {
   "cell_type": "code",
   "execution_count": 19,
   "metadata": {},
   "outputs": [],
   "source": [
    "classification_experiment = ClassificationExperiment.init_cls_experiment(params.final_task)"
   ]
  },
  {
   "cell_type": "code",
   "execution_count": 20,
   "metadata": {},
   "outputs": [
    {
     "data": {
      "application/vnd.jupyter.widget-view+json": {
       "model_id": "",
       "version_major": 2,
       "version_minor": 0
      },
      "text/plain": [
       "HBox(children=(FloatProgress(value=0.0, description='epochs', max=50.0, style=ProgressStyle(description_width=…"
      ]
     },
     "metadata": {},
     "output_type": "display_data"
    },
    {
     "name": "stdout",
     "output_type": "stream",
     "text": [
      "\n"
     ]
    }
   ],
   "source": [
    "losses, evals = classification_experiment.train_model(train_dataloader, dev_dataloader, input_key=\"attention_dist\", label_key=\"weak_bias_label\")"
   ]
  },
  {
   "cell_type": "code",
   "execution_count": 21,
   "metadata": {},
   "outputs": [],
   "source": [
    "from src.utils.classification_utils import average_data"
   ]
  },
  {
   "cell_type": "code",
   "execution_count": 22,
   "metadata": {},
   "outputs": [],
   "source": [
    "avg_evaluations = [average_data(epoch_evaluations) for epoch_evaluations in evals]"
   ]
  },
  {
   "cell_type": "code",
   "execution_count": 23,
   "metadata": {},
   "outputs": [
    {
     "data": {
      "text/plain": [
       "[{'num_examples': 81,\n",
       "  'accuracy': 0.5925925925925926,\n",
       "  'auc': 0.5591428842068228,\n",
       "  'precision': 0.5925925925925926,\n",
       "  'recall': 1.0,\n",
       "  'f1': 0.7380464305076861},\n",
       " {'num_examples': 81,\n",
       "  'accuracy': 0.5925925925925926,\n",
       "  'auc': 0.5749827717811047,\n",
       "  'precision': 0.5925925925925926,\n",
       "  'recall': 1.0,\n",
       "  'f1': 0.7380464305076861},\n",
       " {'num_examples': 81,\n",
       "  'accuracy': 0.5925925925925926,\n",
       "  'auc': 0.5752417338379259,\n",
       "  'precision': 0.5925925925925926,\n",
       "  'recall': 1.0,\n",
       "  'f1': 0.7380464305076861},\n",
       " {'num_examples': 81,\n",
       "  'accuracy': 0.5925925925925926,\n",
       "  'auc': 0.598551025348411,\n",
       "  'precision': 0.5925925925925926,\n",
       "  'recall': 1.0,\n",
       "  'f1': 0.7380464305076861},\n",
       " {'num_examples': 81,\n",
       "  'accuracy': 0.5925925925925926,\n",
       "  'auc': 0.602480312217927,\n",
       "  'precision': 0.5925925925925926,\n",
       "  'recall': 1.0,\n",
       "  'f1': 0.7380464305076861},\n",
       " {'num_examples': 81,\n",
       "  'accuracy': 0.5925925925925926,\n",
       "  'auc': 0.6113403028056812,\n",
       "  'precision': 0.5925925925925926,\n",
       "  'recall': 1.0,\n",
       "  'f1': 0.7380464305076861},\n",
       " {'num_examples': 81,\n",
       "  'accuracy': 0.5925925925925926,\n",
       "  'auc': 0.6361284896853714,\n",
       "  'precision': 0.5949820788530467,\n",
       "  'recall': 0.9828234031132581,\n",
       "  'f1': 0.7350152084451601},\n",
       " {'num_examples': 81,\n",
       "  'accuracy': 0.5925925925925926,\n",
       "  'auc': 0.6313340079277372,\n",
       "  'precision': 0.5949820788530467,\n",
       "  'recall': 0.9828234031132581,\n",
       "  'f1': 0.7350152084451601},\n",
       " {'num_examples': 81,\n",
       "  'accuracy': 0.5925925925925926,\n",
       "  'auc': 0.6335553580888431,\n",
       "  'precision': 0.5949820788530467,\n",
       "  'recall': 0.9828234031132581,\n",
       "  'f1': 0.7350152084451601},\n",
       " {'num_examples': 81,\n",
       "  'accuracy': 0.5802469135802468,\n",
       "  'auc': 0.6409424174035333,\n",
       "  'precision': 0.5911589008363202,\n",
       "  'recall': 0.9656468062265164,\n",
       "  'f1': 0.7261808441484152},\n",
       " {'num_examples': 81,\n",
       "  'accuracy': 0.5679012345679012,\n",
       "  'auc': 0.6369128435056254,\n",
       "  'precision': 0.5843621399176955,\n",
       "  'recall': 0.9393093576668456,\n",
       "  'f1': 0.7143480774042154},\n",
       " {'num_examples': 81,\n",
       "  'accuracy': 0.5679012345679012,\n",
       "  'auc': 0.6316468473236495,\n",
       "  'precision': 0.5843621399176955,\n",
       "  'recall': 0.9393093576668456,\n",
       "  'f1': 0.7143480774042154},\n",
       " {'num_examples': 81,\n",
       "  'accuracy': 0.5802469135802468,\n",
       "  'auc': 0.6251908385469056,\n",
       "  'precision': 0.593898112672059,\n",
       "  'recall': 0.9393093576668456,\n",
       "  'f1': 0.7203686117266365},\n",
       " {'num_examples': 81,\n",
       "  'accuracy': 0.5802469135802468,\n",
       "  'auc': 0.6200251293933212,\n",
       "  'precision': 0.593898112672059,\n",
       "  'recall': 0.9393093576668456,\n",
       "  'f1': 0.7203686117266365},\n",
       " {'num_examples': 81,\n",
       "  'accuracy': 0.5925925925925926,\n",
       "  'auc': 0.6268403872552778,\n",
       "  'precision': 0.6002554278416348,\n",
       "  'recall': 0.9393093576668456,\n",
       "  'f1': 0.7259553432392939},\n",
       " {'num_examples': 81,\n",
       "  'accuracy': 0.5802469135802468,\n",
       "  'auc': 0.623753842206054,\n",
       "  'precision': 0.5948541932737336,\n",
       "  'recall': 0.9183217033458579,\n",
       "  'f1': 0.7157903824570491},\n",
       " {'num_examples': 81,\n",
       "  'accuracy': 0.5679012345679012,\n",
       "  'auc': 0.6263928294524108,\n",
       "  'precision': 0.5887327940967788,\n",
       "  'recall': 0.8973340490248704,\n",
       "  'f1': 0.7048122248122248},\n",
       " {'num_examples': 81,\n",
       "  'accuracy': 0.5555555555555556,\n",
       "  'auc': 0.6194772845620624,\n",
       "  'precision': 0.5848405603194875,\n",
       "  'recall': 0.8801574521381285,\n",
       "  'f1': 0.6955762417200326},\n",
       " {'num_examples': 81,\n",
       "  'accuracy': 0.5432098765432098,\n",
       "  'auc': 0.6225758079220237,\n",
       "  'precision': 0.5775426219870664,\n",
       "  'recall': 0.8538200035784577,\n",
       "  'f1': 0.6830478570986247},\n",
       " {'num_examples': 81,\n",
       "  'accuracy': 0.5432098765432098,\n",
       "  'auc': 0.6231940190640578,\n",
       "  'precision': 0.5775426219870664,\n",
       "  'recall': 0.8538200035784577,\n",
       "  'f1': 0.6830478570986247},\n",
       " {'num_examples': 81,\n",
       "  'accuracy': 0.5308641975308641,\n",
       "  'auc': 0.6246429937156469,\n",
       "  'precision': 0.5733620745966426,\n",
       "  'recall': 0.836643406691716,\n",
       "  'f1': 0.6734424346827448},\n",
       " {'num_examples': 81,\n",
       "  'accuracy': 0.5308641975308641,\n",
       "  'auc': 0.6253614918860727,\n",
       "  'precision': 0.5733620745966426,\n",
       "  'recall': 0.836643406691716,\n",
       "  'f1': 0.6734424346827448},\n",
       " {'num_examples': 81,\n",
       "  'accuracy': 0.5308641975308641,\n",
       "  'auc': 0.6203544577609179,\n",
       "  'precision': 0.5733620745966426,\n",
       "  'recall': 0.836643406691716,\n",
       "  'f1': 0.6734424346827448},\n",
       " {'num_examples': 81,\n",
       "  'accuracy': 0.5308641975308641,\n",
       "  'auc': 0.6252612048576811,\n",
       "  'precision': 0.5733620745966426,\n",
       "  'recall': 0.836643406691716,\n",
       "  'f1': 0.6734424346827448},\n",
       " {'num_examples': 81,\n",
       "  'accuracy': 0.5308641975308641,\n",
       "  'auc': 0.6218034324125069,\n",
       "  'precision': 0.5733620745966426,\n",
       "  'recall': 0.836643406691716,\n",
       "  'f1': 0.6734424346827448},\n",
       " {'num_examples': 81,\n",
       "  'accuracy': 0.5432098765432098,\n",
       "  'auc': 0.6221626814977199,\n",
       "  'precision': 0.5794834737735973,\n",
       "  'recall': 0.8576310610127036,\n",
       "  'f1': 0.684420592327569},\n",
       " {'num_examples': 81,\n",
       "  'accuracy': 0.5432098765432098,\n",
       "  'auc': 0.6259797030281069,\n",
       "  'precision': 0.5794834737735973,\n",
       "  'recall': 0.8576310610127036,\n",
       "  'f1': 0.684420592327569},\n",
       " {'num_examples': 81,\n",
       "  'accuracy': 0.5432098765432098,\n",
       "  'auc': 0.6264392391417114,\n",
       "  'precision': 0.5794834737735973,\n",
       "  'recall': 0.8576310610127036,\n",
       "  'f1': 0.684420592327569},\n",
       " {'num_examples': 81,\n",
       "  'accuracy': 0.5308641975308641,\n",
       "  'auc': 0.6248899774617308,\n",
       "  'precision': 0.5749813458146792,\n",
       "  'recall': 0.8404544641259617,\n",
       "  'f1': 0.6744231118538981},\n",
       " {'num_examples': 81,\n",
       "  'accuracy': 0.5308641975308641,\n",
       "  'auc': 0.6202421924217889,\n",
       "  'precision': 0.5756533361471633,\n",
       "  'recall': 0.8194668098049741,\n",
       "  'f1': 0.6691324431006971},\n",
       " {'num_examples': 81,\n",
       "  'accuracy': 0.5185185185185185,\n",
       "  'auc': 0.6186929307418083,\n",
       "  'precision': 0.5688599466377244,\n",
       "  'recall': 0.8194668098049741,\n",
       "  'f1': 0.6634449542090738},\n",
       " {'num_examples': 81,\n",
       "  'accuracy': 0.5308641975308641,\n",
       "  'auc': 0.6155944073818469,\n",
       "  'precision': 0.5756533361471633,\n",
       "  'recall': 0.8194668098049741,\n",
       "  'f1': 0.6691324431006971},\n",
       " {'num_examples': 81,\n",
       "  'accuracy': 0.5308641975308641,\n",
       "  'auc': 0.6206014415070018,\n",
       "  'precision': 0.5756533361471633,\n",
       "  'recall': 0.8194668098049741,\n",
       "  'f1': 0.6691324431006971},\n",
       " {'num_examples': 81,\n",
       "  'accuracy': 0.5308641975308641,\n",
       "  'auc': 0.621691167073378,\n",
       "  'precision': 0.5756533361471633,\n",
       "  'recall': 0.8194668098049741,\n",
       "  'f1': 0.6691324431006971},\n",
       " {'num_examples': 81,\n",
       "  'accuracy': 0.5432098765432098,\n",
       "  'auc': 0.6189518927986295,\n",
       "  'precision': 0.5865935070873343,\n",
       "  'recall': 0.8194668098049741,\n",
       "  'f1': 0.6751793062904174},\n",
       " {'num_examples': 81,\n",
       "  'accuracy': 0.5308641975308641,\n",
       "  'auc': 0.6159536564670599,\n",
       "  'precision': 0.5819844535893919,\n",
       "  'recall': 0.8022902129182322,\n",
       "  'f1': 0.6646723454288466},\n",
       " {'num_examples': 81,\n",
       "  'accuracy': 0.5308641975308641,\n",
       "  'auc': 0.617043382033436,\n",
       "  'precision': 0.5819844535893919,\n",
       "  'recall': 0.8022902129182322,\n",
       "  'f1': 0.6646723454288466},\n",
       " {'num_examples': 81,\n",
       "  'accuracy': 0.5308641975308641,\n",
       "  'auc': 0.6155944073818469,\n",
       "  'precision': 0.5819844535893919,\n",
       "  'recall': 0.8022902129182322,\n",
       "  'f1': 0.6646723454288466},\n",
       " {'num_examples': 81,\n",
       "  'accuracy': 0.5308641975308641,\n",
       "  'auc': 0.6124958840218858,\n",
       "  'precision': 0.5819844535893919,\n",
       "  'recall': 0.8022902129182322,\n",
       "  'f1': 0.6646723454288466},\n",
       " {'num_examples': 81,\n",
       "  'accuracy': 0.5308641975308641,\n",
       "  'auc': 0.6158533694386683,\n",
       "  'precision': 0.5819844535893919,\n",
       "  'recall': 0.8022902129182322,\n",
       "  'f1': 0.6646723454288466},\n",
       " {'num_examples': 81,\n",
       "  'accuracy': 0.5185185185185185,\n",
       "  'auc': 0.6169430950050444,\n",
       "  'precision': 0.575191064079953,\n",
       "  'recall': 0.8022902129182322,\n",
       "  'f1': 0.6589848565372234},\n",
       " {'num_examples': 81,\n",
       "  'accuracy': 0.5185185185185185,\n",
       "  'auc': 0.6188516057702379,\n",
       "  'precision': 0.575191064079953,\n",
       "  'recall': 0.8022902129182322,\n",
       "  'f1': 0.6589848565372234},\n",
       " {'num_examples': 81,\n",
       "  'accuracy': 0.5185185185185185,\n",
       "  'auc': 0.6122953099651025,\n",
       "  'precision': 0.575191064079953,\n",
       "  'recall': 0.8022902129182322,\n",
       "  'f1': 0.6589848565372234},\n",
       " {'num_examples': 81,\n",
       "  'accuracy': 0.5185185185185185,\n",
       "  'auc': 0.6051208030179329,\n",
       "  'precision': 0.575191064079953,\n",
       "  'recall': 0.8022902129182322,\n",
       "  'f1': 0.6589848565372234},\n",
       " {'num_examples': 81,\n",
       "  'accuracy': 0.5061728395061729,\n",
       "  'auc': 0.600113768892778,\n",
       "  'precision': 0.5701812233213199,\n",
       "  'recall': 0.7851136160314905,\n",
       "  'f1': 0.6480210712903669},\n",
       " {'num_examples': 81,\n",
       "  'accuracy': 0.5185185185185185,\n",
       "  'auc': 0.5992949836939607,\n",
       "  'precision': 0.5763026224982747,\n",
       "  'recall': 0.8061012703524781,\n",
       "  'f1': 0.6589992289351911},\n",
       " {'num_examples': 81,\n",
       "  'accuracy': 0.5185185185185185,\n",
       "  'auc': 0.6007439583455497,\n",
       "  'precision': 0.5763026224982747,\n",
       "  'recall': 0.8061012703524781,\n",
       "  'f1': 0.6589992289351911},\n",
       " {'num_examples': 81,\n",
       "  'accuracy': 0.5308641975308641,\n",
       "  'auc': 0.5992949836939607,\n",
       "  'precision': 0.5887946929613597,\n",
       "  'recall': 0.8061012703524781,\n",
       "  'f1': 0.6651064633838104},\n",
       " {'num_examples': 81,\n",
       "  'accuracy': 0.5308641975308641,\n",
       "  'auc': 0.5976454349855884,\n",
       "  'precision': 0.5887946929613597,\n",
       "  'recall': 0.8061012703524781,\n",
       "  'f1': 0.6651064633838104},\n",
       " {'num_examples': 81,\n",
       "  'accuracy': 0.5308641975308641,\n",
       "  'auc': 0.5961964603339994,\n",
       "  'precision': 0.5887946929613597,\n",
       "  'recall': 0.8061012703524781,\n",
       "  'f1': 0.6651064633838104}]"
      ]
     },
     "execution_count": 23,
     "metadata": {},
     "output_type": "execute_result"
    }
   ],
   "source": [
    "avg_evaluations"
   ]
  },
  {
   "cell_type": "code",
   "execution_count": null,
   "metadata": {},
   "outputs": [],
   "source": [
    "classification_experiment.save_model_weights(\"linear-attention.weights\")"
   ]
  }
 ],
 "metadata": {
  "kernelspec": {
   "display_name": "Python 3",
   "language": "python",
   "name": "python3"
  },
  "language_info": {
   "codemirror_mode": {
    "name": "ipython",
    "version": 3
   },
   "file_extension": ".py",
   "mimetype": "text/x-python",
   "name": "python",
   "nbconvert_exporter": "python",
   "pygments_lexer": "ipython3",
   "version": "3.6.8"
  }
 },
 "nbformat": 4,
 "nbformat_minor": 2
}
