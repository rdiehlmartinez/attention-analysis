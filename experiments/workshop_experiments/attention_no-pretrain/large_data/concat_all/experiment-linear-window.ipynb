{
 "cells": [
  {
   "cell_type": "markdown",
   "metadata": {},
   "source": [
    "## Concatenating all attention distributions \n",
    "\n",
    "We extract the attention distribution directly from a model that has not been pretrained for bias detection! We then using windowing to extract a window of attention scores around the biased word. The windowing we use is around the actual biased word - not the predicted word."
   ]
  },
  {
   "cell_type": "code",
   "execution_count": 2,
   "metadata": {},
   "outputs": [],
   "source": [
    "import sys; sys.path.append(\"../../../../..\")\n",
    "import torch \n",
    "from src.experiment import AttentionExperiment, ClassificationExperiment\n",
    "from src.dataset import ExperimentDataset\n",
    "from src.params import Params\n",
    "from src.utils.attention_utils import reduce_attention_dist, return_idx_attention_dist, window_attention_dist\n",
    "from src.utils.classification_utils import run_bootstrapping\n",
    "from src.utils.shared_utils import get_bias_predictions"
   ]
  },
  {
   "cell_type": "code",
   "execution_count": 3,
   "metadata": {},
   "outputs": [],
   "source": [
    "%load_ext autoreload\n",
    "%autoreload 2"
   ]
  },
  {
   "cell_type": "code",
   "execution_count": 4,
   "metadata": {},
   "outputs": [
    {
     "name": "stdout",
     "output_type": "stream",
     "text": [
      "model = shallow_nn\n",
      "layers = [0, 1, 2, 3, 4, 5, 6, 7, 8, 9, 10, 11]\n",
      "reducer = concat\n"
     ]
    }
   ],
   "source": [
    "params = Params.read_params(\"linear-params-window.json\")\n",
    "print(\"model = {}\".format(params.final_task['model']))\n",
    "print(\"layers = {}\".format(params.intermediary_task[\"attention\"][\"layers\"]))\n",
    "print(\"reducer = {}\".format(params.intermediary_task[\"attention\"][\"reducer\"]))"
   ]
  },
  {
   "cell_type": "code",
   "execution_count": 5,
   "metadata": {
    "scrolled": true
   },
   "outputs": [
    {
     "name": "stderr",
     "output_type": "stream",
     "text": [
      "04/08/2020 06:48:52 - INFO - pytorch_pretrained_bert.tokenization -   loading vocabulary file https://s3.amazonaws.com/models.huggingface.co/bert/bert-base-uncased-vocab.txt from cache at ./cache/26bc1ad6c0ac742e9b52263248f6d0f00068293b33709fae12320c0e35ccfbbb.542ce4285a40d23a559526243235df47c5f75c197f04f37d1a0c124c32c9a084\n",
      "100it [00:00, 3093.05it/s]\n"
     ]
    }
   ],
   "source": [
    "# Loading in the dataset that we are using in this experiments \n",
    "# typically this dataset is the small set of ground-truth labels\n",
    "dev_dataset = ExperimentDataset.init_dataset(params.dataset)"
   ]
  },
  {
   "cell_type": "code",
   "execution_count": 6,
   "metadata": {},
   "outputs": [],
   "source": [
    "import pickle \n",
    "train_dataset = pickle.load(open(params.dataset[\"weakly_labeled_data\"], \"rb\"))"
   ]
  },
  {
   "cell_type": "markdown",
   "metadata": {},
   "source": [
    "### Attention Experiment: \n",
    "* Is a class that wraps useful methods to extract attention distributions from a given BERT-based model \n",
    "* The user has to provide in two config files: One to specify parameters for how the attention scores should be extracted and combined, and other to specify the intermediary model from which the attention scores should be extracted from\n",
    "* The user needs to instantiate the attention experiment with a function that tells the model how to run \n",
    " inference on the given model. The function header is specified below: \n",
    " \n",
    " ``` def initialize_attention_experiment(cls, intermediary_task_params, dataset_params, verbose=False) ```\n",
    " \n"
   ]
  },
  {
   "cell_type": "code",
   "execution_count": 7,
   "metadata": {
    "scrolled": true
   },
   "outputs": [
    {
     "name": "stderr",
     "output_type": "stream",
     "text": [
      "04/08/2020 06:49:02 - INFO - pytorch_pretrained_bert.tokenization -   loading vocabulary file https://s3.amazonaws.com/models.huggingface.co/bert/bert-base-uncased-vocab.txt from cache at ./cache/26bc1ad6c0ac742e9b52263248f6d0f00068293b33709fae12320c0e35ccfbbb.542ce4285a40d23a559526243235df47c5f75c197f04f37d1a0c124c32c9a084\n",
      "04/08/2020 06:49:03 - INFO - pytorch_pretrained_bert.modeling -   loading archive file https://s3.amazonaws.com/models.huggingface.co/bert/bert-base-uncased.tar.gz from cache at ./cache/9c41111e2de84547a463fd39217199738d1e3deb72d4fec4399e6e241983c6f0.ae3cef932725ca7a30cdcb93fc6e09150a55e2a130ec7af63975a16c153ae2ba\n",
      "04/08/2020 06:49:03 - INFO - pytorch_pretrained_bert.modeling -   extracting archive file ./cache/9c41111e2de84547a463fd39217199738d1e3deb72d4fec4399e6e241983c6f0.ae3cef932725ca7a30cdcb93fc6e09150a55e2a130ec7af63975a16c153ae2ba to temp dir /tmp/tmplfzd3gc2\n",
      "04/08/2020 06:49:09 - INFO - pytorch_pretrained_bert.modeling -   Model config {\n",
      "  \"attention_probs_dropout_prob\": 0.1,\n",
      "  \"hidden_act\": \"gelu\",\n",
      "  \"hidden_dropout_prob\": 0.1,\n",
      "  \"hidden_size\": 768,\n",
      "  \"initializer_range\": 0.02,\n",
      "  \"intermediate_size\": 3072,\n",
      "  \"max_position_embeddings\": 512,\n",
      "  \"num_attention_heads\": 12,\n",
      "  \"num_hidden_layers\": 12,\n",
      "  \"type_vocab_size\": 2,\n",
      "  \"vocab_size\": 30522\n",
      "}\n",
      "\n",
      "04/08/2020 06:49:16 - INFO - pytorch_pretrained_bert.modeling -   Weights of BertForMultitaskWithFeaturesOnTop not initialized from pretrained model: ['tok_classifier.out.0.weight', 'tok_classifier.out.0.bias', 'tok_classifier.enricher.0.weight', 'tok_classifier.enricher.0.bias', 'cls_classifier.weight', 'cls_classifier.bias']\n",
      "04/08/2020 06:49:16 - INFO - pytorch_pretrained_bert.modeling -   Weights from pretrained model not used in BertForMultitaskWithFeaturesOnTop: ['cls.predictions.bias', 'cls.predictions.transform.dense.weight', 'cls.predictions.transform.dense.bias', 'cls.predictions.transform.LayerNorm.gamma', 'cls.predictions.transform.LayerNorm.beta', 'cls.predictions.decoder.weight', 'cls.seq_relationship.weight', 'cls.seq_relationship.bias']\n",
      "/u/nlp/anaconda/main/anaconda3/envs/bias_classification/lib/python3.6/site-packages/torch/nn/modules/rnn.py:54: UserWarning: dropout option adds dropout after all but last recurrent layer, so non-zero dropout expects num_layers greater than 1, but got dropout=0.2 and num_layers=1\n",
      "  \"num_layers={}\".format(dropout, num_layers))\n",
      "04/08/2020 06:49:17 - INFO - pytorch_pretrained_bert.modeling -   loading archive file https://s3.amazonaws.com/models.huggingface.co/bert/bert-base-uncased.tar.gz from cache at ./cache/9c41111e2de84547a463fd39217199738d1e3deb72d4fec4399e6e241983c6f0.ae3cef932725ca7a30cdcb93fc6e09150a55e2a130ec7af63975a16c153ae2ba\n",
      "04/08/2020 06:49:17 - INFO - pytorch_pretrained_bert.modeling -   extracting archive file ./cache/9c41111e2de84547a463fd39217199738d1e3deb72d4fec4399e6e241983c6f0.ae3cef932725ca7a30cdcb93fc6e09150a55e2a130ec7af63975a16c153ae2ba to temp dir /tmp/tmpnst1cwhz\n",
      "04/08/2020 06:49:21 - INFO - pytorch_pretrained_bert.modeling -   Model config {\n",
      "  \"attention_probs_dropout_prob\": 0.1,\n",
      "  \"hidden_act\": \"gelu\",\n",
      "  \"hidden_dropout_prob\": 0.1,\n",
      "  \"hidden_size\": 768,\n",
      "  \"initializer_range\": 0.02,\n",
      "  \"intermediate_size\": 3072,\n",
      "  \"max_position_embeddings\": 512,\n",
      "  \"num_attention_heads\": 12,\n",
      "  \"num_hidden_layers\": 12,\n",
      "  \"type_vocab_size\": 2,\n",
      "  \"vocab_size\": 30522\n",
      "}\n",
      "\n"
     ]
    },
    {
     "name": "stdout",
     "output_type": "stream",
     "text": [
      "Instantiated joint model with default HuggingFace weights.\n",
      "Succesfully loaded in attention experiment!\n"
     ]
    }
   ],
   "source": [
    "attention_experiment = AttentionExperiment.initialize_attention_experiment(params.intermediary_task, params.dataset, verbose=True, from_pretrained=False)"
   ]
  },
  {
   "cell_type": "code",
   "execution_count": 8,
   "metadata": {},
   "outputs": [],
   "source": [
    "attention_dataloader_dev = dev_dataset.return_dataloader(batch_size=params.intermediary_task['attention']['attention_extraction_batch_size'])  \n",
    "attention_dataloader_train = train_dataset.return_dataloader(batch_size=params.intermediary_task['attention']['attention_extraction_batch_size'])"
   ]
  },
  {
   "cell_type": "markdown",
   "metadata": {},
   "source": [
    "```extract_attention_scores()``` works out of the box because the attention experiment has the config file saved, and knows what BERT model to use/load in, which layers to extract the attention scores from, and what the inference function is that should be used on this particular BERT model.\n",
    "\n",
    "Attention_scores is then a list of dictionaries. The keys in this dictionary are the specific layers of a BERT model and the values are the corresponding attention distributions extracted from that particular layer."
   ]
  },
  {
   "cell_type": "code",
   "execution_count": 9,
   "metadata": {},
   "outputs": [
    {
     "data": {
      "application/vnd.jupyter.widget-view+json": {
       "model_id": "685ed677abad46fc889b0650a569822e",
       "version_major": 2,
       "version_minor": 0
      },
      "text/plain": [
       "HBox(children=(FloatProgress(value=1.0, bar_style='info', max=1.0), HTML(value='')))"
      ]
     },
     "metadata": {},
     "output_type": "display_data"
    },
    {
     "name": "stdout",
     "output_type": "stream",
     "text": [
      "\n"
     ]
    }
   ],
   "source": [
    "attention_scores_dev = attention_experiment.extract_attention_scores(attention_dataloader_dev)"
   ]
  },
  {
   "cell_type": "code",
   "execution_count": 10,
   "metadata": {},
   "outputs": [
    {
     "name": "stdout",
     "output_type": "stream",
     "text": [
      "Loading in existing train attention weights\n"
     ]
    }
   ],
   "source": [
    "# Saving out attention weights from the train dataset to facilitate future runs\n",
    "import os \n",
    "attention_weights_file = \"model_weights/attention_scores_train.pkl\"\n",
    "if os.path.exists(attention_weights_file):\n",
    "    print(\"Loading in existing train attention weights\")\n",
    "    attention_scores_train = pickle.load(open(attention_weights_file, \"rb\"))\n",
    "else:\n",
    "    print(\"Generating new training attention weights \")\n",
    "    if (not os.path.isdir(\"model_weights\")):\n",
    "            os.mkdir(\"model_weights\")\n",
    "    attention_scores_train = attention_experiment.extract_attention_scores(attention_dataloader_train)\n",
    "    pickle.dump(attention_scores_train, open(attention_weights_file, \"wb+\"))"
   ]
  },
  {
   "cell_type": "markdown",
   "metadata": {},
   "source": [
    "Using the actual occurence of bias to window attention distributions around"
   ]
  },
  {
   "cell_type": "code",
   "execution_count": 13,
   "metadata": {},
   "outputs": [],
   "source": [
    "from src.utils.data_utils import get_bias_indices"
   ]
  },
  {
   "cell_type": "code",
   "execution_count": 14,
   "metadata": {},
   "outputs": [],
   "source": [
    "bias_indices_train = get_bias_indices(train_dataset.get_val('pre_tok_label_ids'))"
   ]
  },
  {
   "cell_type": "code",
   "execution_count": 20,
   "metadata": {},
   "outputs": [],
   "source": [
    "bias_indices_dev = get_bias_indices(dev_dataset.get_val('pre_tok_label_ids'))"
   ]
  },
  {
   "cell_type": "code",
   "execution_count": 21,
   "metadata": {},
   "outputs": [],
   "source": [
    "attention_scores_indexed_train = return_idx_attention_dist(attention_scores_train, bias_indices_train)\n",
    "reduced_attention_train = reduce_attention_dist(attention_scores_indexed_train, params.intermediary_task[\"attention\"])\n",
    "windowed_dist_train = window_attention_dist(reduced_attention_train, bias_indices_train, window_size=7, num_concat=len(params.intermediary_task[\"attention\"][\"layers\"]))\n",
    "attention_dist_train = windowed_dist_train"
   ]
  },
  {
   "cell_type": "code",
   "execution_count": 22,
   "metadata": {},
   "outputs": [
    {
     "data": {
      "text/plain": [
       "torch.Size([52275, 180])"
      ]
     },
     "execution_count": 22,
     "metadata": {},
     "output_type": "execute_result"
    }
   ],
   "source": [
    "windowed_dist_train.shape"
   ]
  },
  {
   "cell_type": "code",
   "execution_count": 23,
   "metadata": {},
   "outputs": [],
   "source": [
    "train_dataset.add_data(attention_dist_train, \"attention_dist\")\n",
    "train_dataset.shuffle_data()\n",
    "assert(attention_dist_train.shape[1] == params.final_task['input_dim'])"
   ]
  },
  {
   "cell_type": "code",
   "execution_count": 24,
   "metadata": {},
   "outputs": [],
   "source": [
    "attention_scores_indexed_dev = return_idx_attention_dist(attention_scores_dev, bias_indices_dev)\n",
    "reduced_attention_dev = reduce_attention_dist(attention_scores_indexed_dev, params.intermediary_task[\"attention\"])\n",
    "windowed_dist_dev = window_attention_dist(reduced_attention_dev, bias_indices_dev, window_size=7, num_concat=len(params.intermediary_task[\"attention\"][\"layers\"]))\n",
    "attention_dist_dev = windowed_dist_dev"
   ]
  },
  {
   "cell_type": "code",
   "execution_count": 25,
   "metadata": {},
   "outputs": [],
   "source": [
    "dev_dataset.add_data(attention_dist_dev, \"attention_dist\")\n",
    "dev_dataset.add_data(dev_dataset.get_val('bias_label'),'weak_bias_label')\n",
    "dev_dataset.shuffle_data()\n",
    "assert(attention_dist_dev.shape[1] == params.final_task['input_dim'])"
   ]
  },
  {
   "cell_type": "markdown",
   "metadata": {},
   "source": [
    "### This is where the classification experiment starts"
   ]
  },
  {
   "cell_type": "markdown",
   "metadata": {},
   "source": [
    "We create a classification experiment that contains useful methods for classifying bias based on the attention distributions. "
   ]
  },
  {
   "cell_type": "code",
   "execution_count": 26,
   "metadata": {},
   "outputs": [],
   "source": [
    "params = Params.read_params(\"linear-params-window.json\")"
   ]
  },
  {
   "cell_type": "code",
   "execution_count": 27,
   "metadata": {},
   "outputs": [],
   "source": [
    "train_dataloader = train_dataset.return_dataloader(batch_size=params.final_task['training_params']['batch_size'])\n",
    "dev_dataloader = dev_dataset.return_dataloader(batch_size=32)"
   ]
  },
  {
   "cell_type": "code",
   "execution_count": 33,
   "metadata": {},
   "outputs": [],
   "source": [
    "classification_experiment = ClassificationExperiment.init_cls_experiment(params.final_task)"
   ]
  },
  {
   "cell_type": "code",
   "execution_count": 34,
   "metadata": {},
   "outputs": [
    {
     "data": {
      "application/vnd.jupyter.widget-view+json": {
       "model_id": "",
       "version_major": 2,
       "version_minor": 0
      },
      "text/plain": [
       "HBox(children=(FloatProgress(value=0.0, description='epochs', max=20.0, style=ProgressStyle(description_width=…"
      ]
     },
     "metadata": {},
     "output_type": "display_data"
    },
    {
     "name": "stdout",
     "output_type": "stream",
     "text": [
      "\n"
     ]
    }
   ],
   "source": [
    "losses, evals = classification_experiment.train_model(train_dataloader, dev_dataloader, input_key=\"attention_dist\", label_key=\"weak_bias_label\")"
   ]
  },
  {
   "cell_type": "code",
   "execution_count": 35,
   "metadata": {},
   "outputs": [],
   "source": [
    "from src.utils.classification_utils import average_data"
   ]
  },
  {
   "cell_type": "code",
   "execution_count": 36,
   "metadata": {},
   "outputs": [],
   "source": [
    "avg_evaluations = [average_data(epoch_evaluations) for epoch_evaluations in evals]"
   ]
  },
  {
   "cell_type": "code",
   "execution_count": 37,
   "metadata": {},
   "outputs": [
    {
     "data": {
      "text/plain": [
       "[{'num_examples': 81,\n",
       "  'accuracy': 0.5802469135802468,\n",
       "  'auc': 0.6617350593958782,\n",
       "  'precision': 0.5978333509197706,\n",
       "  'recall': 0.8729333622121147,\n",
       "  'f1': 0.7092102684695277},\n",
       " {'num_examples': 81,\n",
       "  'accuracy': 0.6296296296296295,\n",
       "  'auc': 0.7064937805678546,\n",
       "  'precision': 0.6420110932188227,\n",
       "  'recall': 0.8290376146126635,\n",
       "  'f1': 0.7231492787048341},\n",
       " {'num_examples': 81,\n",
       "  'accuracy': 0.6790123456790123,\n",
       "  'auc': 0.7398097534549777,\n",
       "  'precision': 0.68013793327803,\n",
       "  'recall': 0.849830337159772,\n",
       "  'f1': 0.7551304662415774},\n",
       " {'num_examples': 81,\n",
       "  'accuracy': 0.7037037037037037,\n",
       "  'auc': 0.7619547083484705,\n",
       "  'precision': 0.705456683234461,\n",
       "  'recall': 0.8509854884123891,\n",
       "  'f1': 0.7701804368471035},\n",
       " {'num_examples': 81,\n",
       "  'accuracy': 0.7037037037037037,\n",
       "  'auc': 0.7779429796973656,\n",
       "  'precision': 0.705456683234461,\n",
       "  'recall': 0.8509854884123891,\n",
       "  'f1': 0.7701804368471035},\n",
       " {'num_examples': 81,\n",
       "  'accuracy': 0.7037037037037037,\n",
       "  'auc': 0.7795106849687746,\n",
       "  'precision': 0.705456683234461,\n",
       "  'recall': 0.8509854884123891,\n",
       "  'f1': 0.7701804368471035},\n",
       " {'num_examples': 81,\n",
       "  'accuracy': 0.7037037037037037,\n",
       "  'auc': 0.7922048711522396,\n",
       "  'precision': 0.705456683234461,\n",
       "  'recall': 0.8509854884123891,\n",
       "  'f1': 0.7701804368471035},\n",
       " {'num_examples': 81,\n",
       "  'accuracy': 0.728395061728395,\n",
       "  'auc': 0.795480023550199,\n",
       "  'precision': 0.7242691464913686,\n",
       "  'recall': 0.8717782109594976,\n",
       "  'f1': 0.7899335232668565},\n",
       " {'num_examples': 81,\n",
       "  'accuracy': 0.7160493827160495,\n",
       "  'auc': 0.8018143144848797,\n",
       "  'precision': 0.7267489711934156,\n",
       "  'recall': 0.8290376146126635,\n",
       "  'f1': 0.7725795971410006},\n",
       " {'num_examples': 81,\n",
       "  'accuracy': 0.728395061728395,\n",
       "  'auc': 0.8113285530439527,\n",
       "  'precision': 0.742343513103747,\n",
       "  'recall': 0.8290376146126635,\n",
       "  'f1': 0.7805767981206577},\n",
       " {'num_examples': 81,\n",
       "  'accuracy': 0.728395061728395,\n",
       "  'auc': 0.8160762059397537,\n",
       "  'precision': 0.742343513103747,\n",
       "  'recall': 0.8290376146126635,\n",
       "  'f1': 0.7805767981206577},\n",
       " {'num_examples': 81,\n",
       "  'accuracy': 0.728395061728395,\n",
       "  'auc': 0.8160762059397537,\n",
       "  'precision': 0.742343513103747,\n",
       "  'recall': 0.8290376146126635,\n",
       "  'f1': 0.7805767981206577},\n",
       " {'num_examples': 81,\n",
       "  'accuracy': 0.728395061728395,\n",
       "  'auc': 0.8240099370703657,\n",
       "  'precision': 0.742343513103747,\n",
       "  'recall': 0.8290376146126635,\n",
       "  'f1': 0.7805767981206577},\n",
       " {'num_examples': 81,\n",
       "  'accuracy': 0.728395061728395,\n",
       "  'auc': 0.8255648401847232,\n",
       "  'precision': 0.742343513103747,\n",
       "  'recall': 0.8290376146126635,\n",
       "  'f1': 0.7805767981206577},\n",
       " {'num_examples': 81,\n",
       "  'accuracy': 0.7407407407407407,\n",
       "  'auc': 0.8271325454561321,\n",
       "  'precision': 0.7568984188867229,\n",
       "  'recall': 0.8290376146126635,\n",
       "  'f1': 0.7884443147601041},\n",
       " {'num_examples': 81,\n",
       "  'accuracy': 0.7407407407407407,\n",
       "  'auc': 0.8271325454561321,\n",
       "  'precision': 0.7568984188867229,\n",
       "  'recall': 0.8290376146126635,\n",
       "  'f1': 0.7884443147601041},\n",
       " {'num_examples': 81,\n",
       "  'accuracy': 0.7407407407407407,\n",
       "  'auc': 0.8239843327562625,\n",
       "  'precision': 0.7568984188867229,\n",
       "  'recall': 0.8290376146126635,\n",
       "  'f1': 0.7884443147601041},\n",
       " {'num_examples': 81,\n",
       "  'accuracy': 0.7407407407407407,\n",
       "  'auc': 0.825583772952194,\n",
       "  'precision': 0.7568984188867229,\n",
       "  'recall': 0.8290376146126635,\n",
       "  'f1': 0.7884443147601041},\n",
       " {'num_examples': 81,\n",
       "  'accuracy': 0.7407407407407407,\n",
       "  'auc': 0.824016067680785,\n",
       "  'precision': 0.7568984188867229,\n",
       "  'recall': 0.8290376146126635,\n",
       "  'f1': 0.7884443147601041},\n",
       " {'num_examples': 81,\n",
       "  'accuracy': 0.728395061728395,\n",
       "  'auc': 0.8335492390073286,\n",
       "  'precision': 0.7433666470703508,\n",
       "  'recall': 0.8301927658652806,\n",
       "  'f1': 0.7804471137804471}]"
      ]
     },
     "execution_count": 37,
     "metadata": {},
     "output_type": "execute_result"
    }
   ],
   "source": [
    "avg_evaluations"
   ]
  },
  {
   "cell_type": "code",
   "execution_count": 24,
   "metadata": {},
   "outputs": [],
   "source": [
    "# classification_experiment.save_model_weights(\"linear-windowed-attention-actual.weights\")"
   ]
  }
 ],
 "metadata": {
  "kernelspec": {
   "display_name": "Python 3",
   "language": "python",
   "name": "python3"
  },
  "language_info": {
   "codemirror_mode": {
    "name": "ipython",
    "version": 3
   },
   "file_extension": ".py",
   "mimetype": "text/x-python",
   "name": "python",
   "nbconvert_exporter": "python",
   "pygments_lexer": "ipython3",
   "version": "3.6.8"
  }
 },
 "nbformat": 4,
 "nbformat_minor": 2
}
