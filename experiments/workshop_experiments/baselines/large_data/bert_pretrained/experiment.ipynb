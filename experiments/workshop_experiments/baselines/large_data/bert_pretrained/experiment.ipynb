{
 "cells": [
  {
   "cell_type": "markdown",
   "metadata": {},
   "source": [
    "## BERT Pretrained for Bias Detection + FC Classifier "
   ]
  },
  {
   "cell_type": "markdown",
   "metadata": {},
   "source": [
    "We load in a BERT model that has been pretrained on bias detection, and try to further train the model directly on the task of bias classification. "
   ]
  },
  {
   "cell_type": "code",
   "execution_count": 1,
   "metadata": {},
   "outputs": [],
   "source": [
    "import sys; sys.path.append(\"../../../../..\")\n",
    "import torch \n",
    "from src.experiment import ClassificationExperiment\n",
    "from src.dataset import ExperimentDataset\n",
    "from src.params import Params"
   ]
  },
  {
   "cell_type": "code",
   "execution_count": 2,
   "metadata": {},
   "outputs": [],
   "source": [
    "%load_ext autoreload\n",
    "%autoreload 2"
   ]
  },
  {
   "cell_type": "code",
   "execution_count": 3,
   "metadata": {},
   "outputs": [],
   "source": [
    "params = Params.read_params(\"experiment_params.json\")"
   ]
  },
  {
   "cell_type": "code",
   "execution_count": 4,
   "metadata": {
    "scrolled": true
   },
   "outputs": [
    {
     "name": "stderr",
     "output_type": "stream",
     "text": [
      "04/01/2020 21:08:53 - INFO - pytorch_pretrained_bert.tokenization -   loading vocabulary file https://s3.amazonaws.com/models.huggingface.co/bert/bert-base-uncased-vocab.txt from cache at ./cache/26bc1ad6c0ac742e9b52263248f6d0f00068293b33709fae12320c0e35ccfbbb.542ce4285a40d23a559526243235df47c5f75c197f04f37d1a0c124c32c9a084\n",
      "100it [00:00, 3195.27it/s]\n"
     ]
    }
   ],
   "source": [
    "# Loading in the dataset that we are using in this experiments \n",
    "# typically this dataset is the small set of ground-truth labels\n",
    "dev_dataset = ExperimentDataset.init_dataset(params.dataset)"
   ]
  },
  {
   "cell_type": "code",
   "execution_count": 5,
   "metadata": {},
   "outputs": [],
   "source": [
    "import pickle \n",
    "train_dataset = pickle.load(open(params.dataset[\"weakly_labeled_data\"], \"rb\"))"
   ]
  },
  {
   "cell_type": "code",
   "execution_count": 6,
   "metadata": {},
   "outputs": [],
   "source": [
    "train_dataset.add_data(train_dataset.get_val('weak_bias_label'), 'bias_label')"
   ]
  },
  {
   "cell_type": "markdown",
   "metadata": {},
   "source": [
    "### Start of Classification"
   ]
  },
  {
   "cell_type": "code",
   "execution_count": 7,
   "metadata": {},
   "outputs": [],
   "source": [
    "from src.utils.classification_utils import run_bootstrapping"
   ]
  },
  {
   "cell_type": "code",
   "execution_count": 8,
   "metadata": {},
   "outputs": [],
   "source": [
    "params = Params.read_params(\"experiment_params.json\")"
   ]
  },
  {
   "cell_type": "code",
   "execution_count": 9,
   "metadata": {},
   "outputs": [],
   "source": [
    "train_dataset.shuffle_data()\n",
    "dev_dataset.shuffle_data()\n",
    "train_dataloader = train_dataset.return_dataloader(batch_size=params.final_task['training_params']['batch_size'])\n",
    "dev_dataloader = dev_dataset.return_dataloader(batch_size=32)"
   ]
  },
  {
   "cell_type": "code",
   "execution_count": 10,
   "metadata": {},
   "outputs": [
    {
     "name": "stderr",
     "output_type": "stream",
     "text": [
      "04/01/2020 21:08:54 - INFO - pytorch_pretrained_bert.modeling -   loading archive file https://s3.amazonaws.com/models.huggingface.co/bert/bert-base-uncased.tar.gz from cache at /sailhome/rdm/.pytorch_pretrained_bert/9c41111e2de84547a463fd39217199738d1e3deb72d4fec4399e6e241983c6f0.ae3cef932725ca7a30cdcb93fc6e09150a55e2a130ec7af63975a16c153ae2ba\n",
      "04/01/2020 21:08:54 - INFO - pytorch_pretrained_bert.modeling -   extracting archive file /sailhome/rdm/.pytorch_pretrained_bert/9c41111e2de84547a463fd39217199738d1e3deb72d4fec4399e6e241983c6f0.ae3cef932725ca7a30cdcb93fc6e09150a55e2a130ec7af63975a16c153ae2ba to temp dir /tmp/tmphxc8s09z\n",
      "04/01/2020 21:08:58 - INFO - pytorch_pretrained_bert.modeling -   Model config {\n",
      "  \"attention_probs_dropout_prob\": 0.1,\n",
      "  \"hidden_act\": \"gelu\",\n",
      "  \"hidden_dropout_prob\": 0.1,\n",
      "  \"hidden_size\": 768,\n",
      "  \"initializer_range\": 0.02,\n",
      "  \"intermediate_size\": 3072,\n",
      "  \"max_position_embeddings\": 512,\n",
      "  \"num_attention_heads\": 12,\n",
      "  \"num_hidden_layers\": 12,\n",
      "  \"type_vocab_size\": 2,\n",
      "  \"vocab_size\": 30522\n",
      "}\n",
      "\n",
      "04/01/2020 21:09:02 - INFO - pytorch_pretrained_bert.modeling -   Weights of BertForSequenceClassification not initialized from pretrained model: ['classifier.weight', 'classifier.bias']\n",
      "04/01/2020 21:09:02 - INFO - pytorch_pretrained_bert.modeling -   Weights from pretrained model not used in BertForSequenceClassification: ['cls.predictions.bias', 'cls.predictions.transform.dense.weight', 'cls.predictions.transform.dense.bias', 'cls.predictions.transform.LayerNorm.gamma', 'cls.predictions.transform.LayerNorm.beta', 'cls.predictions.decoder.weight', 'cls.seq_relationship.weight', 'cls.seq_relationship.bias']\n"
     ]
    }
   ],
   "source": [
    "classification_experiment = ClassificationExperiment.init_cls_experiment(params.final_task)"
   ]
  },
  {
   "cell_type": "code",
   "execution_count": 11,
   "metadata": {},
   "outputs": [
    {
     "data": {
      "application/vnd.jupyter.widget-view+json": {
       "model_id": "",
       "version_major": 2,
       "version_minor": 0
      },
      "text/plain": [
       "HBox(children=(FloatProgress(value=0.0, description='epochs', max=20.0, style=ProgressStyle(description_width=…"
      ]
     },
     "metadata": {},
     "output_type": "display_data"
    },
    {
     "data": {
      "application/vnd.jupyter.widget-view+json": {
       "model_id": "3c88bac8c3b84b27a8ef7f5b606e4608",
       "version_major": 2,
       "version_minor": 0
      },
      "text/plain": [
       "HBox(children=(FloatProgress(value=1.0, bar_style='info', max=1.0), HTML(value='')))"
      ]
     },
     "metadata": {},
     "output_type": "display_data"
    },
    {
     "name": "stdout",
     "output_type": "stream",
     "text": [
      "\n"
     ]
    },
    {
     "data": {
      "application/vnd.jupyter.widget-view+json": {
       "model_id": "4378c4926a9840ff8fc46b692d9863ad",
       "version_major": 2,
       "version_minor": 0
      },
      "text/plain": [
       "HBox(children=(FloatProgress(value=1.0, bar_style='info', max=1.0), HTML(value='')))"
      ]
     },
     "metadata": {},
     "output_type": "display_data"
    },
    {
     "name": "stdout",
     "output_type": "stream",
     "text": [
      "\n"
     ]
    },
    {
     "data": {
      "application/vnd.jupyter.widget-view+json": {
       "model_id": "6ddf773f37f7488cbbd66e26b8b211c8",
       "version_major": 2,
       "version_minor": 0
      },
      "text/plain": [
       "HBox(children=(FloatProgress(value=1.0, bar_style='info', max=1.0), HTML(value='')))"
      ]
     },
     "metadata": {},
     "output_type": "display_data"
    },
    {
     "name": "stdout",
     "output_type": "stream",
     "text": [
      "\n"
     ]
    },
    {
     "data": {
      "application/vnd.jupyter.widget-view+json": {
       "model_id": "6af0651b8a814805b6211a42e7625060",
       "version_major": 2,
       "version_minor": 0
      },
      "text/plain": [
       "HBox(children=(FloatProgress(value=1.0, bar_style='info', max=1.0), HTML(value='')))"
      ]
     },
     "metadata": {},
     "output_type": "display_data"
    },
    {
     "name": "stdout",
     "output_type": "stream",
     "text": [
      "\n"
     ]
    },
    {
     "data": {
      "application/vnd.jupyter.widget-view+json": {
       "model_id": "e01b8745313e41f28c07495d2d44bc0f",
       "version_major": 2,
       "version_minor": 0
      },
      "text/plain": [
       "HBox(children=(FloatProgress(value=1.0, bar_style='info', max=1.0), HTML(value='')))"
      ]
     },
     "metadata": {},
     "output_type": "display_data"
    },
    {
     "name": "stdout",
     "output_type": "stream",
     "text": [
      "\n"
     ]
    },
    {
     "data": {
      "application/vnd.jupyter.widget-view+json": {
       "model_id": "cf59f66ee506463bbda0dfff8a09b27a",
       "version_major": 2,
       "version_minor": 0
      },
      "text/plain": [
       "HBox(children=(FloatProgress(value=1.0, bar_style='info', max=1.0), HTML(value='')))"
      ]
     },
     "metadata": {},
     "output_type": "display_data"
    },
    {
     "name": "stdout",
     "output_type": "stream",
     "text": [
      "\n"
     ]
    },
    {
     "data": {
      "application/vnd.jupyter.widget-view+json": {
       "model_id": "067852cb0da44cf2a5b0fbd40b64efe4",
       "version_major": 2,
       "version_minor": 0
      },
      "text/plain": [
       "HBox(children=(FloatProgress(value=1.0, bar_style='info', max=1.0), HTML(value='')))"
      ]
     },
     "metadata": {},
     "output_type": "display_data"
    },
    {
     "name": "stdout",
     "output_type": "stream",
     "text": [
      "\n"
     ]
    },
    {
     "data": {
      "application/vnd.jupyter.widget-view+json": {
       "model_id": "13d25a0e9357473386f2033eaa7f9f65",
       "version_major": 2,
       "version_minor": 0
      },
      "text/plain": [
       "HBox(children=(FloatProgress(value=1.0, bar_style='info', max=1.0), HTML(value='')))"
      ]
     },
     "metadata": {},
     "output_type": "display_data"
    },
    {
     "name": "stdout",
     "output_type": "stream",
     "text": [
      "\n"
     ]
    },
    {
     "data": {
      "application/vnd.jupyter.widget-view+json": {
       "model_id": "3504f11cd7a2482896c8ad9c0a4728dc",
       "version_major": 2,
       "version_minor": 0
      },
      "text/plain": [
       "HBox(children=(FloatProgress(value=1.0, bar_style='info', max=1.0), HTML(value='')))"
      ]
     },
     "metadata": {},
     "output_type": "display_data"
    },
    {
     "name": "stdout",
     "output_type": "stream",
     "text": [
      "\n"
     ]
    },
    {
     "data": {
      "application/vnd.jupyter.widget-view+json": {
       "model_id": "6d7432b77ca74c3ea169d7cbdab31935",
       "version_major": 2,
       "version_minor": 0
      },
      "text/plain": [
       "HBox(children=(FloatProgress(value=1.0, bar_style='info', max=1.0), HTML(value='')))"
      ]
     },
     "metadata": {},
     "output_type": "display_data"
    },
    {
     "name": "stdout",
     "output_type": "stream",
     "text": [
      "\n"
     ]
    },
    {
     "data": {
      "application/vnd.jupyter.widget-view+json": {
       "model_id": "92facf5baf824ffcb643233db208ee21",
       "version_major": 2,
       "version_minor": 0
      },
      "text/plain": [
       "HBox(children=(FloatProgress(value=1.0, bar_style='info', max=1.0), HTML(value='')))"
      ]
     },
     "metadata": {},
     "output_type": "display_data"
    },
    {
     "name": "stdout",
     "output_type": "stream",
     "text": [
      "\n"
     ]
    },
    {
     "data": {
      "application/vnd.jupyter.widget-view+json": {
       "model_id": "e99c98be37694546b1c8e2c9178c768d",
       "version_major": 2,
       "version_minor": 0
      },
      "text/plain": [
       "HBox(children=(FloatProgress(value=1.0, bar_style='info', max=1.0), HTML(value='')))"
      ]
     },
     "metadata": {},
     "output_type": "display_data"
    },
    {
     "name": "stdout",
     "output_type": "stream",
     "text": [
      "\n"
     ]
    },
    {
     "data": {
      "application/vnd.jupyter.widget-view+json": {
       "model_id": "d27dacb8ca104ce6aa31772a3f923c55",
       "version_major": 2,
       "version_minor": 0
      },
      "text/plain": [
       "HBox(children=(FloatProgress(value=1.0, bar_style='info', max=1.0), HTML(value='')))"
      ]
     },
     "metadata": {},
     "output_type": "display_data"
    },
    {
     "name": "stdout",
     "output_type": "stream",
     "text": [
      "\n"
     ]
    },
    {
     "data": {
      "application/vnd.jupyter.widget-view+json": {
       "model_id": "a8cff709986642f2beaf274f1324d90f",
       "version_major": 2,
       "version_minor": 0
      },
      "text/plain": [
       "HBox(children=(FloatProgress(value=1.0, bar_style='info', max=1.0), HTML(value='')))"
      ]
     },
     "metadata": {},
     "output_type": "display_data"
    },
    {
     "name": "stdout",
     "output_type": "stream",
     "text": [
      "\n"
     ]
    },
    {
     "data": {
      "application/vnd.jupyter.widget-view+json": {
       "model_id": "79bec8349c4d472e8df36ee4d304ae74",
       "version_major": 2,
       "version_minor": 0
      },
      "text/plain": [
       "HBox(children=(FloatProgress(value=1.0, bar_style='info', max=1.0), HTML(value='')))"
      ]
     },
     "metadata": {},
     "output_type": "display_data"
    },
    {
     "name": "stdout",
     "output_type": "stream",
     "text": [
      "\n"
     ]
    },
    {
     "data": {
      "application/vnd.jupyter.widget-view+json": {
       "model_id": "90d7b983942841ea82bff5038f80ae10",
       "version_major": 2,
       "version_minor": 0
      },
      "text/plain": [
       "HBox(children=(FloatProgress(value=1.0, bar_style='info', max=1.0), HTML(value='')))"
      ]
     },
     "metadata": {},
     "output_type": "display_data"
    },
    {
     "name": "stdout",
     "output_type": "stream",
     "text": [
      "\n"
     ]
    },
    {
     "data": {
      "application/vnd.jupyter.widget-view+json": {
       "model_id": "10cc7633ad764c6189df15574c64016d",
       "version_major": 2,
       "version_minor": 0
      },
      "text/plain": [
       "HBox(children=(FloatProgress(value=1.0, bar_style='info', max=1.0), HTML(value='')))"
      ]
     },
     "metadata": {},
     "output_type": "display_data"
    },
    {
     "name": "stdout",
     "output_type": "stream",
     "text": [
      "\n"
     ]
    },
    {
     "data": {
      "application/vnd.jupyter.widget-view+json": {
       "model_id": "c2fe7c668abd4d1fae9061a3dea9494c",
       "version_major": 2,
       "version_minor": 0
      },
      "text/plain": [
       "HBox(children=(FloatProgress(value=1.0, bar_style='info', max=1.0), HTML(value='')))"
      ]
     },
     "metadata": {},
     "output_type": "display_data"
    },
    {
     "name": "stdout",
     "output_type": "stream",
     "text": [
      "\n"
     ]
    },
    {
     "data": {
      "application/vnd.jupyter.widget-view+json": {
       "model_id": "9bdec3925183439b98e3a2581271c129",
       "version_major": 2,
       "version_minor": 0
      },
      "text/plain": [
       "HBox(children=(FloatProgress(value=1.0, bar_style='info', max=1.0), HTML(value='')))"
      ]
     },
     "metadata": {},
     "output_type": "display_data"
    },
    {
     "name": "stdout",
     "output_type": "stream",
     "text": [
      "\n"
     ]
    },
    {
     "data": {
      "application/vnd.jupyter.widget-view+json": {
       "model_id": "2215c3d0649a411abfce9c9ea9bb9938",
       "version_major": 2,
       "version_minor": 0
      },
      "text/plain": [
       "HBox(children=(FloatProgress(value=1.0, bar_style='info', max=1.0), HTML(value='')))"
      ]
     },
     "metadata": {},
     "output_type": "display_data"
    },
    {
     "name": "stdout",
     "output_type": "stream",
     "text": [
      "\n",
      "\n"
     ]
    }
   ],
   "source": [
    "losses, evals = classification_experiment.train_model(train_dataloader, dev_dataloader, input_key=\"pre_ids\", label_key=\"bias_label\", disable_tqdm=False, model_dtype=torch.long)"
   ]
  },
  {
   "cell_type": "code",
   "execution_count": 12,
   "metadata": {},
   "outputs": [
    {
     "data": {
      "text/plain": [
       "[[{'num_examples': 32, 'accuracy': 0.625, 'auc': 0.5},\n",
       "  {'num_examples': 32, 'accuracy': 0.625, 'auc': 0.5},\n",
       "  {'num_examples': 17, 'accuracy': 0.47058823529411764, 'auc': 0.5}],\n",
       " [{'num_examples': 32, 'accuracy': 0.625, 'auc': 0.5},\n",
       "  {'num_examples': 32, 'accuracy': 0.625, 'auc': 0.5},\n",
       "  {'num_examples': 17, 'accuracy': 0.47058823529411764, 'auc': 0.5}],\n",
       " [{'num_examples': 32, 'accuracy': 0.625, 'auc': 0.5},\n",
       "  {'num_examples': 32, 'accuracy': 0.625, 'auc': 0.5},\n",
       "  {'num_examples': 17, 'accuracy': 0.47058823529411764, 'auc': 0.5}],\n",
       " [{'num_examples': 32, 'accuracy': 0.625, 'auc': 0.5},\n",
       "  {'num_examples': 32, 'accuracy': 0.625, 'auc': 0.5},\n",
       "  {'num_examples': 17, 'accuracy': 0.47058823529411764, 'auc': 0.5}],\n",
       " [{'num_examples': 32, 'accuracy': 0.625, 'auc': 0.5},\n",
       "  {'num_examples': 32, 'accuracy': 0.625, 'auc': 0.5},\n",
       "  {'num_examples': 17, 'accuracy': 0.47058823529411764, 'auc': 0.5}],\n",
       " [{'num_examples': 32, 'accuracy': 0.625, 'auc': 0.5},\n",
       "  {'num_examples': 32, 'accuracy': 0.625, 'auc': 0.5},\n",
       "  {'num_examples': 17, 'accuracy': 0.47058823529411764, 'auc': 0.5}],\n",
       " [{'num_examples': 32, 'accuracy': 0.625, 'auc': 0.5},\n",
       "  {'num_examples': 32, 'accuracy': 0.625, 'auc': 0.5},\n",
       "  {'num_examples': 17, 'accuracy': 0.47058823529411764, 'auc': 0.5}],\n",
       " [{'num_examples': 32, 'accuracy': 0.625, 'auc': 0.5},\n",
       "  {'num_examples': 32, 'accuracy': 0.625, 'auc': 0.5},\n",
       "  {'num_examples': 17, 'accuracy': 0.47058823529411764, 'auc': 0.5}],\n",
       " [{'num_examples': 32, 'accuracy': 0.625, 'auc': 0.5},\n",
       "  {'num_examples': 32, 'accuracy': 0.625, 'auc': 0.5},\n",
       "  {'num_examples': 17, 'accuracy': 0.47058823529411764, 'auc': 0.5}],\n",
       " [{'num_examples': 32, 'accuracy': 0.625, 'auc': 0.5},\n",
       "  {'num_examples': 32, 'accuracy': 0.625, 'auc': 0.5},\n",
       "  {'num_examples': 17, 'accuracy': 0.47058823529411764, 'auc': 0.5}],\n",
       " [{'num_examples': 32, 'accuracy': 0.625, 'auc': 0.5},\n",
       "  {'num_examples': 32, 'accuracy': 0.625, 'auc': 0.5},\n",
       "  {'num_examples': 17, 'accuracy': 0.47058823529411764, 'auc': 0.5}],\n",
       " [{'num_examples': 32, 'accuracy': 0.625, 'auc': 0.5},\n",
       "  {'num_examples': 32, 'accuracy': 0.625, 'auc': 0.5},\n",
       "  {'num_examples': 17, 'accuracy': 0.47058823529411764, 'auc': 0.5}],\n",
       " [{'num_examples': 32, 'accuracy': 0.625, 'auc': 0.5},\n",
       "  {'num_examples': 32, 'accuracy': 0.625, 'auc': 0.5},\n",
       "  {'num_examples': 17, 'accuracy': 0.47058823529411764, 'auc': 0.5}],\n",
       " [{'num_examples': 32, 'accuracy': 0.625, 'auc': 0.5},\n",
       "  {'num_examples': 32, 'accuracy': 0.625, 'auc': 0.5},\n",
       "  {'num_examples': 17, 'accuracy': 0.47058823529411764, 'auc': 0.5}],\n",
       " [{'num_examples': 32, 'accuracy': 0.375, 'auc': 0.5},\n",
       "  {'num_examples': 32, 'accuracy': 0.375, 'auc': 0.5},\n",
       "  {'num_examples': 17, 'accuracy': 0.5294117647058824, 'auc': 0.5}],\n",
       " [{'num_examples': 32, 'accuracy': 0.625, 'auc': 0.5},\n",
       "  {'num_examples': 32, 'accuracy': 0.625, 'auc': 0.5},\n",
       "  {'num_examples': 17, 'accuracy': 0.47058823529411764, 'auc': 0.5}],\n",
       " [{'num_examples': 32, 'accuracy': 0.625, 'auc': 0.5},\n",
       "  {'num_examples': 32, 'accuracy': 0.625, 'auc': 0.5},\n",
       "  {'num_examples': 17, 'accuracy': 0.47058823529411764, 'auc': 0.5}],\n",
       " [{'num_examples': 32, 'accuracy': 0.625, 'auc': 0.5},\n",
       "  {'num_examples': 32, 'accuracy': 0.625, 'auc': 0.5},\n",
       "  {'num_examples': 17, 'accuracy': 0.47058823529411764, 'auc': 0.5}],\n",
       " [{'num_examples': 32, 'accuracy': 0.625, 'auc': 0.5},\n",
       "  {'num_examples': 32, 'accuracy': 0.625, 'auc': 0.5},\n",
       "  {'num_examples': 17, 'accuracy': 0.47058823529411764, 'auc': 0.5}],\n",
       " [{'num_examples': 32, 'accuracy': 0.625, 'auc': 0.5},\n",
       "  {'num_examples': 32, 'accuracy': 0.625, 'auc': 0.5},\n",
       "  {'num_examples': 17, 'accuracy': 0.47058823529411764, 'auc': 0.5}]]"
      ]
     },
     "execution_count": 12,
     "metadata": {},
     "output_type": "execute_result"
    }
   ],
   "source": [
    "evals"
   ]
  },
  {
   "cell_type": "code",
   "execution_count": 13,
   "metadata": {},
   "outputs": [],
   "source": [
    "from src.utils.classification_utils import average_data"
   ]
  },
  {
   "cell_type": "code",
   "execution_count": 14,
   "metadata": {},
   "outputs": [],
   "source": [
    "avg_evaluations = [average_data(epoch_evaluations) for epoch_evaluations in evals]"
   ]
  },
  {
   "cell_type": "code",
   "execution_count": 15,
   "metadata": {},
   "outputs": [
    {
     "data": {
      "text/plain": [
       "[{'num_examples': 81, 'accuracy': 0.5925925925925926, 'auc': 0.5},\n",
       " {'num_examples': 81, 'accuracy': 0.5925925925925926, 'auc': 0.5},\n",
       " {'num_examples': 81, 'accuracy': 0.5925925925925926, 'auc': 0.5},\n",
       " {'num_examples': 81, 'accuracy': 0.5925925925925926, 'auc': 0.5},\n",
       " {'num_examples': 81, 'accuracy': 0.5925925925925926, 'auc': 0.5},\n",
       " {'num_examples': 81, 'accuracy': 0.5925925925925926, 'auc': 0.5},\n",
       " {'num_examples': 81, 'accuracy': 0.5925925925925926, 'auc': 0.5},\n",
       " {'num_examples': 81, 'accuracy': 0.5925925925925926, 'auc': 0.5},\n",
       " {'num_examples': 81, 'accuracy': 0.5925925925925926, 'auc': 0.5},\n",
       " {'num_examples': 81, 'accuracy': 0.5925925925925926, 'auc': 0.5},\n",
       " {'num_examples': 81, 'accuracy': 0.5925925925925926, 'auc': 0.5},\n",
       " {'num_examples': 81, 'accuracy': 0.5925925925925926, 'auc': 0.5},\n",
       " {'num_examples': 81, 'accuracy': 0.5925925925925926, 'auc': 0.5},\n",
       " {'num_examples': 81, 'accuracy': 0.5925925925925926, 'auc': 0.5},\n",
       " {'num_examples': 81, 'accuracy': 0.4074074074074074, 'auc': 0.5},\n",
       " {'num_examples': 81, 'accuracy': 0.5925925925925926, 'auc': 0.5},\n",
       " {'num_examples': 81, 'accuracy': 0.5925925925925926, 'auc': 0.5},\n",
       " {'num_examples': 81, 'accuracy': 0.5925925925925926, 'auc': 0.5},\n",
       " {'num_examples': 81, 'accuracy': 0.5925925925925926, 'auc': 0.5},\n",
       " {'num_examples': 81, 'accuracy': 0.5925925925925926, 'auc': 0.5}]"
      ]
     },
     "execution_count": 15,
     "metadata": {},
     "output_type": "execute_result"
    }
   ],
   "source": [
    "avg_evaluations"
   ]
  },
  {
   "cell_type": "code",
   "execution_count": null,
   "metadata": {},
   "outputs": [],
   "source": []
  }
 ],
 "metadata": {
  "kernelspec": {
   "display_name": "Python 3",
   "language": "python",
   "name": "python3"
  },
  "language_info": {
   "codemirror_mode": {
    "name": "ipython",
    "version": 3
   },
   "file_extension": ".py",
   "mimetype": "text/x-python",
   "name": "python",
   "nbconvert_exporter": "python",
   "pygments_lexer": "ipython3",
   "version": "3.6.8"
  }
 },
 "nbformat": 4,
 "nbformat_minor": 2
}
