{
 "cells": [
  {
   "cell_type": "markdown",
   "metadata": {},
   "source": [
    "## Simple Relations Depedency Parsing Baseline"
   ]
  },
  {
   "cell_type": "code",
   "execution_count": 1,
   "metadata": {},
   "outputs": [],
   "source": [
    "import sys; sys.path.append(\"../../../../..\")\n",
    "import torch \n",
    "from src.dataset import ExperimentDataset\n",
    "from src.experiment import ClassificationExperiment\n",
    "from src.params import Params"
   ]
  },
  {
   "cell_type": "code",
   "execution_count": 2,
   "metadata": {},
   "outputs": [],
   "source": [
    "%load_ext autoreload\n",
    "%autoreload 2"
   ]
  },
  {
   "cell_type": "code",
   "execution_count": 3,
   "metadata": {},
   "outputs": [],
   "source": [
    "params = Params.read_params(\"experiment_params.json\")"
   ]
  },
  {
   "cell_type": "code",
   "execution_count": 4,
   "metadata": {
    "scrolled": true
   },
   "outputs": [
    {
     "name": "stderr",
     "output_type": "stream",
     "text": [
      "04/02/2020 06:18:32 - INFO - pytorch_pretrained_bert.tokenization -   loading vocabulary file https://s3.amazonaws.com/models.huggingface.co/bert/bert-base-uncased-vocab.txt from cache at ./cache/26bc1ad6c0ac742e9b52263248f6d0f00068293b33709fae12320c0e35ccfbbb.542ce4285a40d23a559526243235df47c5f75c197f04f37d1a0c124c32c9a084\n",
      "100it [00:00, 4186.10it/s]\n"
     ]
    }
   ],
   "source": [
    "# Loading in the dataset that we are using in this experiments \n",
    "# typically this dataset is the small set of ground-truth labels\n",
    "dev_dataset = ExperimentDataset.init_dataset(params.dataset)"
   ]
  },
  {
   "cell_type": "code",
   "execution_count": 5,
   "metadata": {},
   "outputs": [],
   "source": [
    "import pickle \n",
    "train_dataset = pickle.load(open(params.dataset[\"weakly_labeled_data\"], \"rb\"))\n",
    "train_dataset.add_data(train_dataset.get_val('weak_bias_label'), 'bias_label')"
   ]
  },
  {
   "cell_type": "markdown",
   "metadata": {},
   "source": [
    "### Start of Classification"
   ]
  },
  {
   "cell_type": "code",
   "execution_count": 10,
   "metadata": {},
   "outputs": [],
   "source": [
    "params = Params.read_params(\"experiment_params.json\")"
   ]
  },
  {
   "cell_type": "code",
   "execution_count": 11,
   "metadata": {},
   "outputs": [],
   "source": [
    "train_dataloader = train_dataset.return_dataloader(batch_size=params.final_task['training_params']['batch_size'])\n",
    "dev_dataloader = dev_dataset.return_dataloader(batch_size=32)"
   ]
  },
  {
   "cell_type": "code",
   "execution_count": 12,
   "metadata": {},
   "outputs": [],
   "source": [
    "classification_experiment = ClassificationExperiment.init_cls_experiment(params.final_task)"
   ]
  },
  {
   "cell_type": "code",
   "execution_count": 13,
   "metadata": {},
   "outputs": [
    {
     "data": {
      "application/vnd.jupyter.widget-view+json": {
       "model_id": "",
       "version_major": 2,
       "version_minor": 0
      },
      "text/plain": [
       "HBox(children=(FloatProgress(value=0.0, description='epochs', max=10.0, style=ProgressStyle(description_width=…"
      ]
     },
     "metadata": {},
     "output_type": "display_data"
    },
    {
     "data": {
      "application/vnd.jupyter.widget-view+json": {
       "model_id": "7a1de759daf04e4a85ba2d985e9caf6e",
       "version_major": 2,
       "version_minor": 0
      },
      "text/plain": [
       "HBox(children=(FloatProgress(value=1.0, bar_style='info', max=1.0), HTML(value='')))"
      ]
     },
     "metadata": {},
     "output_type": "display_data"
    },
    {
     "name": "stdout",
     "output_type": "stream",
     "text": [
      "\n"
     ]
    },
    {
     "data": {
      "application/vnd.jupyter.widget-view+json": {
       "model_id": "4a9e0e17b0ca40b29f12b86ffce37f25",
       "version_major": 2,
       "version_minor": 0
      },
      "text/plain": [
       "HBox(children=(FloatProgress(value=1.0, bar_style='info', max=1.0), HTML(value='')))"
      ]
     },
     "metadata": {},
     "output_type": "display_data"
    },
    {
     "name": "stdout",
     "output_type": "stream",
     "text": [
      "\n"
     ]
    },
    {
     "data": {
      "application/vnd.jupyter.widget-view+json": {
       "model_id": "0de852c295ec42b583938f3b8847160e",
       "version_major": 2,
       "version_minor": 0
      },
      "text/plain": [
       "HBox(children=(FloatProgress(value=1.0, bar_style='info', max=1.0), HTML(value='')))"
      ]
     },
     "metadata": {},
     "output_type": "display_data"
    },
    {
     "name": "stdout",
     "output_type": "stream",
     "text": [
      "\n"
     ]
    },
    {
     "data": {
      "application/vnd.jupyter.widget-view+json": {
       "model_id": "1f004d6400be4a708e7472d29558ff49",
       "version_major": 2,
       "version_minor": 0
      },
      "text/plain": [
       "HBox(children=(FloatProgress(value=1.0, bar_style='info', max=1.0), HTML(value='')))"
      ]
     },
     "metadata": {},
     "output_type": "display_data"
    },
    {
     "name": "stdout",
     "output_type": "stream",
     "text": [
      "\n"
     ]
    },
    {
     "data": {
      "application/vnd.jupyter.widget-view+json": {
       "model_id": "ebd5e11093a8440d8d01c9ec77b259e4",
       "version_major": 2,
       "version_minor": 0
      },
      "text/plain": [
       "HBox(children=(FloatProgress(value=1.0, bar_style='info', max=1.0), HTML(value='')))"
      ]
     },
     "metadata": {},
     "output_type": "display_data"
    },
    {
     "name": "stdout",
     "output_type": "stream",
     "text": [
      "\n"
     ]
    },
    {
     "data": {
      "application/vnd.jupyter.widget-view+json": {
       "model_id": "ba5978e697cb44689f44c02d44a47819",
       "version_major": 2,
       "version_minor": 0
      },
      "text/plain": [
       "HBox(children=(FloatProgress(value=1.0, bar_style='info', max=1.0), HTML(value='')))"
      ]
     },
     "metadata": {},
     "output_type": "display_data"
    },
    {
     "name": "stdout",
     "output_type": "stream",
     "text": [
      "\n"
     ]
    },
    {
     "data": {
      "application/vnd.jupyter.widget-view+json": {
       "model_id": "257fe01fcc624e7b9459dff96a7dd02b",
       "version_major": 2,
       "version_minor": 0
      },
      "text/plain": [
       "HBox(children=(FloatProgress(value=1.0, bar_style='info', max=1.0), HTML(value='')))"
      ]
     },
     "metadata": {},
     "output_type": "display_data"
    },
    {
     "name": "stdout",
     "output_type": "stream",
     "text": [
      "\n"
     ]
    },
    {
     "data": {
      "application/vnd.jupyter.widget-view+json": {
       "model_id": "7f545c97a9e748c0904bf337d1fb6099",
       "version_major": 2,
       "version_minor": 0
      },
      "text/plain": [
       "HBox(children=(FloatProgress(value=1.0, bar_style='info', max=1.0), HTML(value='')))"
      ]
     },
     "metadata": {},
     "output_type": "display_data"
    },
    {
     "name": "stdout",
     "output_type": "stream",
     "text": [
      "\n"
     ]
    },
    {
     "data": {
      "application/vnd.jupyter.widget-view+json": {
       "model_id": "7516e06745ad4987b3e504ea7b33cc61",
       "version_major": 2,
       "version_minor": 0
      },
      "text/plain": [
       "HBox(children=(FloatProgress(value=1.0, bar_style='info', max=1.0), HTML(value='')))"
      ]
     },
     "metadata": {},
     "output_type": "display_data"
    },
    {
     "name": "stdout",
     "output_type": "stream",
     "text": [
      "\n"
     ]
    },
    {
     "data": {
      "application/vnd.jupyter.widget-view+json": {
       "model_id": "f21eab8472fe4266b40e2802a34a604b",
       "version_major": 2,
       "version_minor": 0
      },
      "text/plain": [
       "HBox(children=(FloatProgress(value=1.0, bar_style='info', max=1.0), HTML(value='')))"
      ]
     },
     "metadata": {},
     "output_type": "display_data"
    },
    {
     "name": "stdout",
     "output_type": "stream",
     "text": [
      "\n"
     ]
    }
   ],
   "source": [
    "losses, evals = classification_experiment.train_model(train_dataloader, dev_dataloader, input_key=\"rel_ids\", label_key=\"bias_label\", disable_tqdm=False)"
   ]
  },
  {
   "cell_type": "code",
   "execution_count": 14,
   "metadata": {},
   "outputs": [
    {
     "data": {
      "text/plain": [
       "[[{'num_examples': 32, 'accuracy': 0.5, 'auc': 0.5215686274509803},\n",
       "  {'num_examples': 32, 'accuracy': 0.625, 'auc': 0.6083333333333333},\n",
       "  {'num_examples': 17,\n",
       "   'accuracy': 0.6470588235294118,\n",
       "   'auc': 0.5757575757575757}],\n",
       " [{'num_examples': 32, 'accuracy': 0.59375, 'auc': 0.5843137254901961},\n",
       "  {'num_examples': 32, 'accuracy': 0.5625, 'auc': 0.575},\n",
       "  {'num_examples': 17,\n",
       "   'accuracy': 0.7647058823529411,\n",
       "   'auc': 0.6363636363636364}],\n",
       " [{'num_examples': 32, 'accuracy': 0.53125, 'auc': 0.5529411764705882},\n",
       "  {'num_examples': 32, 'accuracy': 0.59375, 'auc': 0.5666666666666667},\n",
       "  {'num_examples': 17,\n",
       "   'accuracy': 0.7058823529411765,\n",
       "   'auc': 0.6212121212121212}],\n",
       " [{'num_examples': 32, 'accuracy': 0.5, 'auc': 0.5254901960784313},\n",
       "  {'num_examples': 32, 'accuracy': 0.5625, 'auc': 0.575},\n",
       "  {'num_examples': 17,\n",
       "   'accuracy': 0.7058823529411765,\n",
       "   'auc': 0.5757575757575757}],\n",
       " [{'num_examples': 32, 'accuracy': 0.4375, 'auc': 0.5215686274509804},\n",
       "  {'num_examples': 32, 'accuracy': 0.5625, 'auc': 0.5666666666666667},\n",
       "  {'num_examples': 17,\n",
       "   'accuracy': 0.7058823529411765,\n",
       "   'auc': 0.6363636363636362}],\n",
       " [{'num_examples': 32, 'accuracy': 0.4375, 'auc': 0.5137254901960784},\n",
       "  {'num_examples': 32, 'accuracy': 0.53125, 'auc': 0.5499999999999999},\n",
       "  {'num_examples': 17,\n",
       "   'accuracy': 0.7058823529411765,\n",
       "   'auc': 0.6818181818181819}],\n",
       " [{'num_examples': 32, 'accuracy': 0.4375, 'auc': 0.5137254901960784},\n",
       "  {'num_examples': 32, 'accuracy': 0.5, 'auc': 0.5458333333333334},\n",
       "  {'num_examples': 17,\n",
       "   'accuracy': 0.7058823529411765,\n",
       "   'auc': 0.7575757575757576}],\n",
       " [{'num_examples': 32, 'accuracy': 0.4375, 'auc': 0.5294117647058824},\n",
       "  {'num_examples': 32, 'accuracy': 0.5, 'auc': 0.5333333333333333},\n",
       "  {'num_examples': 17,\n",
       "   'accuracy': 0.7058823529411765,\n",
       "   'auc': 0.7575757575757576}],\n",
       " [{'num_examples': 32, 'accuracy': 0.4375, 'auc': 0.5333333333333334},\n",
       "  {'num_examples': 32, 'accuracy': 0.5, 'auc': 0.525},\n",
       "  {'num_examples': 17,\n",
       "   'accuracy': 0.7058823529411765,\n",
       "   'auc': 0.7727272727272726}],\n",
       " [{'num_examples': 32, 'accuracy': 0.4375, 'auc': 0.5254901960784314},\n",
       "  {'num_examples': 32, 'accuracy': 0.53125, 'auc': 0.5375},\n",
       "  {'num_examples': 17,\n",
       "   'accuracy': 0.7058823529411765,\n",
       "   'auc': 0.7878787878787878}]]"
      ]
     },
     "execution_count": 14,
     "metadata": {},
     "output_type": "execute_result"
    }
   ],
   "source": [
    "evals"
   ]
  },
  {
   "cell_type": "code",
   "execution_count": 15,
   "metadata": {},
   "outputs": [],
   "source": [
    "from src.utils.classification_utils import average_data"
   ]
  },
  {
   "cell_type": "code",
   "execution_count": 16,
   "metadata": {},
   "outputs": [],
   "source": [
    "avg_evaluations = [average_data(epoch_evaluations) for epoch_evaluations in evals]"
   ]
  },
  {
   "cell_type": "code",
   "execution_count": 17,
   "metadata": {},
   "outputs": [
    {
     "data": {
      "text/plain": [
       "[{'num_examples': 81,\n",
       "  'accuracy': 0.5802469135802468,\n",
       "  'auc': 0.5672190312713188},\n",
       " {'num_examples': 81,\n",
       "  'accuracy': 0.6172839506172839,\n",
       "  'auc': 0.5915582843687419},\n",
       " {'num_examples': 81,\n",
       "  'accuracy': 0.5925925925925926,\n",
       "  'auc': 0.5726920622345458},\n",
       " {'num_examples': 81,\n",
       "  'accuracy': 0.5679012345679012,\n",
       "  'auc': 0.555599568671464},\n",
       " {'num_examples': 81,\n",
       "  'accuracy': 0.5432098765432098,\n",
       "  'auc': 0.5634779164190928},\n",
       " {'num_examples': 81,\n",
       "  'accuracy': 0.5308641975308641,\n",
       "  'auc': 0.5633348737923901},\n",
       " {'num_examples': 81,\n",
       "  'accuracy': 0.5185185185185185,\n",
       "  'auc': 0.577588521379371},\n",
       " {'num_examples': 81,\n",
       "  'accuracy': 0.5185185185185185,\n",
       "  'auc': 0.5788472964943554},\n",
       " {'num_examples': 81,\n",
       "  'accuracy': 0.5185185185185185,\n",
       "  'auc': 0.5802843247287692},\n",
       " {'num_examples': 81,\n",
       "  'accuracy': 0.5308641975308641,\n",
       "  'auc': 0.5853040205981382}]"
      ]
     },
     "execution_count": 17,
     "metadata": {},
     "output_type": "execute_result"
    }
   ],
   "source": [
    "avg_evaluations"
   ]
  },
  {
   "cell_type": "code",
   "execution_count": null,
   "metadata": {},
   "outputs": [],
   "source": []
  }
 ],
 "metadata": {
  "kernelspec": {
   "display_name": "Python 3",
   "language": "python",
   "name": "python3"
  },
  "language_info": {
   "codemirror_mode": {
    "name": "ipython",
    "version": 3
   },
   "file_extension": ".py",
   "mimetype": "text/x-python",
   "name": "python",
   "nbconvert_exporter": "python",
   "pygments_lexer": "ipython3",
   "version": "3.6.8"
  }
 },
 "nbformat": 4,
 "nbformat_minor": 2
}
