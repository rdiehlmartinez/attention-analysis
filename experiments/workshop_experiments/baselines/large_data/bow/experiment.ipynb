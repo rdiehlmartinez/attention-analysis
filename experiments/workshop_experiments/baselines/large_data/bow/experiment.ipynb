{
 "cells": [
  {
   "cell_type": "markdown",
   "metadata": {},
   "source": [
    "## BOW -> Classification"
   ]
  },
  {
   "cell_type": "markdown",
   "metadata": {},
   "source": [
    "This is a baseline where we convert sentences into a BOW matrix and then classify for type of bias in the entire sentence. The main difference to other weak labeling functions is that in this case we feed the entire input into the classifier with no knowledge of what the actual biased word is ."
   ]
  },
  {
   "cell_type": "code",
   "execution_count": 1,
   "metadata": {},
   "outputs": [],
   "source": [
    "import sys; sys.path.append(\"../../../../..\")\n",
    "import torch \n",
    "from src.experiment import ClassificationExperiment\n",
    "from src.dataset import ExperimentDataset\n",
    "from src.params import Params"
   ]
  },
  {
   "cell_type": "code",
   "execution_count": 2,
   "metadata": {},
   "outputs": [],
   "source": [
    "%load_ext autoreload\n",
    "%autoreload 2"
   ]
  },
  {
   "cell_type": "code",
   "execution_count": 3,
   "metadata": {},
   "outputs": [],
   "source": [
    "params = Params.read_params(\"experiment_params.json\")"
   ]
  },
  {
   "cell_type": "code",
   "execution_count": 4,
   "metadata": {
    "scrolled": true
   },
   "outputs": [
    {
     "name": "stderr",
     "output_type": "stream",
     "text": [
      "04/01/2020 18:20:44 - INFO - pytorch_pretrained_bert.tokenization -   loading vocabulary file https://s3.amazonaws.com/models.huggingface.co/bert/bert-base-uncased-vocab.txt from cache at ./cache/26bc1ad6c0ac742e9b52263248f6d0f00068293b33709fae12320c0e35ccfbbb.542ce4285a40d23a559526243235df47c5f75c197f04f37d1a0c124c32c9a084\n",
      "100it [00:00, 3167.42it/s]\n"
     ]
    }
   ],
   "source": [
    "# Loading in the dataset that we are using in this experiments \n",
    "# typically this dataset is the small set of ground-truth labels\n",
    "dev_dataset = ExperimentDataset.init_dataset(params.dataset)\n",
    "try:\n",
    "    del dev_dataset.data['marta_features']\n",
    "except: \n",
    "    pass"
   ]
  },
  {
   "cell_type": "code",
   "execution_count": 5,
   "metadata": {},
   "outputs": [],
   "source": [
    "import pickle \n",
    "train_dataset = pickle.load(open(params.dataset[\"weakly_labeled_data\"], \"rb\"))"
   ]
  },
  {
   "cell_type": "code",
   "execution_count": 6,
   "metadata": {},
   "outputs": [],
   "source": [
    "train_dataset.add_data(train_dataset.get_val('weak_bias_label'), 'bias_label')"
   ]
  },
  {
   "cell_type": "code",
   "execution_count": 7,
   "metadata": {},
   "outputs": [],
   "source": [
    "joined_dataset = ExperimentDataset.merge_datasets(train_dataset, dev_dataset)"
   ]
  },
  {
   "cell_type": "code",
   "execution_count": 8,
   "metadata": {},
   "outputs": [],
   "source": [
    "from src.utils.baseline_utils import get_bow_matrix"
   ]
  },
  {
   "cell_type": "code",
   "execution_count": 9,
   "metadata": {},
   "outputs": [
    {
     "name": "stderr",
     "output_type": "stream",
     "text": [
      "04/01/2020 18:20:46 - INFO - pytorch_pretrained_bert.tokenization -   loading vocabulary file https://s3.amazonaws.com/models.huggingface.co/bert/bert-base-uncased-vocab.txt from cache at ./cache/26bc1ad6c0ac742e9b52263248f6d0f00068293b33709fae12320c0e35ccfbbb.542ce4285a40d23a559526243235df47c5f75c197f04f37d1a0c124c32c9a084\n"
     ]
    }
   ],
   "source": [
    "bow_features = get_bow_matrix(params.dataset, joined_dataset)"
   ]
  },
  {
   "cell_type": "code",
   "execution_count": 10,
   "metadata": {},
   "outputs": [],
   "source": [
    "joined_dataset.add_data(bow_features, \"bow_features\")"
   ]
  },
  {
   "cell_type": "code",
   "execution_count": 11,
   "metadata": {},
   "outputs": [],
   "source": [
    "train_dataset_w_bow = ExperimentDataset.split_dataset(joined_dataset, len(train_dataset))\n",
    "dev_dataset_w_bow = ExperimentDataset.split_dataset(joined_dataset, -len(dev_dataset))"
   ]
  },
  {
   "cell_type": "code",
   "execution_count": 12,
   "metadata": {},
   "outputs": [
    {
     "data": {
      "text/plain": [
       "Length: 52275 Keys: dict_keys(['pos_ids', 'post_tok_label_ids', 'index', 'post_in_ids', 'post_out_ids', 'pre_tok_label_ids', 'masks', 'bias_label', 'categories', 'rel_ids', 'pre_lens', 'pre_ids', 'bow_features'])"
      ]
     },
     "execution_count": 12,
     "metadata": {},
     "output_type": "execute_result"
    }
   ],
   "source": [
    "train_dataset_w_bow"
   ]
  },
  {
   "cell_type": "code",
   "execution_count": 13,
   "metadata": {},
   "outputs": [
    {
     "data": {
      "text/plain": [
       "torch.Size([52275, 74498])"
      ]
     },
     "execution_count": 13,
     "metadata": {},
     "output_type": "execute_result"
    }
   ],
   "source": [
    "train_dataset_w_bow.data['bow_features'].shape"
   ]
  },
  {
   "cell_type": "markdown",
   "metadata": {},
   "source": [
    "### Start of Classification"
   ]
  },
  {
   "cell_type": "code",
   "execution_count": 19,
   "metadata": {},
   "outputs": [],
   "source": [
    "params = Params.read_params(\"experiment_params.json\")"
   ]
  },
  {
   "cell_type": "code",
   "execution_count": 20,
   "metadata": {},
   "outputs": [],
   "source": [
    "num_vocab = bow_features.shape[1]\n",
    "params.final_task['input_dim'] = num_vocab\n",
    "params.final_task['hidden_dim'] = 20"
   ]
  },
  {
   "cell_type": "code",
   "execution_count": 21,
   "metadata": {},
   "outputs": [],
   "source": [
    "train_dataset_w_bow.shuffle_data()\n",
    "dev_dataset_w_bow.shuffle_data()\n",
    "train_dataloader = train_dataset_w_bow.return_dataloader(batch_size=params.final_task['training_params']['batch_size'])\n",
    "dev_dataloader = dev_dataset_w_bow.return_dataloader(batch_size=32)"
   ]
  },
  {
   "cell_type": "code",
   "execution_count": 22,
   "metadata": {},
   "outputs": [],
   "source": [
    "classification_experiment = ClassificationExperiment.init_cls_experiment(params.final_task)"
   ]
  },
  {
   "cell_type": "code",
   "execution_count": 23,
   "metadata": {},
   "outputs": [
    {
     "data": {
      "application/vnd.jupyter.widget-view+json": {
       "model_id": "",
       "version_major": 2,
       "version_minor": 0
      },
      "text/plain": [
       "HBox(children=(FloatProgress(value=0.0, description='epochs', max=5.0, style=ProgressStyle(description_width='…"
      ]
     },
     "metadata": {},
     "output_type": "display_data"
    },
    {
     "data": {
      "application/vnd.jupyter.widget-view+json": {
       "model_id": "672db4996f8548d7a4cacfa1591c327b",
       "version_major": 2,
       "version_minor": 0
      },
      "text/plain": [
       "HBox(children=(FloatProgress(value=1.0, bar_style='info', max=1.0), HTML(value='')))"
      ]
     },
     "metadata": {},
     "output_type": "display_data"
    },
    {
     "name": "stdout",
     "output_type": "stream",
     "text": [
      "\n"
     ]
    },
    {
     "data": {
      "application/vnd.jupyter.widget-view+json": {
       "model_id": "9ea194eb382e4651abb0c5cfeb8d9298",
       "version_major": 2,
       "version_minor": 0
      },
      "text/plain": [
       "HBox(children=(FloatProgress(value=1.0, bar_style='info', max=1.0), HTML(value='')))"
      ]
     },
     "metadata": {},
     "output_type": "display_data"
    },
    {
     "name": "stdout",
     "output_type": "stream",
     "text": [
      "\n"
     ]
    },
    {
     "data": {
      "application/vnd.jupyter.widget-view+json": {
       "model_id": "3c4d98c4926a4f3196b1197ea63c6d84",
       "version_major": 2,
       "version_minor": 0
      },
      "text/plain": [
       "HBox(children=(FloatProgress(value=1.0, bar_style='info', max=1.0), HTML(value='')))"
      ]
     },
     "metadata": {},
     "output_type": "display_data"
    },
    {
     "name": "stdout",
     "output_type": "stream",
     "text": [
      "\n"
     ]
    },
    {
     "data": {
      "application/vnd.jupyter.widget-view+json": {
       "model_id": "26b7789ceabb454db2c7b6a9547462ed",
       "version_major": 2,
       "version_minor": 0
      },
      "text/plain": [
       "HBox(children=(FloatProgress(value=1.0, bar_style='info', max=1.0), HTML(value='')))"
      ]
     },
     "metadata": {},
     "output_type": "display_data"
    },
    {
     "name": "stdout",
     "output_type": "stream",
     "text": [
      "\n"
     ]
    },
    {
     "data": {
      "application/vnd.jupyter.widget-view+json": {
       "model_id": "05e0fedbd9d149ab857634c5566cb2d4",
       "version_major": 2,
       "version_minor": 0
      },
      "text/plain": [
       "HBox(children=(FloatProgress(value=1.0, bar_style='info', max=1.0), HTML(value='')))"
      ]
     },
     "metadata": {},
     "output_type": "display_data"
    },
    {
     "name": "stdout",
     "output_type": "stream",
     "text": [
      "\n"
     ]
    }
   ],
   "source": [
    "losses, evals = classification_experiment.train_model(train_dataloader, dev_dataloader, input_key=\"bow_features\", label_key=\"bias_label\", model_dtype=torch.float, disable_tqdm=False)"
   ]
  },
  {
   "cell_type": "code",
   "execution_count": 24,
   "metadata": {},
   "outputs": [
    {
     "data": {
      "text/plain": [
       "[[{'num_examples': 4, 'accuracy': 0.75, 'auc': 1.0},\n",
       "  {'num_examples': 4, 'accuracy': 0.5, 'auc': 0.75},\n",
       "  {'num_examples': 4, 'accuracy': 0.25, 'auc': 0.25},\n",
       "  {'num_examples': 4, 'accuracy': 0.75, 'auc': 1.0},\n",
       "  {'num_examples': 4, 'accuracy': 0.75, 'auc': 1.0},\n",
       "  {'num_examples': 4, 'accuracy': 0.75, 'auc': 1.0},\n",
       "  {'num_examples': 4, 'accuracy': 0.75, 'auc': 0.75},\n",
       "  {'num_examples': 4, 'accuracy': 1.0, 'auc': 1.0},\n",
       "  {'num_examples': 4, 'accuracy': 0.75, 'auc': 1.0},\n",
       "  {'num_examples': 4, 'accuracy': 0.5, 'auc': 1.0},\n",
       "  {'num_examples': 4, 'accuracy': 0.75, 'auc': 0.6666666666666666},\n",
       "  {'num_examples': 4, 'accuracy': 0.75, 'auc': 0.5},\n",
       "  {'num_examples': 4, 'accuracy': 0.75, 'auc': 1.0},\n",
       "  {'num_examples': 4, 'accuracy': 0.75, 'auc': 1.0},\n",
       "  {'num_examples': 4, 'accuracy': 0.5, 'auc': 0.33333333333333337},\n",
       "  {'num_examples': 4, 'accuracy': 0.25, 'auc': 0.3333333333333333},\n",
       "  {'num_examples': 4, 'accuracy': 0.5, 'auc': 0.6666666666666666},\n",
       "  {'num_examples': 4, 'accuracy': 0.75, 'auc': 1.0}],\n",
       " [{'num_examples': 4, 'accuracy': 0.75, 'auc': 1.0},\n",
       "  {'num_examples': 4, 'accuracy': 0.5, 'auc': 0.5},\n",
       "  {'num_examples': 4, 'accuracy': 0.5, 'auc': 0.25},\n",
       "  {'num_examples': 4, 'accuracy': 0.75, 'auc': 1.0},\n",
       "  {'num_examples': 4, 'accuracy': 0.75, 'auc': 1.0},\n",
       "  {'num_examples': 4, 'accuracy': 0.75, 'auc': 1.0},\n",
       "  {'num_examples': 4, 'accuracy': 0.75, 'auc': 1.0},\n",
       "  {'num_examples': 4, 'accuracy': 1.0, 'auc': 1.0},\n",
       "  {'num_examples': 4, 'accuracy': 1.0, 'auc': 1.0},\n",
       "  {'num_examples': 4, 'accuracy': 0.75, 'auc': 1.0},\n",
       "  {'num_examples': 4, 'accuracy': 0.75, 'auc': 0.6666666666666666},\n",
       "  {'num_examples': 4, 'accuracy': 0.25, 'auc': 0.5},\n",
       "  {'num_examples': 4, 'accuracy': 0.75, 'auc': 1.0},\n",
       "  {'num_examples': 4, 'accuracy': 0.75, 'auc': 1.0},\n",
       "  {'num_examples': 4, 'accuracy': 0.5, 'auc': 0.0},\n",
       "  {'num_examples': 4, 'accuracy': 0.5, 'auc': 0.3333333333333333},\n",
       "  {'num_examples': 4, 'accuracy': 0.75, 'auc': 1.0},\n",
       "  {'num_examples': 4, 'accuracy': 0.75, 'auc': 1.0}],\n",
       " [{'num_examples': 4, 'accuracy': 0.75, 'auc': 1.0},\n",
       "  {'num_examples': 4, 'accuracy': 0.75, 'auc': 0.5},\n",
       "  {'num_examples': 4, 'accuracy': 0.5, 'auc': 0.25},\n",
       "  {'num_examples': 4, 'accuracy': 0.75, 'auc': 1.0},\n",
       "  {'num_examples': 4, 'accuracy': 0.75, 'auc': 1.0},\n",
       "  {'num_examples': 4, 'accuracy': 0.75, 'auc': 1.0},\n",
       "  {'num_examples': 4, 'accuracy': 1.0, 'auc': 1.0},\n",
       "  {'num_examples': 4, 'accuracy': 1.0, 'auc': 1.0},\n",
       "  {'num_examples': 4, 'accuracy': 1.0, 'auc': 1.0},\n",
       "  {'num_examples': 4, 'accuracy': 1.0, 'auc': 1.0},\n",
       "  {'num_examples': 4, 'accuracy': 0.75, 'auc': 0.6666666666666666},\n",
       "  {'num_examples': 4, 'accuracy': 0.25, 'auc': 0.5},\n",
       "  {'num_examples': 4, 'accuracy': 1.0, 'auc': 1.0},\n",
       "  {'num_examples': 4, 'accuracy': 0.5, 'auc': 1.0},\n",
       "  {'num_examples': 4, 'accuracy': 0.5, 'auc': 0.0},\n",
       "  {'num_examples': 4, 'accuracy': 0.5, 'auc': 0.3333333333333333},\n",
       "  {'num_examples': 4, 'accuracy': 0.75, 'auc': 1.0},\n",
       "  {'num_examples': 4, 'accuracy': 0.75, 'auc': 0.6666666666666666}],\n",
       " [{'num_examples': 4, 'accuracy': 0.75, 'auc': 0.6666666666666666},\n",
       "  {'num_examples': 4, 'accuracy': 0.75, 'auc': 0.5},\n",
       "  {'num_examples': 4, 'accuracy': 0.5, 'auc': 0.25},\n",
       "  {'num_examples': 4, 'accuracy': 0.75, 'auc': 1.0},\n",
       "  {'num_examples': 4, 'accuracy': 0.75, 'auc': 1.0},\n",
       "  {'num_examples': 4, 'accuracy': 0.75, 'auc': 1.0},\n",
       "  {'num_examples': 4, 'accuracy': 1.0, 'auc': 1.0},\n",
       "  {'num_examples': 4, 'accuracy': 1.0, 'auc': 1.0},\n",
       "  {'num_examples': 4, 'accuracy': 1.0, 'auc': 1.0},\n",
       "  {'num_examples': 4, 'accuracy': 1.0, 'auc': 1.0},\n",
       "  {'num_examples': 4, 'accuracy': 0.75, 'auc': 0.6666666666666666},\n",
       "  {'num_examples': 4, 'accuracy': 0.25, 'auc': 0.25},\n",
       "  {'num_examples': 4, 'accuracy': 1.0, 'auc': 1.0},\n",
       "  {'num_examples': 4, 'accuracy': 0.5, 'auc': 1.0},\n",
       "  {'num_examples': 4, 'accuracy': 0.5, 'auc': 0.0},\n",
       "  {'num_examples': 4, 'accuracy': 0.5, 'auc': 0.6666666666666666},\n",
       "  {'num_examples': 4, 'accuracy': 0.75, 'auc': 1.0},\n",
       "  {'num_examples': 4, 'accuracy': 0.75, 'auc': 0.6666666666666666}],\n",
       " [{'num_examples': 4, 'accuracy': 0.75, 'auc': 0.6666666666666666},\n",
       "  {'num_examples': 4, 'accuracy': 0.75, 'auc': 0.5},\n",
       "  {'num_examples': 4, 'accuracy': 0.5, 'auc': 0.25},\n",
       "  {'num_examples': 4, 'accuracy': 0.75, 'auc': 1.0},\n",
       "  {'num_examples': 4, 'accuracy': 0.75, 'auc': 1.0},\n",
       "  {'num_examples': 4, 'accuracy': 0.75, 'auc': 1.0},\n",
       "  {'num_examples': 4, 'accuracy': 1.0, 'auc': 1.0},\n",
       "  {'num_examples': 4, 'accuracy': 1.0, 'auc': 1.0},\n",
       "  {'num_examples': 4, 'accuracy': 1.0, 'auc': 1.0},\n",
       "  {'num_examples': 4, 'accuracy': 1.0, 'auc': 1.0},\n",
       "  {'num_examples': 4, 'accuracy': 0.5, 'auc': 0.6666666666666666},\n",
       "  {'num_examples': 4, 'accuracy': 0.25, 'auc': 0.25},\n",
       "  {'num_examples': 4, 'accuracy': 0.5, 'auc': 1.0},\n",
       "  {'num_examples': 4, 'accuracy': 0.5, 'auc': 1.0},\n",
       "  {'num_examples': 4, 'accuracy': 0.5, 'auc': 0.0},\n",
       "  {'num_examples': 4, 'accuracy': 0.5, 'auc': 0.6666666666666666},\n",
       "  {'num_examples': 4, 'accuracy': 0.75, 'auc': 1.0},\n",
       "  {'num_examples': 4, 'accuracy': 0.75, 'auc': 0.6666666666666666}]]"
      ]
     },
     "execution_count": 24,
     "metadata": {},
     "output_type": "execute_result"
    }
   ],
   "source": [
    "evals"
   ]
  },
  {
   "cell_type": "code",
   "execution_count": 25,
   "metadata": {},
   "outputs": [],
   "source": [
    "from src.utils.classification_utils import average_data"
   ]
  },
  {
   "cell_type": "code",
   "execution_count": 26,
   "metadata": {},
   "outputs": [],
   "source": [
    "avg_evaluations = [average_data(epoch_evaluations) for epoch_evaluations in evals]"
   ]
  },
  {
   "cell_type": "code",
   "execution_count": 27,
   "metadata": {},
   "outputs": [
    {
     "data": {
      "text/plain": [
       "[{'num_examples': 72,\n",
       "  'accuracy': 0.6527777777777777,\n",
       "  'auc': 0.7916666666666667},\n",
       " {'num_examples': 72,\n",
       "  'accuracy': 0.6944444444444444,\n",
       "  'auc': 0.7916666666666667},\n",
       " {'num_examples': 72,\n",
       "  'accuracy': 0.736111111111111,\n",
       "  'auc': 0.7731481481481481},\n",
       " {'num_examples': 72,\n",
       "  'accuracy': 0.736111111111111,\n",
       "  'auc': 0.7592592592592593},\n",
       " {'num_examples': 72,\n",
       "  'accuracy': 0.6944444444444444,\n",
       "  'auc': 0.7592592592592593}]"
      ]
     },
     "execution_count": 27,
     "metadata": {},
     "output_type": "execute_result"
    }
   ],
   "source": [
    "avg_evaluations"
   ]
  },
  {
   "cell_type": "code",
   "execution_count": null,
   "metadata": {},
   "outputs": [],
   "source": []
  }
 ],
 "metadata": {
  "kernelspec": {
   "display_name": "Python 3",
   "language": "python",
   "name": "python3"
  },
  "language_info": {
   "codemirror_mode": {
    "name": "ipython",
    "version": 3
   },
   "file_extension": ".py",
   "mimetype": "text/x-python",
   "name": "python",
   "nbconvert_exporter": "python",
   "pygments_lexer": "ipython3",
   "version": "3.6.8"
  }
 },
 "nbformat": 4,
 "nbformat_minor": 2
}
