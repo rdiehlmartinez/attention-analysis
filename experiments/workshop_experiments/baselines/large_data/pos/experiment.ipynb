{
 "cells": [
  {
   "cell_type": "markdown",
   "metadata": {},
   "source": [
    "## Simple POS Depedency Parsing Baseline"
   ]
  },
  {
   "cell_type": "code",
   "execution_count": 1,
   "metadata": {},
   "outputs": [],
   "source": [
    "import sys; sys.path.append(\"../../../../..\")\n",
    "import torch \n",
    "from src.dataset import ExperimentDataset\n",
    "from src.experiment import ClassificationExperiment\n",
    "from src.params import Params"
   ]
  },
  {
   "cell_type": "code",
   "execution_count": 2,
   "metadata": {},
   "outputs": [],
   "source": [
    "%load_ext autoreload\n",
    "%autoreload 2"
   ]
  },
  {
   "cell_type": "code",
   "execution_count": 3,
   "metadata": {},
   "outputs": [],
   "source": [
    "params = Params.read_params(\"experiment_params.json\")"
   ]
  },
  {
   "cell_type": "code",
   "execution_count": 4,
   "metadata": {
    "scrolled": true
   },
   "outputs": [
    {
     "name": "stderr",
     "output_type": "stream",
     "text": [
      "04/02/2020 06:22:05 - INFO - pytorch_pretrained_bert.tokenization -   loading vocabulary file https://s3.amazonaws.com/models.huggingface.co/bert/bert-base-uncased-vocab.txt from cache at ./cache/26bc1ad6c0ac742e9b52263248f6d0f00068293b33709fae12320c0e35ccfbbb.542ce4285a40d23a559526243235df47c5f75c197f04f37d1a0c124c32c9a084\n",
      "100it [00:00, 3572.30it/s]\n"
     ]
    }
   ],
   "source": [
    "# Loading in the dataset that we are using in this experiments \n",
    "# typically this dataset is the small set of ground-truth labels\n",
    "dev_dataset = ExperimentDataset.init_dataset(params.dataset)"
   ]
  },
  {
   "cell_type": "code",
   "execution_count": 5,
   "metadata": {},
   "outputs": [],
   "source": [
    "import pickle \n",
    "train_dataset = pickle.load(open(params.dataset[\"weakly_labeled_data\"], \"rb\"))\n",
    "train_dataset.add_data(train_dataset.get_val('weak_bias_label'), 'bias_label')"
   ]
  },
  {
   "cell_type": "markdown",
   "metadata": {},
   "source": [
    "### Start of Classification"
   ]
  },
  {
   "cell_type": "code",
   "execution_count": 6,
   "metadata": {},
   "outputs": [],
   "source": [
    "params = Params.read_params(\"experiment_params.json\")"
   ]
  },
  {
   "cell_type": "code",
   "execution_count": 7,
   "metadata": {},
   "outputs": [],
   "source": [
    "train_dataloader = train_dataset.return_dataloader(batch_size=params.final_task['training_params']['batch_size'])\n",
    "dev_dataloader = dev_dataset.return_dataloader(batch_size=32)"
   ]
  },
  {
   "cell_type": "code",
   "execution_count": 8,
   "metadata": {},
   "outputs": [],
   "source": [
    "classification_experiment = ClassificationExperiment.init_cls_experiment(params.final_task)"
   ]
  },
  {
   "cell_type": "code",
   "execution_count": 9,
   "metadata": {},
   "outputs": [
    {
     "data": {
      "application/vnd.jupyter.widget-view+json": {
       "model_id": "",
       "version_major": 2,
       "version_minor": 0
      },
      "text/plain": [
       "HBox(children=(FloatProgress(value=0.0, description='epochs', max=10.0, style=ProgressStyle(description_width=…"
      ]
     },
     "metadata": {},
     "output_type": "display_data"
    },
    {
     "data": {
      "application/vnd.jupyter.widget-view+json": {
       "model_id": "1fc6f46844354e71be90820edba47ced",
       "version_major": 2,
       "version_minor": 0
      },
      "text/plain": [
       "HBox(children=(FloatProgress(value=1.0, bar_style='info', max=1.0), HTML(value='')))"
      ]
     },
     "metadata": {},
     "output_type": "display_data"
    },
    {
     "name": "stdout",
     "output_type": "stream",
     "text": [
      "\n"
     ]
    },
    {
     "data": {
      "application/vnd.jupyter.widget-view+json": {
       "model_id": "4260092d12d84eefa2b4cb460dc456ed",
       "version_major": 2,
       "version_minor": 0
      },
      "text/plain": [
       "HBox(children=(FloatProgress(value=1.0, bar_style='info', max=1.0), HTML(value='')))"
      ]
     },
     "metadata": {},
     "output_type": "display_data"
    },
    {
     "name": "stdout",
     "output_type": "stream",
     "text": [
      "\n"
     ]
    },
    {
     "data": {
      "application/vnd.jupyter.widget-view+json": {
       "model_id": "f957f25c141f4ca39854dc9bcfc104d7",
       "version_major": 2,
       "version_minor": 0
      },
      "text/plain": [
       "HBox(children=(FloatProgress(value=1.0, bar_style='info', max=1.0), HTML(value='')))"
      ]
     },
     "metadata": {},
     "output_type": "display_data"
    },
    {
     "name": "stdout",
     "output_type": "stream",
     "text": [
      "\n"
     ]
    },
    {
     "data": {
      "application/vnd.jupyter.widget-view+json": {
       "model_id": "fe3fb6708cc140b59a9813a8966e486a",
       "version_major": 2,
       "version_minor": 0
      },
      "text/plain": [
       "HBox(children=(FloatProgress(value=1.0, bar_style='info', max=1.0), HTML(value='')))"
      ]
     },
     "metadata": {},
     "output_type": "display_data"
    },
    {
     "name": "stdout",
     "output_type": "stream",
     "text": [
      "\n"
     ]
    },
    {
     "data": {
      "application/vnd.jupyter.widget-view+json": {
       "model_id": "6d23f81c06ec4ccd83df775aaf1708d3",
       "version_major": 2,
       "version_minor": 0
      },
      "text/plain": [
       "HBox(children=(FloatProgress(value=1.0, bar_style='info', max=1.0), HTML(value='')))"
      ]
     },
     "metadata": {},
     "output_type": "display_data"
    },
    {
     "name": "stdout",
     "output_type": "stream",
     "text": [
      "\n"
     ]
    },
    {
     "data": {
      "application/vnd.jupyter.widget-view+json": {
       "model_id": "e7d31f63317940bca6d69c04cf3b0f60",
       "version_major": 2,
       "version_minor": 0
      },
      "text/plain": [
       "HBox(children=(FloatProgress(value=1.0, bar_style='info', max=1.0), HTML(value='')))"
      ]
     },
     "metadata": {},
     "output_type": "display_data"
    },
    {
     "name": "stdout",
     "output_type": "stream",
     "text": [
      "\n"
     ]
    },
    {
     "data": {
      "application/vnd.jupyter.widget-view+json": {
       "model_id": "5541a8e663cd41c19633305a7d8d28f3",
       "version_major": 2,
       "version_minor": 0
      },
      "text/plain": [
       "HBox(children=(FloatProgress(value=1.0, bar_style='info', max=1.0), HTML(value='')))"
      ]
     },
     "metadata": {},
     "output_type": "display_data"
    },
    {
     "name": "stdout",
     "output_type": "stream",
     "text": [
      "\n"
     ]
    },
    {
     "data": {
      "application/vnd.jupyter.widget-view+json": {
       "model_id": "0474d221c8744a6b85e015021ed7a874",
       "version_major": 2,
       "version_minor": 0
      },
      "text/plain": [
       "HBox(children=(FloatProgress(value=1.0, bar_style='info', max=1.0), HTML(value='')))"
      ]
     },
     "metadata": {},
     "output_type": "display_data"
    },
    {
     "name": "stdout",
     "output_type": "stream",
     "text": [
      "\n"
     ]
    },
    {
     "data": {
      "application/vnd.jupyter.widget-view+json": {
       "model_id": "a9b17a8bade944c998502ea39d93f1d6",
       "version_major": 2,
       "version_minor": 0
      },
      "text/plain": [
       "HBox(children=(FloatProgress(value=1.0, bar_style='info', max=1.0), HTML(value='')))"
      ]
     },
     "metadata": {},
     "output_type": "display_data"
    },
    {
     "name": "stdout",
     "output_type": "stream",
     "text": [
      "\n"
     ]
    },
    {
     "data": {
      "application/vnd.jupyter.widget-view+json": {
       "model_id": "4d372a97455945d2b852988504f1f445",
       "version_major": 2,
       "version_minor": 0
      },
      "text/plain": [
       "HBox(children=(FloatProgress(value=1.0, bar_style='info', max=1.0), HTML(value='')))"
      ]
     },
     "metadata": {},
     "output_type": "display_data"
    },
    {
     "name": "stdout",
     "output_type": "stream",
     "text": [
      "\n",
      "\n"
     ]
    }
   ],
   "source": [
    "losses, evals = classification_experiment.train_model(train_dataloader, dev_dataloader, input_key=\"pos_ids\", label_key=\"bias_label\", disable_tqdm=False)"
   ]
  },
  {
   "cell_type": "code",
   "execution_count": 10,
   "metadata": {},
   "outputs": [
    {
     "data": {
      "text/plain": [
       "[[{'num_examples': 32, 'accuracy': 0.53125, 'auc': 0.6509803921568629},\n",
       "  {'num_examples': 32, 'accuracy': 0.625, 'auc': 0.43333333333333335},\n",
       "  {'num_examples': 17,\n",
       "   'accuracy': 0.6470588235294118,\n",
       "   'auc': 0.5606060606060606}],\n",
       " [{'num_examples': 32, 'accuracy': 0.5625, 'auc': 0.6352941176470588},\n",
       "  {'num_examples': 32, 'accuracy': 0.625, 'auc': 0.3666666666666667},\n",
       "  {'num_examples': 17,\n",
       "   'accuracy': 0.6470588235294118,\n",
       "   'auc': 0.5151515151515151}],\n",
       " [{'num_examples': 32, 'accuracy': 0.53125, 'auc': 0.6352941176470588},\n",
       "  {'num_examples': 32, 'accuracy': 0.53125, 'auc': 0.37916666666666665},\n",
       "  {'num_examples': 17,\n",
       "   'accuracy': 0.6470588235294118,\n",
       "   'auc': 0.4696969696969697}],\n",
       " [{'num_examples': 32, 'accuracy': 0.53125, 'auc': 0.6235294117647059},\n",
       "  {'num_examples': 32, 'accuracy': 0.53125, 'auc': 0.37916666666666665},\n",
       "  {'num_examples': 17,\n",
       "   'accuracy': 0.6470588235294118,\n",
       "   'auc': 0.4242424242424242}],\n",
       " [{'num_examples': 32, 'accuracy': 0.53125, 'auc': 0.5450980392156862},\n",
       "  {'num_examples': 32, 'accuracy': 0.53125, 'auc': 0.39583333333333337},\n",
       "  {'num_examples': 17,\n",
       "   'accuracy': 0.6470588235294118,\n",
       "   'auc': 0.4545454545454546}],\n",
       " [{'num_examples': 32, 'accuracy': 0.53125, 'auc': 0.5725490196078431},\n",
       "  {'num_examples': 32, 'accuracy': 0.5, 'auc': 0.4125},\n",
       "  {'num_examples': 17,\n",
       "   'accuracy': 0.6470588235294118,\n",
       "   'auc': 0.4545454545454546}],\n",
       " [{'num_examples': 32, 'accuracy': 0.53125, 'auc': 0.5803921568627451},\n",
       "  {'num_examples': 32, 'accuracy': 0.5, 'auc': 0.4291666666666667},\n",
       "  {'num_examples': 17,\n",
       "   'accuracy': 0.6470588235294118,\n",
       "   'auc': 0.40909090909090906}],\n",
       " [{'num_examples': 32, 'accuracy': 0.5625, 'auc': 0.5803921568627451},\n",
       "  {'num_examples': 32, 'accuracy': 0.46875, 'auc': 0.4291666666666667},\n",
       "  {'num_examples': 17,\n",
       "   'accuracy': 0.5882352941176471,\n",
       "   'auc': 0.40909090909090906}],\n",
       " [{'num_examples': 32, 'accuracy': 0.5625, 'auc': 0.5764705882352942},\n",
       "  {'num_examples': 32, 'accuracy': 0.46875, 'auc': 0.42500000000000004},\n",
       "  {'num_examples': 17,\n",
       "   'accuracy': 0.5882352941176471,\n",
       "   'auc': 0.42424242424242425}],\n",
       " [{'num_examples': 32, 'accuracy': 0.5625, 'auc': 0.592156862745098},\n",
       "  {'num_examples': 32, 'accuracy': 0.4375, 'auc': 0.4375},\n",
       "  {'num_examples': 17,\n",
       "   'accuracy': 0.5294117647058824,\n",
       "   'auc': 0.3939393939393939}]]"
      ]
     },
     "execution_count": 10,
     "metadata": {},
     "output_type": "execute_result"
    }
   ],
   "source": [
    "evals"
   ]
  },
  {
   "cell_type": "code",
   "execution_count": 11,
   "metadata": {},
   "outputs": [],
   "source": [
    "from src.utils.classification_utils import average_data"
   ]
  },
  {
   "cell_type": "code",
   "execution_count": 12,
   "metadata": {},
   "outputs": [],
   "source": [
    "avg_evaluations = [average_data(epoch_evaluations) for epoch_evaluations in evals]"
   ]
  },
  {
   "cell_type": "code",
   "execution_count": 13,
   "metadata": {},
   "outputs": [
    {
     "data": {
      "text/plain": [
       "[{'num_examples': 81,\n",
       "  'accuracy': 0.5925925925925926,\n",
       "  'auc': 0.5460289166171519},\n",
       " {'num_examples': 81,\n",
       "  'accuracy': 0.6049382716049383,\n",
       "  'auc': 0.5039545784643824},\n",
       " {'num_examples': 81,\n",
       "  'accuracy': 0.5555555555555556,\n",
       "  'auc': 0.49935300719614445},\n",
       " {'num_examples': 81,\n",
       "  'accuracy': 0.5555555555555556,\n",
       "  'auc': 0.48516537928302633},\n",
       " {'num_examples': 81,\n",
       "  'accuracy': 0.5555555555555556,\n",
       "  'auc': 0.4671244030721155},\n",
       " {'num_examples': 81,\n",
       "  'accuracy': 0.5432098765432098,\n",
       "  'auc': 0.4845535969718976},\n",
       " {'num_examples': 81,\n",
       "  'accuracy': 0.5432098765432098,\n",
       "  'auc': 0.48469663959860043},\n",
       " {'num_examples': 81,\n",
       "  'accuracy': 0.5308641975308641,\n",
       "  'auc': 0.48469663959860043},\n",
       " {'num_examples': 81,\n",
       "  'accuracy': 0.5308641975308641,\n",
       "  'auc': 0.48468123500803245},\n",
       " {'num_examples': 81,\n",
       "  'accuracy': 0.5061728395061729,\n",
       "  'auc': 0.48945665808410904}]"
      ]
     },
     "execution_count": 13,
     "metadata": {},
     "output_type": "execute_result"
    }
   ],
   "source": [
    "avg_evaluations"
   ]
  },
  {
   "cell_type": "code",
   "execution_count": null,
   "metadata": {},
   "outputs": [],
   "source": []
  }
 ],
 "metadata": {
  "kernelspec": {
   "display_name": "Python 3",
   "language": "python",
   "name": "python3"
  },
  "language_info": {
   "codemirror_mode": {
    "name": "ipython",
    "version": 3
   },
   "file_extension": ".py",
   "mimetype": "text/x-python",
   "name": "python",
   "nbconvert_exporter": "python",
   "pygments_lexer": "ipython3",
   "version": "3.6.8"
  }
 },
 "nbformat": 4,
 "nbformat_minor": 2
}
