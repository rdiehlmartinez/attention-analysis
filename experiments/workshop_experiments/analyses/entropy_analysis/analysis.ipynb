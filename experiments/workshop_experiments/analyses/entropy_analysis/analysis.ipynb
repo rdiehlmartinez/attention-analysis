{
 "cells": [
  {
   "cell_type": "markdown",
   "metadata": {},
   "source": [
    "## Testing out Entropy between Distribution\n",
    "\n",
    "We extract the attention distributions from our pre-trained BERT model and observe the difference in entropy between distributions extracted from sentences with epistemological and framing bias"
   ]
  },
  {
   "cell_type": "code",
   "execution_count": 25,
   "metadata": {},
   "outputs": [],
   "source": [
    "import sys; sys.path.append(\"../../../..\") #NOTE: changing from the basic path we use for other experiments\n",
    "import torch \n",
    "from src.experiment import AttentionExperiment\n",
    "from src.dataset import ExperimentDataset\n",
    "from src.params import Params"
   ]
  },
  {
   "cell_type": "code",
   "execution_count": 26,
   "metadata": {},
   "outputs": [
    {
     "name": "stdout",
     "output_type": "stream",
     "text": [
      "The autoreload extension is already loaded. To reload it, use:\n",
      "  %reload_ext autoreload\n"
     ]
    }
   ],
   "source": [
    "%load_ext autoreload\n",
    "%autoreload 2"
   ]
  },
  {
   "cell_type": "code",
   "execution_count": 27,
   "metadata": {},
   "outputs": [
    {
     "name": "stdout",
     "output_type": "stream",
     "text": [
      "layers = [0, 1, 2, 3, 4, 5, 6, 7, 8, 9, 10, 11]\n"
     ]
    }
   ],
   "source": [
    "params = Params.read_params(\"params.json\")\n",
    "print(\"layers = {}\".format(params.intermediary_task[\"attention\"][\"layers\"]))"
   ]
  },
  {
   "cell_type": "code",
   "execution_count": 28,
   "metadata": {
    "scrolled": true
   },
   "outputs": [
    {
     "name": "stderr",
     "output_type": "stream",
     "text": [
      "04/03/2020 18:07:04 - INFO - pytorch_pretrained_bert.tokenization -   loading vocabulary file https://s3.amazonaws.com/models.huggingface.co/bert/bert-base-uncased-vocab.txt from cache at ./cache/26bc1ad6c0ac742e9b52263248f6d0f00068293b33709fae12320c0e35ccfbbb.542ce4285a40d23a559526243235df47c5f75c197f04f37d1a0c124c32c9a084\n",
      "386it [00:00, 4812.40it/s]\n"
     ]
    }
   ],
   "source": [
    "# Loading in the dataset that we are using in this experiments \n",
    "# typically this dataset is the small set of ground-truth labels\n",
    "dataset = ExperimentDataset.init_dataset(params.dataset)"
   ]
  },
  {
   "cell_type": "markdown",
   "metadata": {},
   "source": [
    "### Attention Experiment: \n",
    "* Is a class that wraps useful methods to extract attention distributions from a given BERT-based model \n",
    "* The user has to provide in two config files: One to specify parameters for how the attention scores should be extracted and combined, and other to specify the intermediary model from which the attention scores should be extracted from\n",
    "* The user needs to instantiate the attention experiment with a function that tells the model how to run \n",
    " inference on the given model. The function header is specified below: \n",
    " \n",
    " ``` def initialize_attention_experiment(cls, intermediary_task_params, dataset_params, verbose=False) ```\n",
    " \n"
   ]
  },
  {
   "cell_type": "code",
   "execution_count": 29,
   "metadata": {
    "scrolled": true
   },
   "outputs": [
    {
     "name": "stderr",
     "output_type": "stream",
     "text": [
      "04/03/2020 18:07:04 - INFO - pytorch_pretrained_bert.tokenization -   loading vocabulary file https://s3.amazonaws.com/models.huggingface.co/bert/bert-base-uncased-vocab.txt from cache at ./cache/26bc1ad6c0ac742e9b52263248f6d0f00068293b33709fae12320c0e35ccfbbb.542ce4285a40d23a559526243235df47c5f75c197f04f37d1a0c124c32c9a084\n",
      "04/03/2020 18:07:05 - INFO - pytorch_pretrained_bert.modeling -   loading archive file https://s3.amazonaws.com/models.huggingface.co/bert/bert-base-uncased.tar.gz from cache at ./cache/9c41111e2de84547a463fd39217199738d1e3deb72d4fec4399e6e241983c6f0.ae3cef932725ca7a30cdcb93fc6e09150a55e2a130ec7af63975a16c153ae2ba\n",
      "04/03/2020 18:07:05 - INFO - pytorch_pretrained_bert.modeling -   extracting archive file ./cache/9c41111e2de84547a463fd39217199738d1e3deb72d4fec4399e6e241983c6f0.ae3cef932725ca7a30cdcb93fc6e09150a55e2a130ec7af63975a16c153ae2ba to temp dir /tmp/tmpjtow6906\n",
      "04/03/2020 18:07:08 - INFO - pytorch_pretrained_bert.modeling -   Model config {\n",
      "  \"attention_probs_dropout_prob\": 0.1,\n",
      "  \"hidden_act\": \"gelu\",\n",
      "  \"hidden_dropout_prob\": 0.1,\n",
      "  \"hidden_size\": 768,\n",
      "  \"initializer_range\": 0.02,\n",
      "  \"intermediate_size\": 3072,\n",
      "  \"max_position_embeddings\": 512,\n",
      "  \"num_attention_heads\": 12,\n",
      "  \"num_hidden_layers\": 12,\n",
      "  \"type_vocab_size\": 2,\n",
      "  \"vocab_size\": 30522\n",
      "}\n",
      "\n",
      "04/03/2020 18:07:11 - INFO - pytorch_pretrained_bert.modeling -   Weights of BertForMultitaskWithFeaturesOnTop not initialized from pretrained model: ['tok_classifier.out.0.weight', 'tok_classifier.out.0.bias', 'tok_classifier.enricher.0.weight', 'tok_classifier.enricher.0.bias', 'cls_classifier.weight', 'cls_classifier.bias']\n",
      "04/03/2020 18:07:11 - INFO - pytorch_pretrained_bert.modeling -   Weights from pretrained model not used in BertForMultitaskWithFeaturesOnTop: ['cls.predictions.bias', 'cls.predictions.transform.dense.weight', 'cls.predictions.transform.dense.bias', 'cls.predictions.transform.LayerNorm.gamma', 'cls.predictions.transform.LayerNorm.beta', 'cls.predictions.decoder.weight', 'cls.seq_relationship.weight', 'cls.seq_relationship.bias']\n",
      "04/03/2020 18:07:13 - INFO - pytorch_pretrained_bert.modeling -   loading archive file https://s3.amazonaws.com/models.huggingface.co/bert/bert-base-uncased.tar.gz from cache at ./cache/9c41111e2de84547a463fd39217199738d1e3deb72d4fec4399e6e241983c6f0.ae3cef932725ca7a30cdcb93fc6e09150a55e2a130ec7af63975a16c153ae2ba\n",
      "04/03/2020 18:07:13 - INFO - pytorch_pretrained_bert.modeling -   extracting archive file ./cache/9c41111e2de84547a463fd39217199738d1e3deb72d4fec4399e6e241983c6f0.ae3cef932725ca7a30cdcb93fc6e09150a55e2a130ec7af63975a16c153ae2ba to temp dir /tmp/tmpbaots_ew\n",
      "04/03/2020 18:07:16 - INFO - pytorch_pretrained_bert.modeling -   Model config {\n",
      "  \"attention_probs_dropout_prob\": 0.1,\n",
      "  \"hidden_act\": \"gelu\",\n",
      "  \"hidden_dropout_prob\": 0.1,\n",
      "  \"hidden_size\": 768,\n",
      "  \"initializer_range\": 0.02,\n",
      "  \"intermediate_size\": 3072,\n",
      "  \"max_position_embeddings\": 512,\n",
      "  \"num_attention_heads\": 12,\n",
      "  \"num_hidden_layers\": 12,\n",
      "  \"type_vocab_size\": 2,\n",
      "  \"vocab_size\": 30522\n",
      "}\n",
      "\n"
     ]
    },
    {
     "name": "stdout",
     "output_type": "stream",
     "text": [
      "Instantiated joint model with pretrained weights.\n",
      "Succesfully loaded in attention experiment!\n"
     ]
    }
   ],
   "source": [
    "attention_dataloader = dataset.return_dataloader(batch_size=params.intermediary_task['attention']['attention_extraction_batch_size']) \n",
    "attention_experiment = AttentionExperiment.initialize_attention_experiment(params.intermediary_task, params.dataset, verbose=True)"
   ]
  },
  {
   "cell_type": "markdown",
   "metadata": {},
   "source": [
    "```extract_attention_scores()``` works out of the box because the attention experiment has the config file saved, and knows what BERT model to use/load in, which layers to extract the attention scores from, and what the inference function is that should be used on this particular BERT model.\n",
    "\n",
    "Attention_scores is then a list of dictionaries. The keys in this dictionary are the specific layers of a BERT model and the values are the corresponding attention distributions extracted from that particular layer."
   ]
  },
  {
   "cell_type": "code",
   "execution_count": 30,
   "metadata": {},
   "outputs": [
    {
     "data": {
      "application/vnd.jupyter.widget-view+json": {
       "model_id": "f12279b1eaa54d359382cf0fe16ef2e4",
       "version_major": 2,
       "version_minor": 0
      },
      "text/plain": [
       "HBox(children=(FloatProgress(value=1.0, bar_style='info', max=1.0), HTML(value='')))"
      ]
     },
     "metadata": {},
     "output_type": "display_data"
    },
    {
     "name": "stdout",
     "output_type": "stream",
     "text": [
      "\n"
     ]
    }
   ],
   "source": [
    "attention_scores = attention_experiment.extract_attention_scores(attention_dataloader)"
   ]
  },
  {
   "cell_type": "code",
   "execution_count": 31,
   "metadata": {},
   "outputs": [
    {
     "data": {
      "text/plain": [
       "Length: 324 Keys: dict_keys(['pre_ids', 'masks', 'pre_lens', 'post_in_ids', 'post_out_ids', 'pre_tok_label_ids', 'post_tok_label_ids', 'rel_ids', 'pos_ids', 'categories', 'index', 'bias_label'])"
      ]
     },
     "execution_count": 31,
     "metadata": {},
     "output_type": "execute_result"
    }
   ],
   "source": [
    "dataset"
   ]
  },
  {
   "cell_type": "code",
   "execution_count": 32,
   "metadata": {},
   "outputs": [],
   "source": [
    "bias_indices = []\n",
    "for entry in dataset: \n",
    "    idx = entry['pre_tok_label_ids'].to(dtype=torch.int).flatten().tolist().index(1)\n",
    "    bias_indices.append(idx)"
   ]
  },
  {
   "cell_type": "code",
   "execution_count": 33,
   "metadata": {},
   "outputs": [],
   "source": [
    "from src.utils.attention_utils import return_idx_attention_dist\n",
    "attention_dist = return_idx_attention_dist(attention_scores, bias_indices)"
   ]
  },
  {
   "cell_type": "code",
   "execution_count": 34,
   "metadata": {},
   "outputs": [],
   "source": [
    "attention_dist_dict = {}\n",
    "for attention_dict in attention_dist: \n",
    "    for key, val in attention_dict.items():\n",
    "        if key not in attention_dist_dict: \n",
    "            attention_dist_dict[key] = val\n",
    "        # otherwise we need to concatenate the distributions together\n",
    "        else: \n",
    "            prev_val = attention_dist_dict[key]\n",
    "            attention_dist_dict[key] = torch.cat((prev_val, val), dim=0)"
   ]
  },
  {
   "cell_type": "code",
   "execution_count": 35,
   "metadata": {},
   "outputs": [],
   "source": [
    "labels = dataset.get_val('bias_label')"
   ]
  },
  {
   "cell_type": "code",
   "execution_count": 36,
   "metadata": {},
   "outputs": [],
   "source": [
    "labels_0_indices = (labels == 0).nonzero()\n",
    "labels_1_indices = labels.nonzero()"
   ]
  },
  {
   "cell_type": "code",
   "execution_count": 39,
   "metadata": {},
   "outputs": [],
   "source": [
    "from scipy.stats import entropy\n",
    "from src.utils.attention_utils import window_attention_dist"
   ]
  },
  {
   "cell_type": "code",
   "execution_count": 64,
   "metadata": {},
   "outputs": [
    {
     "name": "stdout",
     "output_type": "stream",
     "text": [
      "Layer 0: Entropy Epistemological: 2.9699798211578496 \t Entropy Framing 3.010976932906165\n",
      "Layer 1: Entropy Epistemological: 2.6974301091895616 \t Entropy Framing 2.7149727156596817\n",
      "Layer 2: Entropy Epistemological: 2.5900012077378833 \t Entropy Framing 2.6097387750747756\n",
      "Layer 3: Entropy Epistemological: 2.6268901026938574 \t Entropy Framing 2.633833535492714\n",
      "Layer 4: Entropy Epistemological: 2.8849388735353454 \t Entropy Framing 2.9235627281254737\n",
      "Layer 5: Entropy Epistemological: 2.6848199732047466 \t Entropy Framing 2.7148549627200724\n",
      "Layer 6: Entropy Epistemological: 2.6063626413502967 \t Entropy Framing 2.6157466684068953\n",
      "Layer 7: Entropy Epistemological: 2.482777354145838 \t Entropy Framing 2.5211734624919044\n",
      "Layer 8: Entropy Epistemological: 2.778633512741278 \t Entropy Framing 2.791751378862729\n",
      "Layer 9: Entropy Epistemological: 2.872147674402915 \t Entropy Framing 2.9267627881665534\n",
      "Layer 10: Entropy Epistemological: 2.4515067713319763 \t Entropy Framing 2.3189149431407157\n",
      "Layer 11: Entropy Epistemological: 2.7270900365734887 \t Entropy Framing 2.6600159365555336\n",
      "\n",
      "\n",
      "Average Entropy Over All Epistemological: 2.6977148398387527\n",
      "Average Entropy Over All Framing: 2.7035254023002673\n"
     ]
    }
   ],
   "source": [
    "avg_entropies_0 = []\n",
    "avg_entropies_1 = []\n",
    "for key, attention_dist in attention_dist_dict.items():\n",
    "    attention_dist_0 = attention_dist[labels_0_indices].squeeze() # epistemological \n",
    "    attention_dist_1 = attention_dist[labels_1_indices].squeeze() # framing\n",
    "    entropy_0 = entropy(attention_dist_0.t())\n",
    "    entropy_1 = entropy(attention_dist_1.t())\n",
    "    avg_entropy_0 = sum(entropy_0)/len(entropy_0)\n",
    "    avg_entropy_1 = sum(entropy_1)/len(entropy_1)\n",
    "    print(\"Layer {}: Entropy Epistemological: {} \\t Entropy Framing {}\".format(key, avg_entropy_0, avg_entropy_1))\n",
    "    avg_entropies_0.append(avg_entropy_0)\n",
    "    avg_entropies_1.append(avg_entropy_1)\n",
    "\n",
    "print(\"\\n\")\n",
    "print(\"Average Entropy Over All Epistemological: {}\".format(sum(avg_entropies_0)/len(avg_entropies_0)))\n",
    "print(\"Average Entropy Over All Framing: {}\".format(sum(avg_entropies_1)/len(avg_entropies_1)))"
   ]
  },
  {
   "cell_type": "code",
   "execution_count": 85,
   "metadata": {},
   "outputs": [
    {
     "name": "stdout",
     "output_type": "stream",
     "text": [
      "Layer 0: Entropy Epistemological: 2.104026387545688 \t Entropy Framing 2.127955666903792\n",
      "Layer 1: Entropy Epistemological: 1.990709040775772 \t Entropy Framing 1.9842406053261217\n",
      "Layer 2: Entropy Epistemological: 1.9090724055432091 \t Entropy Framing 1.8980930456386997\n",
      "Layer 3: Entropy Epistemological: 1.9572476823467853 \t Entropy Framing 1.9513696520199328\n",
      "Layer 4: Entropy Epistemological: 2.029124992938081 \t Entropy Framing 2.050512483260902\n",
      "Layer 5: Entropy Epistemological: 1.8802496347545592 \t Entropy Framing 1.9070896785247502\n",
      "Layer 6: Entropy Epistemological: 1.8754660698993146 \t Entropy Framing 1.8614262371814896\n",
      "Layer 7: Entropy Epistemological: 1.7494005757915088 \t Entropy Framing 1.7689679226851815\n",
      "Layer 8: Entropy Epistemological: 1.9188331946853763 \t Entropy Framing 1.8532549339562214\n",
      "Layer 9: Entropy Epistemological: 1.9267516727289877 \t Entropy Framing 1.9557632363488522\n",
      "Layer 10: Entropy Epistemological: 1.5355080543470776 \t Entropy Framing 1.29558250528251\n",
      "Layer 11: Entropy Epistemological: 1.709408125601524 \t Entropy Framing 1.473831828004621\n",
      "\n",
      "\n",
      "Average Entropy Over All Epistemological: 1.88214981974649\n",
      "Average Entropy Over All Framing: 1.8440073162610895\n"
     ]
    }
   ],
   "source": [
    "avg_entropies_0 = []\n",
    "avg_entropies_1 = []\n",
    "for key, attention_dist in attention_dist_dict.items():\n",
    "    windowed_attention_dist = window_attention_dist(attention_dist, bias_indices, window_size=5)\n",
    "    normalized_windowed_attention_dist = windowed_attention_dist / torch.sum(windowed_attention_dist, dim=1, keepdim=True)\n",
    "    \n",
    "    attention_dist_0 = normalized_windowed_attention_dist[labels_0_indices].squeeze() # epistemological \n",
    "    attention_dist_1 = normalized_windowed_attention_dist[labels_1_indices].squeeze() # framing\n",
    "    entropy_0 = entropy(attention_dist_0.t())\n",
    "    entropy_1 = entropy(attention_dist_1.t())\n",
    "    avg_entropy_0 = sum(entropy_0)/len(entropy_0)\n",
    "    avg_entropy_1 = sum(entropy_1)/len(entropy_1)\n",
    "    print(\"Layer {}: Entropy Epistemological: {} \\t Entropy Framing {}\".format(key, avg_entropy_0, avg_entropy_1))\n",
    "    avg_entropies_0.append(avg_entropy_0)\n",
    "    avg_entropies_1.append(avg_entropy_1)\n",
    "\n",
    "print(\"\\n\")\n",
    "print(\"Average Entropy Over All Epistemological: {}\".format(sum(avg_entropies_0)/len(avg_entropies_0)))\n",
    "print(\"Average Entropy Over All Framing: {}\".format(sum(avg_entropies_1)/len(avg_entropies_1)))"
   ]
  },
  {
   "cell_type": "code",
   "execution_count": null,
   "metadata": {},
   "outputs": [],
   "source": []
  },
  {
   "cell_type": "code",
   "execution_count": null,
   "metadata": {},
   "outputs": [],
   "source": []
  }
 ],
 "metadata": {
  "kernelspec": {
   "display_name": "Python 3",
   "language": "python",
   "name": "python3"
  },
  "language_info": {
   "codemirror_mode": {
    "name": "ipython",
    "version": 3
   },
   "file_extension": ".py",
   "mimetype": "text/x-python",
   "name": "python",
   "nbconvert_exporter": "python",
   "pygments_lexer": "ipython3",
   "version": "3.6.8"
  }
 },
 "nbformat": 4,
 "nbformat_minor": 2
}
